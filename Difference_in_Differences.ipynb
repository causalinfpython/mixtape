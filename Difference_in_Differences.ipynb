{
  "nbformat": 4,
  "nbformat_minor": 0,
  "metadata": {
    "kernelspec": {
      "name": "python3",
      "display_name": "Python 3.8.5 64-bit",
      "metadata": {
        "interpreter": {
          "hash": "aee8b7b246df8f9039afb4144a1f6fd8d2ca17a180786b69acc140d282b71a49"
        }
      }
    },
    "language_info": {
      "codemirror_mode": {
        "name": "ipython",
        "version": 3
      },
      "file_extension": ".py",
      "mimetype": "text/x-python",
      "name": "python",
      "nbconvert_exporter": "python",
      "pygments_lexer": "ipython3",
      "version": "3.8.5-final"
    },
    "colab": {
      "name": "Difference_in_Differences.ipynb",
      "provenance": []
    }
  },
  "cells": [
    {
      "cell_type": "markdown",
      "metadata": {
        "id": "fOnlkG-gy-7F"
      },
      "source": [
        "## Welcome\n",
        "\n",
        "This is material for the **Difference-in-Differences** chapter in Scott Cunningham's book, [Causal Inference: The Mixtape.](https://mixtape.scunning.com/)\n"
      ]
    },
    {
      "cell_type": "code",
      "metadata": {
        "id": "u-f1gDmhy-7J"
      },
      "source": [
        "import numpy as np\n",
        "import pandas as pd\n",
        "import statsmodels.api as sm\n",
        "import statsmodels.formula.api as smf\n",
        "\n",
        "import plotnine as p"
      ],
      "execution_count": null,
      "outputs": []
    },
    {
      "cell_type": "code",
      "metadata": {
        "id": "0bXEr2Gry-7M"
      },
      "source": [
        "import ssl\n",
        "ssl._create_default_https_context = ssl._create_unverified_context\n",
        "\n",
        "# read data\n",
        "def read_data(file):\n",
        "    return pd.read_stata(\"https://raw.github.com/scunning1975/mixtape/master/\" + file)"
      ],
      "execution_count": null,
      "outputs": []
    },
    {
      "cell_type": "code",
      "metadata": {
        "id": "3RkpEgIsy-7N"
      },
      "source": [
        "abortion = read_data('abortion.dta')\n",
        "abortion = abortion[~pd.isnull(abortion.lnr)]\n",
        "abortion_bf15 = abortion[abortion.bf15==1]"
      ],
      "execution_count": null,
      "outputs": []
    },
    {
      "cell_type": "code",
      "metadata": {
        "id": "b_9Yv0avy-7O"
      },
      "source": [
        "formula = (\n",
        "    \"lnr ~ C(repeal)*C(year) + C(fip)\"\n",
        "    \" + acc + ir + pi + alcohol + crack + poverty + income + ur\"\n",
        ")\n",
        "\n",
        "reg = (\n",
        "    smf\n",
        "    .wls(formula, data=abortion_bf15, weights=abortion_bf15.totpop.values)\n",
        "    .fit(\n",
        "        cov_type='cluster', \n",
        "        cov_kwds={'groups': abortion_bf15.fip.values}, \n",
        "        method='pinv')\n",
        ")\n"
      ],
      "execution_count": null,
      "outputs": []
    },
    {
      "cell_type": "code",
      "metadata": {
        "id": "uO0C1HOyy-7P"
      },
      "source": [
        "reg.summary()"
      ],
      "execution_count": null,
      "outputs": []
    },
    {
      "cell_type": "code",
      "metadata": {
        "id": "aEUUkQ83y-7P"
      },
      "source": [
        "abortion_plot = pd.DataFrame(\n",
        "    {\n",
        "        'sd': reg.bse['C(repeal)[T.1.0]:C(year)[T.1986.0]':'C(repeal)[T.1.0]:C(year)[T.2000.0]'],\n",
        "        'mean': reg.params['C(repeal)[T.1.0]:C(year)[T.1986.0]':'C(repeal)[T.1.0]:C(year)[T.2000.0]'],\n",
        "        'year': np.arange(1986, 2001)\n",
        "    })\n",
        "abortion_plot['lb'] = abortion_plot['mean'] - abortion_plot['sd']*1.96\n",
        "abortion_plot['ub'] = abortion_plot['mean'] + abortion_plot['sd']*1.96\n",
        "\n",
        "(\n",
        "    p.ggplot(abortion_plot, p.aes(x = 'year', y = 'mean')) + \n",
        "    p.geom_rect(p.aes(xmin=1985, xmax=1992, ymin=-np.inf, ymax=np.inf), fill=\"cyan\", alpha = 0.01) +\n",
        "    p.geom_point() +\n",
        "    p.geom_text(p.aes(label = 'year'), ha='right') +\n",
        "    p.geom_hline(yintercept = 0) +\n",
        "    p.geom_errorbar(p.aes(ymin = 'lb', ymax = 'ub'), width = 0.2,\n",
        "                    position = p.position_dodge(0.05)) +\n",
        "    p.labs(title= \"Estimated effect of abortion legalization on gonorrhea\")\n",
        ")"
      ],
      "execution_count": null,
      "outputs": []
    },
    {
      "cell_type": "markdown",
      "metadata": {
        "id": "o2RG3euMy-7Q"
      },
      "source": [
        "#### Questions\n",
        "- Describe in your own words the testable predictions from the roll out of repeal versus Roe in the population?  In other words, describe the behavior of the DD coefficients under this regression.  \n",
        "- Do we find evidence consistent with this in our DD analysis?  List all the evidence for and against the hypothesis in this analysis. \n",
        "- Does it appear that there was an effect in the period where Roe has not fully caught up?\n",
        "\n",
        "\n"
      ]
    },
    {
      "cell_type": "code",
      "metadata": {
        "id": "b2p9RKL7y-7R"
      },
      "source": [
        "abortion = read_data('abortion.dta')\n",
        "abortion = abortion[~pd.isnull(abortion.lnr)]\n",
        "\n",
        "abortion['yr'] = 0\n",
        "abortion.loc[(abortion.younger==1) & (abortion.repeal==1), 'yr'] = 1\n",
        "\n",
        "abortion['wm'] = 0\n",
        "abortion.loc[(abortion.wht==1) & (abortion.male==1), 'wm'] = 1\n",
        "\n",
        "abortion['wf'] = 0\n",
        "abortion.loc[(abortion.wht==1) & (abortion.male==0), 'wf'] = 1\n",
        "\n",
        "abortion['bm'] = 0\n",
        "abortion.loc[(abortion.wht==0) & (abortion.male==1), 'bm'] = 1\n",
        "\n",
        "abortion['bf'] = 0\n",
        "abortion.loc[(abortion.wht==0) & (abortion.male==0), 'bf'] = 1\n",
        "\n",
        "\n",
        "abortion_filt = abortion[(abortion.bf==1) & (abortion.age.isin([15,25]))]\n",
        "\n",
        "reg = (\n",
        "    smf\n",
        "    .wls(\"\"\"lnr ~ C(repeal)*C(year) + C(younger)*C(repeal) + C(younger)*C(year) + \n",
        "C(yr)*C(year) + C(fip)*t + acc + ir + pi + alcohol + crack + poverty + income + ur\"\"\", \n",
        "        data=abortion_filt, weights=abortion_filt.totpop.values)\n",
        "    .fit(\n",
        "        cov_type='cluster', \n",
        "        cov_kwds={'groups': abortion_filt.fip.values}, \n",
        "        method='pinv')\n",
        ")\n",
        "\n",
        "abortion_plot = pd.DataFrame({'sd': reg.bse['C(yr)[T.1]:C(year)[T.1986.0]':'C(yr)[T.1]:C(year)[T.2000.0]'],\n",
        "             'mean': reg.params['C(yr)[T.1]:C(year)[T.1986.0]':'C(yr)[T.1]:C(year)[T.2000.0]'],\n",
        "             'year':np.arange(1986, 2001)})\n",
        "\n",
        "abortion_plot['lb'] = abortion_plot['mean'] - abortion_plot['sd']*1.96\n",
        "abortion_plot['ub'] = abortion_plot['mean'] + abortion_plot['sd']*1.96\n",
        "\n",
        "\n",
        "p.ggplot(abortion_plot, p.aes(x = 'year', y = 'mean')) + \\\n",
        "    p.geom_rect(p.aes(xmin=1986, xmax=1991, ymin=-np.inf, ymax=np.inf), fill = \"cyan\", alpha = 0.01)+\\\n",
        "    p.geom_point()+\\\n",
        "    p.geom_text(p.aes(label = 'year'), ha='right')+\\\n",
        "    p.geom_hline(yintercept = 0) +\\\n",
        "    p.geom_errorbar(p.aes(ymin = 'lb', ymax = 'ub'), width = 0.2,\n",
        "                position = p.position_dodge(0.05)) +\\\n",
        "    p.labs(title= \"Estimated effect of abortion legalization on gonorrhea\")"
      ],
      "execution_count": null,
      "outputs": []
    },
    {
      "cell_type": "code",
      "metadata": {
        "id": "c7fiCUg7y-7T"
      },
      "source": [
        "reg.summary()"
      ],
      "execution_count": null,
      "outputs": []
    },
    {
      "cell_type": "markdown",
      "metadata": {
        "id": "Dx8Q0ZrRy-7T"
      },
      "source": [
        "#### Questions\n",
        "- Why did we implement a triple difference?  What problems does this solve and to what degree do you feel it is a necessary check?\n",
        "- Describe the evidence for and against the abortion selection hypothesis when using triple difference?  How is it consistent with our DD and how is it not?\n"
      ]
    },
    {
      "cell_type": "code",
      "metadata": {
        "id": "kHBKW602y-7U"
      },
      "source": [
        "abortion_filt = abortion[(abortion.race == 2) & (abortion.sex == 2) & (abortion.age == 20)]\n",
        "\n",
        "regdd = (\n",
        "    smf\n",
        "    .wls(\"\"\"lnr ~ C(repeal)*C(year) + C(fip) + acc + ir + pi + alcohol+ crack + poverty+ income+ ur\"\"\", \n",
        "        data=abortion_filt, weights=abortion_filt.totpop.values)\n",
        "    .fit(\n",
        "        cov_type='cluster', \n",
        "        cov_kwds={'groups': abortion_filt.fip.values}, \n",
        "        method='pinv')\n",
        ")\n",
        "\n",
        "regdd.summary()"
      ],
      "execution_count": null,
      "outputs": []
    },
    {
      "cell_type": "code",
      "metadata": {
        "id": "vrGCI5Kgy-7U"
      },
      "source": [
        "abortion_filt = abortion[(abortion.bf == 1) & abortion.age.isin([20,25])]\n",
        "\n",
        "regddd = (\n",
        "    smf\n",
        "    .wls(\"\"\"lnr ~ C(repeal)*C(year) + acc + ir + pi + alcohol + crack + poverty + income + ur\"\"\", \n",
        "        data=abortion_filt, weights=abortion_filt.totpop.values)\n",
        "    .fit(\n",
        "        cov_type='cluster', \n",
        "        cov_kwds={'groups': abortion_filt.fip.values}, \n",
        "        method='pinv')\n",
        ")\n",
        "\n",
        "regddd.summary()\n",
        "\n"
      ],
      "execution_count": null,
      "outputs": []
    },
    {
      "cell_type": "markdown",
      "metadata": {
        "id": "pVbBkOKyy-7V"
      },
      "source": [
        "#### Questions\n",
        "- Why did we suggest that conducting this additional analysis not conducted in the original study?\n",
        "- How convinced are you now of the abortion selection hypothesis?  Why/why not?\n",
        "- Could you have concluded this had you not exploited all of the testable predictions of the original table showing roll out across cohort and time?  \n",
        "- How important was our ``model`` to forming testable predictions and falsifications? \n",
        "\n",
        "## Cheng and Hoekstra (2013)"
      ]
    },
    {
      "cell_type": "code",
      "metadata": {
        "id": "9h-v5ui7y-7W"
      },
      "source": [
        "castle = read_data('castle.dta')\n",
        "crime1 = (\"jhcitizen_c\", \"jhpolice_c\", \n",
        "            \"murder\", \"homicide\", \n",
        "            \"robbery\", \"assault\", \"burglary\",\n",
        "            \"larceny\", \"motor\", \"robbery_gun_r\")\n",
        "demo = (\"emo\", \"blackm_15_24\", \"whitem_15_24\", \n",
        "          \"blackm_25_44\", \"whitem_25_44\")\n",
        "\n",
        "# variables dropped to prevent colinearity\n",
        "dropped_vars = (\"r20004\", \"r20014\",\n",
        "                  \"r20024\", \"r20034\",\n",
        "                  \"r20044\", \"r20054\",\n",
        "                  \"r20064\", \"r20074\",\n",
        "                  \"r20084\", \"r20094\",\n",
        "                  \"r20101\", \"r20102\", \"r20103\",\n",
        "                  \"r20104\", \"trend_9\", \"trend_46\",\n",
        "                  \"trend_49\", \"trend_50\", \"trend_51\")\n",
        "cols = pd.Series(castle.columns)\n",
        "trend_cols = set(cols[cols.str.contains('^trend')])\n",
        "lintrend = castle[trend_cols - set(dropped_vars)]"
      ],
      "execution_count": null,
      "outputs": []
    },
    {
      "cell_type": "code",
      "metadata": {
        "id": "jCRYfMWcy-7W"
      },
      "source": [
        "region = set(cols[cols.str.contains('^r20')])\n",
        "lintrend = set(cols[cols.str.contains('^trend')])\n",
        "\n",
        "exocrime = (\"l_lacerny\", \"l_motor\")\n",
        "spending = (\"l_exp_subsidy\", \"l_exp_pubwelfare\")\n",
        "xvar = (\n",
        "  \"blackm_15_24\", \"whitem_15_24\", \"blackm_25_44\", \"whitem_25_44\",\n",
        "  \"l_exp_subsidy\", \"l_exp_pubwelfare\",\n",
        "  \"l_police\", \"unemployrt\", \"poverty\", \n",
        "  \"l_income\", \"l_prisoner\", \"l_lagprisoner\"\n",
        ")\n",
        "\n",
        "law = (\"cdl\")\n",
        "\n",
        "dd_formula = \"l_homicide ~ {} + {} + {} + post + C(year) + C(sid)\".format(\n",
        "    \"+\".join(xvar), \n",
        "    \"+\".join(region),\n",
        "    \"+\".join(lintrend))\n",
        "\n",
        "#Fixed effect regression using post as treatment variable \n",
        "dd_reg = smf.wls(dd_formula,\n",
        "            data = castle, weights = castle['popwt']).fit(cov_type='cluster', cov_kwds={'groups':castle['sid']})\n",
        "dd_reg.summary()"
      ],
      "execution_count": null,
      "outputs": []
    },
    {
      "cell_type": "markdown",
      "metadata": {
        "id": "G3nvGQBry-7W"
      },
      "source": [
        "#### QUESTIONS\n",
        "\n",
        "- What effect does this analysis say reforming castle doctrine laws has on homicides?\n",
        "- What are the key parts of these legislative reforms that you think may be causing this result?\n",
        "- Explain what SUTVA requires in order for these estimates to be causal?\n",
        "- Assume there are spillovers to neighboring states created by castle doctrine reforms.  Does that imply that Cheng and Hoekstra's result is too large or too small?  Why/why not?\n"
      ]
    },
    {
      "cell_type": "code",
      "metadata": {
        "id": "jDFM9ujMy-7X"
      },
      "source": [
        "castle['time_til'] = castle['year'] - castle['treatment_date']\n",
        "\n",
        "castle['lead1'] = castle['time_til'] == -1\n",
        "castle['lead2'] = castle['time_til'] == -2\n",
        "castle['lead3'] = castle['time_til'] == -3\n",
        "castle['lead4'] = castle['time_til'] == -4\n",
        "castle['lead5'] = castle['time_til'] == -5\n",
        "castle['lead6'] = castle['time_til'] == -6\n",
        "castle['lead7'] = castle['time_til'] == -7\n",
        "castle['lead8'] = castle['time_til'] == -8\n",
        "castle['lead9'] = castle['time_til'] == -9\n",
        "castle['lag0'] = castle['time_til'] == 0 \n",
        "castle['lag1'] = castle['time_til'] == 1 \n",
        "castle['lag2'] = castle['time_til'] == 2 \n",
        "castle['lag3'] = castle['time_til'] == 3 \n",
        "castle['lag4'] = castle['time_til'] == 4 \n",
        "castle['lag5'] = castle['time_til'] == 5 \n",
        "\n",
        "formula = \"l_homicide ~ r20001 + r20002 + r20003 + r20011 + r20012 + r20013 + r20021 + r20022 + r20023 + r20031 + r20032 + r20033 + r20041 + r20042 + r20043 + r20051 + r20052 + r20053 + r20061 + r20062 + r20063 + r20071 + r20072 + r20073 + r20081 + r20082 + r20083 + r20091 + r20092 + r20093 + lead1 + lead2 + lead3 + lead4 + lead5 + lead6 + lead7 + lead8 + lead9 + lag1 + lag2 + lag3 + lag4 + lag5 + C(year) + C(state)\"\n",
        "\n",
        "event_study_formula = smf.wls(formula,\n",
        "            data = castle, weights = castle['popwt']).fit(cov_type='cluster', cov_kwds={'groups':castle['sid']})\n",
        "event_study_formula.summary()"
      ],
      "execution_count": null,
      "outputs": []
    },
    {
      "cell_type": "code",
      "metadata": {
        "id": "qol4Igh2y-7X"
      },
      "source": [
        "# grab the clustered standard errors\n",
        "# and average coefficient estimates\n",
        "# from the regression, label them accordingly\n",
        "# add a zero'th lag for plotting purposes\n",
        "\n",
        "leads = ['lead9[T.True]', 'lead8[T.True]', 'lead7[T.True]', 'lead6[T.True]', 'lead5[T.True]', 'lead4[T.True]', 'lead3[T.True]', 'lead2[T.True]', 'lead1[T.True]']\n",
        "lags = ['lag1[T.True]', 'lag2[T.True]', 'lag3[T.True]', 'lag4[T.True]', 'lag5[T.True]']\n",
        "\n",
        "leadslags_plot = pd.DataFrame({\n",
        "    'sd' : np.concatenate([np.sqrt(np.diag(event_study_formula.cov_params().loc[leads][leads])), np.array([0]), np.sqrt(np.diag(event_study_formula.cov_params().loc[lags][lags]))]),\n",
        "    'mean':  np.concatenate([event_study_formula.params[leads], np.array([0]), event_study_formula.params[lags]]),\n",
        "    'label': np.arange(-9, 6)}) \n",
        "\n",
        "leadslags_plot['lb'] = leadslags_plot['mean'] - leadslags_plot['sd']*1.96\n",
        "leadslags_plot['ub'] = leadslags_plot['mean'] + leadslags_plot['sd']*1.96\n",
        "\n",
        "# This version has a point-range at each\n",
        "# estimated lead or lag\n",
        "# comes down to stylistic preference at the\n",
        "# end of the day!\n",
        "p.ggplot(leadslags_plot, p.aes(x = 'label', y = 'mean',\n",
        "             ymin = 'lb', \n",
        "             ymax = 'ub')) +\\\n",
        "    p.geom_hline(yintercept = 0.035169444, color = \"red\") +\\\n",
        "    p.geom_pointrange() +\\\n",
        "    p.theme_minimal() +\\\n",
        "    p.xlab(\"Years before and after castle doctrine expansion\") +\\\n",
        "    p.ylab(\"log(Homicide Rate)\") +\\\n",
        "    p.geom_hline(yintercept = 0,\n",
        "             linetype = \"dashed\") +\\\n",
        "    p.geom_vline(xintercept = 0,\n",
        "             linetype = \"dashed\")\n",
        "\n"
      ],
      "execution_count": null,
      "outputs": []
    },
    {
      "cell_type": "markdown",
      "metadata": {
        "id": "dbzAe-gky-7X"
      },
      "source": [
        "#### QUESTIONS\n",
        "- Put into your own words why we estimated the pre-treatment leads?\n",
        "- Put into your own words what we expected to find?\n",
        "- How convinced are you by this analysis that parallel trends was likely to hold in Cheng and Hoekstra's data? \n"
      ]
    }
  ]
}