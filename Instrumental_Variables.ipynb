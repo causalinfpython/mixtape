{
 "cells": [
  {
   "cell_type": "markdown",
   "metadata": {
    "id": "WO_7gw5Sy6eR"
   },
   "source": [
    "## Welcome\n",
    "\n",
    "This is material for the **Instrumental Variables** chapter in Scott Cunningham's book, [Causal Inference: The Mixtape.](https://mixtape.scunning.com/)"
   ]
  },
  {
   "cell_type": "code",
   "execution_count": null,
   "metadata": {
    "id": "xlXKdukKyN5t"
   },
   "outputs": [],
   "source": [
    "!pip install -q linearmodels\n",
    "!pip install -q rpy2"
   ]
  },
  {
   "cell_type": "code",
   "execution_count": null,
   "metadata": {
    "id": "zP1ylByhy6eU"
   },
   "outputs": [],
   "source": [
    "import pandas as pd\n",
    "import numpy as np\n",
    "import statsmodels.api as sm\n",
    "import statsmodels.formula.api as smf\n",
    "from statsmodels.iolib.summary2 import summary_col\n",
    "from linearmodels.iv import IV2SLS\n",
    "from tabulate import tabulate"
   ]
  },
  {
   "cell_type": "code",
   "execution_count": null,
   "metadata": {
    "id": "ajdsVA_Iy6eV"
   },
   "outputs": [],
   "source": [
    "import ssl\n",
    "ssl._create_default_https_context = ssl._create_unverified_context\n",
    "\n",
    "def read_data(file):\n",
    "    full_path = \"https://raw.github.com/scunning1975/mixtape/master/\" + file\n",
    "    \n",
    "    return pd.read_stata(full_path)"
   ]
  },
  {
   "cell_type": "code",
   "execution_count": null,
   "metadata": {
    "id": "d4paaTtNy6eV"
   },
   "outputs": [],
   "source": [
    "def lm_robust(formula, data, group_col):\n",
    "    regression = sm.OLS.from_formula(formula, data = data).fit(cov_type=\"cluster\",cov_kwds={\"groups\":data[group_col]})\n",
    "    return regression"
   ]
  },
  {
   "cell_type": "markdown",
   "metadata": {
    "id": "lm1IKxVhy6eW"
   },
   "source": [
    "## Card"
   ]
  },
  {
   "cell_type": "code",
   "execution_count": null,
   "metadata": {
    "colab": {
     "base_uri": "https://localhost:8080/"
    },
    "id": "nLAF7989y6eW",
    "outputId": "aca595f8-bcc7-4da8-f05d-933980ba5571"
   },
   "outputs": [],
   "source": [
    "card = read_data(\"card.dta\")\n",
    "\n",
    "#OLS\n",
    "ols_reg = sm.OLS.from_formula(\"lwage ~ educ + exper + black + south + married + smsa\", \n",
    "              data = card).fit()\n",
    "\n",
    "print(ols_reg.summary())"
   ]
  },
  {
   "cell_type": "code",
   "execution_count": null,
   "metadata": {
    "id": "BD7xwfvH3seL"
   },
   "outputs": [],
   "source": [
    "card.dropna(subset = ['married'], inplace = True)"
   ]
  },
  {
   "cell_type": "code",
   "execution_count": null,
   "metadata": {
    "colab": {
     "base_uri": "https://localhost:8080/"
    },
    "id": "0nTjwGx9y6eW",
    "outputId": "9815e81a-873a-4fa2-8592-b795d8d4c537"
   },
   "outputs": [],
   "source": [
    "#2SLS\n",
    "iv_reg = IV2SLS.from_formula(\"lwage ~ 1 + exper + black + married + south + smsa + [educ ~ nearc4]\", card).fit()\n",
    "print(iv_reg.summary)"
   ]
  },
  {
   "cell_type": "markdown",
   "metadata": {
    "id": "0LKtrDyBy6eX"
   },
   "source": [
    "#### Questions\n",
    "- Interpret the coefficient on education when we used OLS versus when used 2SLS. \n",
    "- How does the estimated effect of education change when instrumenting with being close to a 4-year college?  That is, does the coefficient get larger or smaller compared to OLS?\n",
    "- If the only source of bias in our OLS regression was omitted heterogeneous ability, then will 2SLS be larger, smaller or the same as OLS estimate?  Why/why not?   \n",
    "- Is the finding of the causal effect of educating when using 2SLS, when compared to the estimate using OLS, consistent with ability bias?  What else do you think may be going on and why?\n",
    "- What sorts of individuals will go to college regardless of whether a college is near them?  What sorts of individuals will never go to a college even if one is near them?  And what sorts of people will go to a college if one is near them but won't go to college if it is not near them?\n",
    "\n",
    "## JIVE "
   ]
  },
  {
   "cell_type": "code",
   "execution_count": null,
   "metadata": {
    "colab": {
     "base_uri": "https://localhost:8080/",
     "height": 1000
    },
    "id": "g8JmYkSiy6eY",
    "outputId": "fefac6e2-d799-4dca-f714-1f32e3eaaea7",
    "scrolled": false
   },
   "outputs": [],
   "source": [
    "judge = read_data(\"judge_fe.dta\")\n",
    "judge['bailDate'] = (judge['bailDate'] - pd.to_datetime('1970-01-01')).dt.days.values\n",
    "\n",
    "# grouped variable names from the data set\n",
    "judge_pre = \"+\".join(judge.columns[judge.columns.str.contains('^judge_pre_[1-7]')])\n",
    "demo = \"+\".join(['black', 'age', 'male', 'white'])\n",
    "off = \"+\".join(['fel', 'mis', 'sum', 'F1', 'F2', 'F3', 'M1', 'M2', 'M3', 'M'])\n",
    "prior = \"+\".join(['priorCases', 'priorWI5', 'prior_felChar', 'prior_guilt', 'onePrior', 'threePriors'])\n",
    "control2 = \"+\".join(['day', 'day2', 'bailDate', 't1', 't2', 't3', 't4', 't5'])\n",
    "\n",
    "#formulas used in the OLS\n",
    "min_formula = \"guilt ~ jail3 + \" + control2\n",
    "max_formula = \"\"\"guilt ~ jail3 + possess + robbery + DUI1st + drugSell + \n",
    "                aggAss + {demo} + {prior} + {off} + {control2}\"\"\".format(demo=demo,\n",
    "                                                                        prior=prior,\n",
    "                                                                        off=off,\n",
    "                                                                        control2=control2)\n",
    "\n",
    "#max variables and min variables\n",
    "min_ols = sm.OLS.from_formula(min_formula, data = judge).fit()\n",
    "max_ols = sm.OLS.from_formula(max_formula, data = judge).fit()\n",
    "min_ols_est = round(min_ols.params.jail3, 3)\n",
    "max_ols_est = round(max_ols.params.jail3, 3)\n",
    "\n",
    "models = [min_ols, max_ols]\n",
    "model_names = ['Min. Variables', 'Max. variables']\n",
    "summary_col(models, float_format='%0.3f', model_names = model_names, regressor_order = ('jail3', 'day', 'day2', 'bailDate', 't1', 't2', 't3', 't4', 't5'))"
   ]
  },
  {
   "cell_type": "code",
   "execution_count": null,
   "metadata": {
    "colab": {
     "base_uri": "https://localhost:8080/"
    },
    "id": "-CQVo0LRy6eZ",
    "outputId": "b4fdfd72-ba1d-4c9a-e099-aef6a607d6e8"
   },
   "outputs": [],
   "source": [
    "#--- Instrumental Variables Estimations\n",
    "#-- 2sls main results\n",
    "#- Min and Max Control formulas\n",
    "min_formula = \"guilt ~ {control2} + [jail3 ~ {judge_pre}]\".format(control2=control2, judge_pre=judge_pre)\n",
    "max_formula = \"\"\"guilt ~ {demo} + possess + {prior} + robbery + {off} + DUI1st + {control2} + drugSell + aggAss +\n",
    "                    [jail3 ~ {judge_pre}]\"\"\".format(demo=demo,\n",
    "                                                    prior=prior,\n",
    "                                                    off=off,\n",
    "                                                    control2=control2,\n",
    "                                                   judge_pre=judge_pre)\n",
    "min_iv = IV2SLS.from_formula(min_formula, data = judge).fit()\n",
    "max_iv = IV2SLS.from_formula(max_formula, data = judge).fit()\n",
    "\n",
    "min_iv_est = round(min_iv.params.jail3, 3)\n",
    "max_iv_est = round(max_iv.params.jail3, 3)"
   ]
  },
  {
   "cell_type": "code",
   "execution_count": null,
   "metadata": {},
   "outputs": [],
   "source": [
    "print(min_iv.summary)"
   ]
  },
  {
   "cell_type": "code",
   "execution_count": null,
   "metadata": {
    "colab": {
     "base_uri": "https://localhost:8080/"
    },
    "id": "DCitd1opy6eb",
    "outputId": "243fe680-f663-4e26-cec2-eb22bebe1695"
   },
   "outputs": [],
   "source": [
    "print(max_iv.summary)"
   ]
  },
  {
   "cell_type": "code",
   "execution_count": null,
   "metadata": {
    "id": "sFPQYNbjy6eb"
   },
   "outputs": [],
   "source": [
    "%%capture\n",
    "from rpy2 import robjects\n",
    "from rpy2.robjects import pandas2ri\n",
    "from rpy2.robjects.packages import importr\n",
    "pandas2ri.activate()\n",
    "utils = importr('utils')\n",
    "utils.install_packages('SteinIV')\n",
    "SteinIV = importr('SteinIV')"
   ]
  },
  {
   "cell_type": "code",
   "execution_count": null,
   "metadata": {
    "id": "YaaIYIAWy6eb"
   },
   "outputs": [],
   "source": [
    "#-- JIVE main results\n",
    "#- minimum controls\n",
    "y = judge['guilt']\n",
    "X_min = judge.loc[:, ['jail3', 'day', 'day2', 't1', 't2', 't3', 't4', 't5', 'bailDate']]\n",
    "X_min['intercept'] = 1\n",
    "\n",
    "Z_min = judge.loc[:, judge_pre.split('+') + ['day', 'day2', 't1', 't2', 't3', 't4', 't5', 'bailDate']]\n",
    "Z_min['intercept'] = 1"
   ]
  },
  {
   "cell_type": "code",
   "execution_count": null,
   "metadata": {
    "id": "gxBcdrley6ec"
   },
   "outputs": [],
   "source": [
    "y = robjects.globalenv['y'] = y\n",
    "X_min = robjects.globalenv['X_min'] = np.array(X_min)\n",
    "Z_min = robjects.globalenv['Z_min'] = np.array(Z_min)"
   ]
  },
  {
   "cell_type": "code",
   "execution_count": null,
   "metadata": {
    "id": "FOUrPWYNzHs3"
   },
   "outputs": [],
   "source": [
    "min_jive = SteinIV.jive_est(y = y, X = X_min, Z = Z_min)[0][0]"
   ]
  },
  {
   "cell_type": "code",
   "execution_count": null,
   "metadata": {
    "id": "AsY2mwUVy6ec"
   },
   "outputs": [],
   "source": [
    "X_max = judge.loc[:, ['jail3', 'white', 'age', 'male', 'black',\n",
    "         'possess', 'robbery', \n",
    "         'prior_guilt', 'onePrior', 'priorWI5', 'prior_felChar', 'priorCases',\n",
    "         'DUI1st', 'drugSell', 'aggAss', 'fel', 'mis', 'sum',\n",
    "         'threePriors',\n",
    "         'F1', 'F2', 'F3',\n",
    "         'M', 'M1', 'M2', 'M3',\n",
    "         'day', 'day2', 'bailDate', \n",
    "         't1', 't2', 't3', 't4', 't5']]\n",
    "\n",
    "X_max['intercept'] = 1\n",
    "\n",
    "Z_max = judge.loc[:, judge_pre.split('+') + ['white', 'age', 'male', 'black',\n",
    "         'possess', 'robbery', \n",
    "         'prior_guilt', 'onePrior', 'priorWI5', 'prior_felChar', 'priorCases',\n",
    "         'DUI1st', 'drugSell', 'aggAss', 'fel', 'mis', 'sum',\n",
    "         'threePriors',\n",
    "         'F1', 'F2', 'F3',\n",
    "         'M', 'M1', 'M2', 'M3',\n",
    "         'day', 'day2', 'bailDate', \n",
    "         't1', 't2', 't3', 't4', 't5']]\n",
    "Z_max['intercept'] = 1\n",
    "\n",
    "X_max = robjects.globalenv['X_max'] = np.array(X_max)\n",
    "Z_max = robjects.globalenv['Z_max'] = np.array(Z_max)"
   ]
  },
  {
   "cell_type": "code",
   "execution_count": null,
   "metadata": {
    "id": "r9uGA-jZy6ec"
   },
   "outputs": [],
   "source": [
    "max_jive = SteinIV.jive_est(y = y, X = X_max, Z = Z_max)[0][0]"
   ]
  },
  {
   "cell_type": "code",
   "execution_count": null,
   "metadata": {
    "colab": {
     "base_uri": "https://localhost:8080/"
    },
    "id": "hiBF7csQ-ntf",
    "outputId": "f381e3f5-2f87-445d-9532-de19f75915d1"
   },
   "outputs": [],
   "source": [
    "min_jive_est = float(np.round(min_jive, 3))\n",
    "max_jive_est = float(np.round(max_jive, 3))\n",
    "\n",
    "print(\"Min. JIVE, Max. JIVE\")\n",
    "print(min_jive_est, max_jive_est)"
   ]
  },
  {
   "cell_type": "code",
   "execution_count": null,
   "metadata": {
    "colab": {
     "base_uri": "https://localhost:8080/"
    },
    "id": "c5eENCQO-8aR",
    "outputId": "6d9597d2-81ab-4333-8b1e-2f326ab46043"
   },
   "outputs": [],
   "source": [
    "# Report all estimates\n",
    "estimates = [[min_ols_est, min_iv_est, min_jive_est], [max_ols_est, max_iv_est, max_jive_est]]\n",
    "col_names = [\"OLS\", \"2SLS\", \"JIVE\"]\n",
    "print(tabulate(estimates, headers = col_names, tablefmt=\"fancy_grid\"))"
   ]
  },
  {
   "cell_type": "markdown",
   "metadata": {
    "id": "PL4DuGfcy6ed"
   },
   "source": [
    "#### QUESTION\n",
    "- Interpret the coefficient on our two IV estimators?  How do they compare to our OLS estimate?\n",
    "- What is your conclusion about the effect that cash bail has on adjudication?  Speculate about the channels by which cash bail has this effect. \n",
    "- Describe the four sub-populations (e.g., always takers, never takers, defiers and compliers) in the context of Stevenson's study.\n",
    "- Discuss the plausibility of each of the 5 IV assumptions in Stevenson's case.  \n",
    "- Draw a DAG that must be true for Stevenson's JIVE estimates to be consistent?  Which assumptions are contained in this DAG and which ones are not easily visualized? \n",
    "- Assume judge A is stricter than judge B.  Monotonicity requires that if judge B sets a lower bail amount for that individual, then judge A will always set a higher for that individual hypothetically than judge B.  Provide some examples where you think this may be violated.  \n",
    "\n",
    "\n"
   ]
  }
 ],
 "metadata": {
  "colab": {
   "collapsed_sections": [],
   "name": "Instrumental_Variables.ipynb",
   "provenance": []
  },
  "kernelspec": {
   "display_name": "Python 3",
   "language": "python",
   "name": "python3"
  },
  "language_info": {
   "codemirror_mode": {
    "name": "ipython",
    "version": 3
   },
   "file_extension": ".py",
   "mimetype": "text/x-python",
   "name": "python",
   "nbconvert_exporter": "python",
   "pygments_lexer": "ipython3",
   "version": "3.8.8"
  },
  "toc": {
   "base_numbering": 1,
   "nav_menu": {},
   "number_sections": true,
   "sideBar": true,
   "skip_h1_title": false,
   "title_cell": "Table of Contents",
   "title_sidebar": "Contents",
   "toc_cell": false,
   "toc_position": {},
   "toc_section_display": true,
   "toc_window_display": false
  }
 },
 "nbformat": 4,
 "nbformat_minor": 1
}
