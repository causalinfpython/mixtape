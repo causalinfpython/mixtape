{
  "cells": [
    {
      "cell_type": "markdown",
      "metadata": {
        "id": "WO_7gw5Sy6eR"
      },
      "source": [
        "## Welcome\n",
        "\n",
        "This is material for the **Instrumental Variables** chapter in Scott Cunningham's book, [Causal Inference: The Mixtape.](https://mixtape.scunning.com/)"
      ]
    },
    {
      "cell_type": "code",
      "execution_count": 76,
      "metadata": {
        "id": "xlXKdukKyN5t",
        "collapsed": true
      },
      "outputs": [],
      "source": [
        "!pip install -q linearmodels\n",
        "!pip install -q rpy2"
      ]
    },
    {
      "cell_type": "code",
      "execution_count": null,
      "metadata": {
        "id": "zP1ylByhy6eU"
      },
      "outputs": [],
      "source": [
        "import pandas as pd\n",
        "import numpy as np\n",
        "import statsmodels.api as sm\n",
        "import statsmodels.formula.api as smf\n",
        "from statsmodels.iolib.summary2 import summary_col\n",
        "from linearmodels.iv import IV2SLS\n",
        "from tabulate import tabulate"
      ]
    },
    {
      "cell_type": "code",
      "execution_count": null,
      "metadata": {
        "id": "ajdsVA_Iy6eV"
      },
      "outputs": [],
      "source": [
        "import ssl\n",
        "ssl._create_default_https_context = ssl._create_unverified_context\n",
        "\n",
        "def read_data(file):\n",
        "    full_path = \"https://raw.github.com/scunning1975/mixtape/master/\" + file\n",
        "    \n",
        "    return pd.read_stata(full_path)"
      ]
    },
    {
      "cell_type": "code",
      "execution_count": null,
      "metadata": {
        "id": "d4paaTtNy6eV"
      },
      "outputs": [],
      "source": [
        "def lm_robust(formula, data, group_col):\n",
        "    regression = sm.OLS.from_formula(formula, data = data).fit(cov_type=\"cluster\",cov_kwds={\"groups\":data[group_col]})\n",
        "    return regression"
      ]
    },
    {
      "cell_type": "markdown",
      "metadata": {
        "id": "lm1IKxVhy6eW"
      },
      "source": [
        "## Card"
      ]
    },
    {
      "cell_type": "code",
      "execution_count": null,
      "metadata": {
        "id": "nLAF7989y6eW",
        "colab": {
          "base_uri": "https://localhost:8080/"
        },
        "outputId": "aca595f8-bcc7-4da8-f05d-933980ba5571"
      },
      "outputs": [
        {
          "output_type": "stream",
          "name": "stdout",
          "text": [
            "                            OLS Regression Results                            \n",
            "==============================================================================\n",
            "Dep. Variable:                  lwage   R-squared:                       0.305\n",
            "Model:                            OLS   Adj. R-squared:                  0.304\n",
            "Method:                 Least Squares   F-statistic:                     219.2\n",
            "Date:                Fri, 14 Jan 2022   Prob (F-statistic):          1.97e-232\n",
            "Time:                        05:38:31   Log-Likelihood:                -1273.9\n",
            "No. Observations:                3003   AIC:                             2562.\n",
            "Df Residuals:                    2996   BIC:                             2604.\n",
            "Df Model:                           6                                         \n",
            "Covariance Type:            nonrobust                                         \n",
            "==============================================================================\n",
            "                 coef    std err          t      P>|t|      [0.025      0.975]\n",
            "------------------------------------------------------------------------------\n",
            "Intercept      5.0633      0.064     79.437      0.000       4.938       5.188\n",
            "educ           0.0712      0.003     20.438      0.000       0.064       0.078\n",
            "exper          0.0342      0.002     15.422      0.000       0.030       0.038\n",
            "black         -0.1660      0.018     -9.426      0.000      -0.201      -0.131\n",
            "south         -0.1316      0.015     -8.788      0.000      -0.161      -0.102\n",
            "married       -0.0359      0.003    -10.547      0.000      -0.043      -0.029\n",
            "smsa           0.1758      0.015     11.372      0.000       0.145       0.206\n",
            "==============================================================================\n",
            "Omnibus:                       53.196   Durbin-Watson:                   1.858\n",
            "Prob(Omnibus):                  0.000   Jarque-Bera (JB):               69.430\n",
            "Skew:                          -0.231   Prob(JB):                     8.38e-16\n",
            "Kurtosis:                       3.584   Cond. No.                         154.\n",
            "==============================================================================\n",
            "\n",
            "Notes:\n",
            "[1] Standard Errors assume that the covariance matrix of the errors is correctly specified.\n"
          ]
        }
      ],
      "source": [
        "card = read_data(\"card.dta\")\n",
        "\n",
        "#OLS\n",
        "ols_reg = sm.OLS.from_formula(\"lwage ~ educ + exper + black + south + married + smsa\", \n",
        "              data = card).fit()\n",
        "\n",
        "print(ols_reg.summary())"
      ]
    },
    {
      "cell_type": "code",
      "source": [
        "card.dropna(subset = ['married'], inplace = True)"
      ],
      "metadata": {
        "id": "BD7xwfvH3seL"
      },
      "execution_count": null,
      "outputs": []
    },
    {
      "cell_type": "code",
      "execution_count": null,
      "metadata": {
        "id": "0nTjwGx9y6eW",
        "colab": {
          "base_uri": "https://localhost:8080/"
        },
        "outputId": "9815e81a-873a-4fa2-8592-b795d8d4c537"
      },
      "outputs": [
        {
          "output_type": "stream",
          "name": "stdout",
          "text": [
            "                          IV-2SLS Estimation Summary                          \n",
            "==============================================================================\n",
            "Dep. Variable:                  lwage   R-squared:                      0.2513\n",
            "Estimator:                    IV-2SLS   Adj. R-squared:                 0.2498\n",
            "No. Observations:                3003   F-statistic:                    892.71\n",
            "Date:                Fri, Jan 14 2022   P-value (F-stat)                0.0000\n",
            "Time:                        05:38:31   Distribution:                  chi2(6)\n",
            "Cov. Estimator:                robust                                         \n",
            "                                                                              \n",
            "                             Parameter Estimates                              \n",
            "==============================================================================\n",
            "            Parameter  Std. Err.     T-stat    P-value    Lower CI    Upper CI\n",
            "------------------------------------------------------------------------------\n",
            "Intercept      4.1625     0.8349     4.9857     0.0000      2.5262      5.7988\n",
            "black         -0.1157     0.0496    -2.3343     0.0196     -0.2128     -0.0186\n",
            "exper          0.0556     0.0199     2.7980     0.0051      0.0166      0.0945\n",
            "married       -0.0320     0.0051    -6.3037     0.0000     -0.0419     -0.0220\n",
            "smsa           0.1477     0.0303     4.8721     0.0000      0.0883      0.2071\n",
            "south         -0.1132     0.0229    -4.9314     0.0000     -0.1581     -0.0682\n",
            "educ           0.1242     0.0492     2.5258     0.0115      0.0278      0.2205\n",
            "==============================================================================\n",
            "\n",
            "Endogenous: educ\n",
            "Instruments: nearc4\n",
            "Robust Covariance (Heteroskedastic)\n",
            "Debiased: False\n"
          ]
        }
      ],
      "source": [
        "#2SLS\n",
        "iv_reg = IV2SLS.from_formula(\"lwage ~ 1 + exper + black + married + south + smsa + [educ ~ nearc4]\", card).fit()\n",
        "print(iv_reg.summary)"
      ]
    },
    {
      "cell_type": "markdown",
      "metadata": {
        "id": "0LKtrDyBy6eX"
      },
      "source": [
        "#### Questions\n",
        "- Interpret the coefficient on education when we used OLS versus when used 2SLS. \n",
        "- How does the estimated effect of education change when instrumenting with being close to a 4-year college?  That is, does the coefficient get larger or smaller compared to OLS?\n",
        "- If the only source of bias in our OLS regression was omitted heterogeneous ability, then will 2SLS be larger, smaller or the same as OLS estimate?  Why/why not?   \n",
        "- Is the finding of the causal effect of educating when using 2SLS, when compared to the estimate using OLS, consistent with ability bias?  What else do you think may be going on and why?\n",
        "- What sorts of individuals will go to college regardless of whether a college is near them?  What sorts of individuals will never go to a college even if one is near them?  And what sorts of people will go to a college if one is near them but won't go to college if it is not near them?\n",
        "\n",
        "## JIVE "
      ]
    },
    {
      "cell_type": "code",
      "execution_count": null,
      "metadata": {
        "id": "g8JmYkSiy6eY",
        "scrolled": false,
        "colab": {
          "base_uri": "https://localhost:8080/",
          "height": 1000
        },
        "outputId": "fefac6e2-d799-4dca-f714-1f32e3eaaea7"
      },
      "outputs": [
        {
          "output_type": "stream",
          "name": "stdout",
          "text": [
            "OLS\n"
          ]
        },
        {
          "output_type": "execute_result",
          "data": {
            "text/html": [
              "<table class=\"simpletable\">\n",
              "<tr>\n",
              "         <td></td>        <th>Min. Variables</th> <th>Max. variables</th>\n",
              "</tr>\n",
              "<tr>\n",
              "  <th>jail3</th>              <td>-0.001</td>          <td>0.029</td>    \n",
              "</tr>\n",
              "<tr>\n",
              "  <th></th>                   <td>(0.002)</td>        <td>(0.002)</td>   \n",
              "</tr>\n",
              "<tr>\n",
              "  <th>day</th>                <td>-0.000</td>         <td>-0.000</td>    \n",
              "</tr>\n",
              "<tr>\n",
              "  <th></th>                   <td>(0.000)</td>        <td>(0.000)</td>   \n",
              "</tr>\n",
              "<tr>\n",
              "  <th>day2</th>                <td>0.000</td>          <td>0.000</td>    \n",
              "</tr>\n",
              "<tr>\n",
              "  <th></th>                   <td>(0.000)</td>        <td>(0.000)</td>   \n",
              "</tr>\n",
              "<tr>\n",
              "  <th>bailDate</th>            <td>0.000</td>          <td>0.000</td>    \n",
              "</tr>\n",
              "<tr>\n",
              "  <th></th>                   <td>(0.000)</td>        <td>(0.000)</td>   \n",
              "</tr>\n",
              "<tr>\n",
              "  <th>t1</th>                  <td>0.006</td>         <td>-0.018</td>    \n",
              "</tr>\n",
              "<tr>\n",
              "  <th></th>                   <td>(0.016)</td>        <td>(0.015)</td>   \n",
              "</tr>\n",
              "<tr>\n",
              "  <th>t2</th>                 <td>-0.017</td>         <td>-0.027</td>    \n",
              "</tr>\n",
              "<tr>\n",
              "  <th></th>                   <td>(0.012)</td>        <td>(0.012)</td>   \n",
              "</tr>\n",
              "<tr>\n",
              "  <th>t3</th>                  <td>0.000</td>         <td>-0.002</td>    \n",
              "</tr>\n",
              "<tr>\n",
              "  <th></th>                   <td>(0.011)</td>        <td>(0.010)</td>   \n",
              "</tr>\n",
              "<tr>\n",
              "  <th>t4</th>                  <td>0.012</td>          <td>0.009</td>    \n",
              "</tr>\n",
              "<tr>\n",
              "  <th></th>                   <td>(0.007)</td>        <td>(0.006)</td>   \n",
              "</tr>\n",
              "<tr>\n",
              "  <th>t5</th>                 <td>-0.005</td>          <td>0.002</td>    \n",
              "</tr>\n",
              "<tr>\n",
              "  <th></th>                   <td>(0.004)</td>        <td>(0.004)</td>   \n",
              "</tr>\n",
              "<tr>\n",
              "  <th>mis</th>                   <td></td>             <td>0.112</td>    \n",
              "</tr>\n",
              "<tr>\n",
              "  <th></th>                      <td></td>            <td>(0.004)</td>   \n",
              "</tr>\n",
              "<tr>\n",
              "  <th>F3</th>                    <td></td>             <td>0.096</td>    \n",
              "</tr>\n",
              "<tr>\n",
              "  <th></th>                      <td></td>            <td>(0.003)</td>   \n",
              "</tr>\n",
              "<tr>\n",
              "  <th>Intercept</th>          <td>-0.413</td>         <td>-0.549</td>    \n",
              "</tr>\n",
              "<tr>\n",
              "  <th></th>                   <td>(0.128)</td>        <td>(0.121)</td>   \n",
              "</tr>\n",
              "<tr>\n",
              "  <th>male</th>                  <td></td>            <td>-0.036</td>    \n",
              "</tr>\n",
              "<tr>\n",
              "  <th></th>                      <td></td>            <td>(0.002)</td>   \n",
              "</tr>\n",
              "<tr>\n",
              "  <th>white</th>                 <td></td>             <td>0.107</td>    \n",
              "</tr>\n",
              "<tr>\n",
              "  <th></th>                      <td></td>            <td>(0.003)</td>   \n",
              "</tr>\n",
              "<tr>\n",
              "  <th>prior_guilt</th>           <td></td>             <td>0.026</td>    \n",
              "</tr>\n",
              "<tr>\n",
              "  <th></th>                      <td></td>            <td>(0.001)</td>   \n",
              "</tr>\n",
              "<tr>\n",
              "  <th>onePrior</th>              <td></td>             <td>0.050</td>    \n",
              "</tr>\n",
              "<tr>\n",
              "  <th></th>                      <td></td>            <td>(0.003)</td>   \n",
              "</tr>\n",
              "<tr>\n",
              "  <th>sum</th>                   <td></td>             <td>0.066</td>    \n",
              "</tr>\n",
              "<tr>\n",
              "  <th></th>                      <td></td>            <td>(0.004)</td>   \n",
              "</tr>\n",
              "<tr>\n",
              "  <th>M1</th>                    <td></td>             <td>0.025</td>    \n",
              "</tr>\n",
              "<tr>\n",
              "  <th></th>                      <td></td>            <td>(0.002)</td>   \n",
              "</tr>\n",
              "<tr>\n",
              "  <th>prior_felChar</th>         <td></td>            <td>-0.006</td>    \n",
              "</tr>\n",
              "<tr>\n",
              "  <th></th>                      <td></td>            <td>(0.000)</td>   \n",
              "</tr>\n",
              "<tr>\n",
              "  <th>drugSell</th>              <td></td>             <td>0.047</td>    \n",
              "</tr>\n",
              "<tr>\n",
              "  <th></th>                      <td></td>            <td>(0.005)</td>   \n",
              "</tr>\n",
              "<tr>\n",
              "  <th>fel</th>                   <td></td>            <td>-0.004</td>    \n",
              "</tr>\n",
              "<tr>\n",
              "  <th></th>                      <td></td>            <td>(0.004)</td>   \n",
              "</tr>\n",
              "<tr>\n",
              "  <th>F1</th>                    <td></td>             <td>0.016</td>    \n",
              "</tr>\n",
              "<tr>\n",
              "  <th></th>                      <td></td>            <td>(0.003)</td>   \n",
              "</tr>\n",
              "<tr>\n",
              "  <th>black</th>                 <td></td>             <td>0.070</td>    \n",
              "</tr>\n",
              "<tr>\n",
              "  <th></th>                      <td></td>            <td>(0.003)</td>   \n",
              "</tr>\n",
              "<tr>\n",
              "  <th>M2</th>                    <td></td>            <td>-0.068</td>    \n",
              "</tr>\n",
              "<tr>\n",
              "  <th></th>                      <td></td>            <td>(0.003)</td>   \n",
              "</tr>\n",
              "<tr>\n",
              "  <th>DUI1st</th>                <td></td>             <td>0.047</td>    \n",
              "</tr>\n",
              "<tr>\n",
              "  <th></th>                      <td></td>            <td>(0.004)</td>   \n",
              "</tr>\n",
              "<tr>\n",
              "  <th>aggAss</th>                <td></td>             <td>0.008</td>    \n",
              "</tr>\n",
              "<tr>\n",
              "  <th></th>                      <td></td>            <td>(0.004)</td>   \n",
              "</tr>\n",
              "<tr>\n",
              "  <th>age</th>                   <td></td>             <td>0.001</td>    \n",
              "</tr>\n",
              "<tr>\n",
              "  <th></th>                      <td></td>            <td>(0.000)</td>   \n",
              "</tr>\n",
              "<tr>\n",
              "  <th>threePriors</th>           <td></td>             <td>0.008</td>    \n",
              "</tr>\n",
              "<tr>\n",
              "  <th></th>                      <td></td>            <td>(0.002)</td>   \n",
              "</tr>\n",
              "<tr>\n",
              "  <th>priorCases</th>            <td></td>            <td>-0.006</td>    \n",
              "</tr>\n",
              "<tr>\n",
              "  <th></th>                      <td></td>            <td>(0.000)</td>   \n",
              "</tr>\n",
              "<tr>\n",
              "  <th>robbery</th>               <td></td>            <td>-0.081</td>    \n",
              "</tr>\n",
              "<tr>\n",
              "  <th></th>                      <td></td>            <td>(0.004)</td>   \n",
              "</tr>\n",
              "<tr>\n",
              "  <th>F2</th>                    <td></td>             <td>0.052</td>    \n",
              "</tr>\n",
              "<tr>\n",
              "  <th></th>                      <td></td>            <td>(0.003)</td>   \n",
              "</tr>\n",
              "<tr>\n",
              "  <th>possess</th>               <td></td>            <td>-0.061</td>    \n",
              "</tr>\n",
              "<tr>\n",
              "  <th></th>                      <td></td>            <td>(0.003)</td>   \n",
              "</tr>\n",
              "<tr>\n",
              "  <th>M</th>                     <td></td>             <td>0.253</td>    \n",
              "</tr>\n",
              "<tr>\n",
              "  <th></th>                      <td></td>            <td>(0.003)</td>   \n",
              "</tr>\n",
              "<tr>\n",
              "  <th>priorWI5</th>              <td></td>             <td>0.038</td>    \n",
              "</tr>\n",
              "<tr>\n",
              "  <th></th>                      <td></td>            <td>(0.003)</td>   \n",
              "</tr>\n",
              "<tr>\n",
              "  <th>M3</th>                    <td></td>             <td>0.133</td>    \n",
              "</tr>\n",
              "<tr>\n",
              "  <th></th>                      <td></td>            <td>(0.003)</td>   \n",
              "</tr>\n",
              "<tr>\n",
              "  <th>R-squared</th>           <td>0.007</td>          <td>0.117</td>    \n",
              "</tr>\n",
              "<tr>\n",
              "  <th>R-squared Adj.</th>      <td>0.007</td>          <td>0.117</td>    \n",
              "</tr>\n",
              "</table>"
            ],
            "text/plain": [
              "<class 'statsmodels.iolib.summary2.Summary'>\n",
              "\"\"\"\n",
              "\n",
              "============================================\n",
              "               Min. Variables Max. variables\n",
              "--------------------------------------------\n",
              "jail3          -0.001         0.029         \n",
              "               (0.002)        (0.002)       \n",
              "day            -0.000         -0.000        \n",
              "               (0.000)        (0.000)       \n",
              "day2           0.000          0.000         \n",
              "               (0.000)        (0.000)       \n",
              "bailDate       0.000          0.000         \n",
              "               (0.000)        (0.000)       \n",
              "t1             0.006          -0.018        \n",
              "               (0.016)        (0.015)       \n",
              "t2             -0.017         -0.027        \n",
              "               (0.012)        (0.012)       \n",
              "t3             0.000          -0.002        \n",
              "               (0.011)        (0.010)       \n",
              "t4             0.012          0.009         \n",
              "               (0.007)        (0.006)       \n",
              "t5             -0.005         0.002         \n",
              "               (0.004)        (0.004)       \n",
              "mis                           0.112         \n",
              "                              (0.004)       \n",
              "F3                            0.096         \n",
              "                              (0.003)       \n",
              "Intercept      -0.413         -0.549        \n",
              "               (0.128)        (0.121)       \n",
              "male                          -0.036        \n",
              "                              (0.002)       \n",
              "white                         0.107         \n",
              "                              (0.003)       \n",
              "prior_guilt                   0.026         \n",
              "                              (0.001)       \n",
              "onePrior                      0.050         \n",
              "                              (0.003)       \n",
              "sum                           0.066         \n",
              "                              (0.004)       \n",
              "M1                            0.025         \n",
              "                              (0.002)       \n",
              "prior_felChar                 -0.006        \n",
              "                              (0.000)       \n",
              "drugSell                      0.047         \n",
              "                              (0.005)       \n",
              "fel                           -0.004        \n",
              "                              (0.004)       \n",
              "F1                            0.016         \n",
              "                              (0.003)       \n",
              "black                         0.070         \n",
              "                              (0.003)       \n",
              "M2                            -0.068        \n",
              "                              (0.003)       \n",
              "DUI1st                        0.047         \n",
              "                              (0.004)       \n",
              "aggAss                        0.008         \n",
              "                              (0.004)       \n",
              "age                           0.001         \n",
              "                              (0.000)       \n",
              "threePriors                   0.008         \n",
              "                              (0.002)       \n",
              "priorCases                    -0.006        \n",
              "                              (0.000)       \n",
              "robbery                       -0.081        \n",
              "                              (0.004)       \n",
              "F2                            0.052         \n",
              "                              (0.003)       \n",
              "possess                       -0.061        \n",
              "                              (0.003)       \n",
              "M                             0.253         \n",
              "                              (0.003)       \n",
              "priorWI5                      0.038         \n",
              "                              (0.003)       \n",
              "M3                            0.133         \n",
              "                              (0.003)       \n",
              "R-squared      0.007          0.117         \n",
              "R-squared Adj. 0.007          0.117         \n",
              "============================================\n",
              "Standard errors in parentheses.\n",
              "\"\"\""
            ]
          },
          "metadata": {},
          "execution_count": 8
        }
      ],
      "source": [
        "judge = read_data(\"judge_fe.dta\")\n",
        "judge['bailDate'] = (judge['bailDate'] - pd.to_datetime('1970-01-01')).dt.days.values\n",
        "\n",
        "# grouped variable names from the data set\n",
        "judge_pre = \"+\".join(judge.columns[judge.columns.str.contains('^judge_pre_[1-7]')])\n",
        "demo = \"+\".join(['black', 'age', 'male', 'white'])\n",
        "off = \"+\".join(['fel', 'mis', 'sum', 'F1', 'F2', 'F3', 'M1', 'M2', 'M3', 'M'])\n",
        "prior = \"+\".join(['priorCases', 'priorWI5', 'prior_felChar', 'prior_guilt', 'onePrior', 'threePriors'])\n",
        "control2 = \"+\".join(['day', 'day2', 'bailDate', 't1', 't2', 't3', 't4', 't5'])\n",
        "\n",
        "#formulas used in the OLS\n",
        "min_formula = \"guilt ~ jail3 + \" + control2\n",
        "max_formula = \"\"\"guilt ~ jail3 + possess + robbery + DUI1st + drugSell + \n",
        "                aggAss + {demo} + {prior} + {off} + {control2}\"\"\".format(demo=demo,\n",
        "                                                                        prior=prior,\n",
        "                                                                        off=off,\n",
        "                                                                        control2=control2)\n",
        "\n",
        "#max variables and min variables\n",
        "min_ols = sm.OLS.from_formula(min_formula, data = judge).fit()\n",
        "max_ols = sm.OLS.from_formula(max_formula, data = judge).fit()\n",
        "min_ols_est = round(min_ols.params.jail3, 3)\n",
        "max_ols_est = round(max_ols.params.jail3, 3)\n",
        "\n",
        "models = [min_ols, max_ols]\n",
        "model_names = ['Min. Variables', 'Max. variables']\n",
        "summary_col(models, float_format='%0.3f', model_names = model_names, regressor_order = ('jail3', 'day', 'day2', 'bailDate', 't1', 't2', 't3', 't4', 't5'))"
      ]
    },
    {
      "cell_type": "code",
      "execution_count": null,
      "metadata": {
        "id": "-CQVo0LRy6eZ",
        "colab": {
          "base_uri": "https://localhost:8080/"
        },
        "outputId": "b4fdfd72-ba1d-4c9a-e099-aef6a607d6e8"
      },
      "outputs": [
        {
          "output_type": "stream",
          "name": "stdout",
          "text": [
            "                          IV-2SLS Estimation Summary                          \n",
            "==============================================================================\n",
            "Dep. Variable:                  guilt   R-squared:                      0.4849\n",
            "Estimator:                    IV-2SLS   Adj. R-squared:                 0.4849\n",
            "No. Observations:              331971   F-statistic:                 3.199e+05\n",
            "Date:                Fri, Jan 14 2022   P-value (F-stat)                0.0000\n",
            "Time:                        05:38:38   Distribution:                  chi2(9)\n",
            "Cov. Estimator:                robust                                         \n",
            "                                                                              \n",
            "                             Parameter Estimates                              \n",
            "==============================================================================\n",
            "            Parameter  Std. Err.     T-stat    P-value    Lower CI    Upper CI\n",
            "------------------------------------------------------------------------------\n",
            "bailDate      3.2e-05  1.902e-06     16.829     0.0000   2.828e-05   3.573e-05\n",
            "day        -7.952e-05  2.506e-05    -3.1730     0.0015     -0.0001   -3.04e-05\n",
            "day2          1.4e-07  5.806e-08     2.4111     0.0159   2.619e-08   2.538e-07\n",
            "t1            -0.0457     0.0028    -16.545     0.0000     -0.0511     -0.0403\n",
            "t2            -0.0543     0.0031    -17.583     0.0000     -0.0604     -0.0483\n",
            "t3            -0.0254     0.0045    -5.6924     0.0000     -0.0342     -0.0167\n",
            "t4            -0.0022     0.0039    -0.5710     0.5680     -0.0098      0.0054\n",
            "t5            -0.0095     0.0040    -2.3570     0.0184     -0.0173     -0.0016\n",
            "jail3          0.1493     0.0652     2.2893     0.0221      0.0215      0.2771\n",
            "==============================================================================\n",
            "\n",
            "Endogenous: jail3\n",
            "Instruments: judge_pre_1, judge_pre_2, judge_pre_3, judge_pre_4, judge_pre_5, judge_pre_6, judge_pre_7\n",
            "Robust Covariance (Heteroskedastic)\n",
            "Debiased: False\n"
          ]
        }
      ],
      "source": [
        "#--- Instrumental Variables Estimations\n",
        "#-- 2sls main results\n",
        "#- Min and Max Control formulas\n",
        "min_formula = \"guilt ~ {control2} + [jail3 ~ {judge_pre}]\".format(control2=control2, judge_pre=judge_pre)\n",
        "max_formula = \"\"\"guilt ~ {demo} + possess + {prior} + robbery + {off} + DUI1st + {control2} + drugSell + aggAss +\n",
        "                    [jail3 ~ {judge_pre}]\"\"\".format(demo=demo,\n",
        "                                                    prior=prior,\n",
        "                                                    off=off,\n",
        "                                                    control2=control2,\n",
        "                                                   judge_pre=judge_pre)\n",
        "min_iv = IV2SLS.from_formula(min_formula, data = judge).fit()\n",
        "max_iv = IV2SLS.from_formula(max_formula, data = judge).fit()\n",
        "\n",
        "min_iv_est = round(min_iv.params.jail3, 3)\n",
        "max_iv_est = round(max_iv.params.jail3, 3)\n",
        "\n",
        "print(min_iv.summary)"
      ]
    },
    {
      "cell_type": "code",
      "execution_count": null,
      "metadata": {
        "id": "DCitd1opy6eb",
        "colab": {
          "base_uri": "https://localhost:8080/"
        },
        "outputId": "243fe680-f663-4e26-cec2-eb22bebe1695"
      },
      "outputs": [
        {
          "output_type": "stream",
          "name": "stdout",
          "text": [
            "                          IV-2SLS Estimation Summary                          \n",
            "==============================================================================\n",
            "Dep. Variable:                  guilt   R-squared:                      0.5428\n",
            "Estimator:                    IV-2SLS   Adj. R-squared:                 0.5428\n",
            "No. Observations:              331971   F-statistic:                 4.057e+05\n",
            "Date:                Fri, Jan 14 2022   P-value (F-stat)                0.0000\n",
            "Time:                        05:38:46   Distribution:                 chi2(34)\n",
            "Cov. Estimator:                robust                                         \n",
            "                                                                              \n",
            "                               Parameter Estimates                               \n",
            "=================================================================================\n",
            "               Parameter  Std. Err.     T-stat    P-value    Lower CI    Upper CI\n",
            "---------------------------------------------------------------------------------\n",
            "DUI1st            0.0584     0.0061     9.6164     0.0000      0.0465      0.0703\n",
            "F1               -0.0068     0.0104    -0.6559     0.5119     -0.0272      0.0136\n",
            "F2                0.0304     0.0097     3.1197     0.0018      0.0113      0.0495\n",
            "F3                0.0944     0.0031     30.554     0.0000      0.0883      0.1004\n",
            "M                 0.2607     0.0044     59.621     0.0000      0.2522      0.2693\n",
            "M1                0.0097     0.0069     1.4168     0.1565     -0.0037      0.0231\n",
            "M2               -0.0750     0.0040    -18.628     0.0000     -0.0829     -0.0671\n",
            "M3                0.1252     0.0047     26.564     0.0000      0.1159      0.1344\n",
            "age               0.0015     0.0001     13.463     0.0000      0.0013      0.0017\n",
            "aggAss            0.0085     0.0041     2.0867     0.0369      0.0005      0.0164\n",
            "bailDate       7.733e-06  8.764e-07     8.8233     0.0000   6.015e-06    9.45e-06\n",
            "black             0.0592     0.0054     10.967     0.0000      0.0486      0.0697\n",
            "day           -8.052e-05  2.373e-05    -3.3925     0.0007     -0.0001    -3.4e-05\n",
            "day2           2.427e-07  5.473e-08     4.4349     0.0000   1.355e-07     3.5e-07\n",
            "drugSell          0.0381     0.0061     6.2923     0.0000      0.0262      0.0500\n",
            "fel              -0.0256     0.0098    -2.6104     0.0090     -0.0448     -0.0064\n",
            "male             -0.0515     0.0070    -7.3976     0.0000     -0.0652     -0.0379\n",
            "mis               0.1331     0.0100     13.269     0.0000      0.1135      0.1528\n",
            "onePrior          0.0478     0.0035     13.613     0.0000      0.0409      0.0546\n",
            "possess          -0.0568     0.0039    -14.739     0.0000     -0.0643     -0.0492\n",
            "priorCases       -0.0058     0.0003    -22.891     0.0000     -0.0063     -0.0053\n",
            "priorWI5          0.0267     0.0054     4.9923     0.0000      0.0162      0.0372\n",
            "prior_felChar    -0.0073     0.0008    -9.4857     0.0000     -0.0088     -0.0058\n",
            "prior_guilt       0.0237     0.0010     22.757     0.0000      0.0217      0.0258\n",
            "robbery          -0.0971     0.0080    -12.175     0.0000     -0.1127     -0.0815\n",
            "sum               0.0656     0.0037     17.974     0.0000      0.0585      0.0728\n",
            "t1               -0.0841     0.0027    -30.731     0.0000     -0.0895     -0.0788\n",
            "t2               -0.0753     0.0033    -22.738     0.0000     -0.0818     -0.0688\n",
            "t3               -0.0392     0.0041    -9.5023     0.0000     -0.0473     -0.0311\n",
            "t4               -0.0118     0.0036    -3.2958     0.0010     -0.0188     -0.0048\n",
            "t5               -0.0048     0.0040    -1.2026     0.2291     -0.0127      0.0030\n",
            "threePriors      -0.0002     0.0044    -0.0558     0.9555     -0.0088      0.0083\n",
            "white             0.1016     0.0036     28.099     0.0000      0.0946      0.1087\n",
            "jail3             0.1813     0.0643     2.8181     0.0048      0.0552      0.3074\n",
            "=================================================================================\n",
            "\n",
            "Endogenous: jail3\n",
            "Instruments: judge_pre_1, judge_pre_2, judge_pre_3, judge_pre_4, judge_pre_5, judge_pre_6, judge_pre_7\n",
            "Robust Covariance (Heteroskedastic)\n",
            "Debiased: False\n"
          ]
        }
      ],
      "source": [
        "print(max_iv.summary)"
      ]
    },
    {
      "cell_type": "code",
      "execution_count": 75,
      "metadata": {
        "id": "sFPQYNbjy6eb"
      },
      "outputs": [],
      "source": [
        "%%capture\n",
        "from rpy2 import robjects\n",
        "from rpy2.robjects import pandas2ri\n",
        "from rpy2.robjects.packages import importr\n",
        "pandas2ri.activate()\n",
        "utils = importr('utils')\n",
        "utils.install_packages('SteinIV')\n",
        "SteinIV = importr('SteinIV')"
      ]
    },
    {
      "cell_type": "code",
      "execution_count": 95,
      "metadata": {
        "id": "YaaIYIAWy6eb"
      },
      "outputs": [],
      "source": [
        "#-- JIVE main results\n",
        "#- minimum controls\n",
        "y = judge['guilt']\n",
        "X_min = judge.loc[:, ['jail3', 'day', 'day2', 't1', 't2', 't3', 't4', 't5', 'bailDate']]\n",
        "X_min['intercept'] = 1\n",
        "\n",
        "Z_min = judge.loc[:, judge_pre.split('+') + ['day', 'day2', 't1', 't2', 't3', 't4', 't5', 'bailDate']]\n",
        "Z_min['intercept'] = 1"
      ]
    },
    {
      "cell_type": "code",
      "execution_count": null,
      "metadata": {
        "id": "gxBcdrley6ec"
      },
      "outputs": [],
      "source": [
        "y = robjects.globalenv['y'] = y\n",
        "X_min = robjects.globalenv['X_min'] = np.array(X_min)\n",
        "Z_min = robjects.globalenv['Z_min'] = np.array(Z_min)"
      ]
    },
    {
      "cell_type": "code",
      "source": [
        "min_jive = SteinIV.jive_est(y = y, X = X_min, Z = Z_min)"
      ],
      "metadata": {
        "id": "FOUrPWYNzHs3"
      },
      "execution_count": null,
      "outputs": []
    },
    {
      "cell_type": "code",
      "execution_count": 96,
      "metadata": {
        "id": "AsY2mwUVy6ec"
      },
      "outputs": [],
      "source": [
        "X_max = judge.loc[:, ['jail3', 'white', 'age', 'male', 'black',\n",
        "         'possess', 'robbery', \n",
        "         'prior_guilt', 'onePrior', 'priorWI5', 'prior_felChar', 'priorCases',\n",
        "         'DUI1st', 'drugSell', 'aggAss', 'fel', 'mis', 'sum',\n",
        "         'threePriors',\n",
        "         'F1', 'F2', 'F3',\n",
        "         'M', 'M1', 'M2', 'M3',\n",
        "         'day', 'day2', 'bailDate', \n",
        "         't1', 't2', 't3', 't4', 't5']]\n",
        "\n",
        "X_max['intercept'] = 1\n",
        "\n",
        "Z_max = judge.loc[:, judge_pre.split('+') + ['white', 'age', 'male', 'black',\n",
        "         'possess', 'robbery', \n",
        "         'prior_guilt', 'onePrior', 'priorWI5', 'prior_felChar', 'priorCases',\n",
        "         'DUI1st', 'drugSell', 'aggAss', 'fel', 'mis', 'sum',\n",
        "         'threePriors',\n",
        "         'F1', 'F2', 'F3',\n",
        "         'M', 'M1', 'M2', 'M3',\n",
        "         'day', 'day2', 'bailDate', \n",
        "         't1', 't2', 't3', 't4', 't5']]\n",
        "Z_max['intercept'] = 1\n",
        "\n",
        "X_max = robjects.globalenv['X_max'] = np.array(X_max)\n",
        "Z_max = robjects.globalenv['Z_max'] = np.array(Z_max)"
      ]
    },
    {
      "cell_type": "code",
      "execution_count": null,
      "metadata": {
        "id": "r9uGA-jZy6ec"
      },
      "outputs": [],
      "source": [
        "max_jive = SteinIV.jive_est(y = y, X = X_max, Z = Z_max)"
      ]
    },
    {
      "cell_type": "code",
      "source": [
        "max = max_jive[0][0]"
      ],
      "metadata": {
        "id": "HyrwNipJ9NaH"
      },
      "execution_count": null,
      "outputs": []
    },
    {
      "cell_type": "code",
      "source": [
        "print(\"Min. JIVE, Max. JIVE\")\n",
        "print(np.round(min_jive[0][0], 3), np.round(max_jive[0][0], 3))\n",
        "min_jive_est = float(np.round(min_jive[0][0], 3))\n",
        "max_jive_est = np.round(max_jive[0][0], 3)"
      ],
      "metadata": {
        "colab": {
          "base_uri": "https://localhost:8080/"
        },
        "id": "hiBF7csQ-ntf",
        "outputId": "f381e3f5-2f87-445d-9532-de19f75915d1"
      },
      "execution_count": null,
      "outputs": [
        {
          "output_type": "stream",
          "name": "stdout",
          "text": [
            "Min. JIVE, Max. JIVE\n",
            "[0.162] [0.207]\n"
          ]
        }
      ]
    },
    {
      "cell_type": "code",
      "source": [
        "# Report all estimates\n",
        "estimates = [[min_ols_est, min_iv_est, min_jive_est], [max_ols_est, max_iv_est, max_jive_est]]\n",
        "col_names = [\"OLS\", \"2SLS\", \"JIVE\"]\n",
        "print(tabulate(estimates, headers = col_names, tablefmt=\"fancy_grid\"))"
      ],
      "metadata": {
        "colab": {
          "base_uri": "https://localhost:8080/"
        },
        "id": "c5eENCQO-8aR",
        "outputId": "6d9597d2-81ab-4333-8b1e-2f326ab46043"
      },
      "execution_count": null,
      "outputs": [
        {
          "output_type": "stream",
          "name": "stdout",
          "text": [
            "╒════════╤════════╤════════╕\n",
            "│    OLS │   2SLS │   JIVE │\n",
            "╞════════╪════════╪════════╡\n",
            "│ -0.001 │  0.149 │  0.162 │\n",
            "├────────┼────────┼────────┤\n",
            "│  0.029 │  0.181 │  0.207 │\n",
            "╘════════╧════════╧════════╛\n"
          ]
        }
      ]
    },
    {
      "cell_type": "markdown",
      "metadata": {
        "id": "PL4DuGfcy6ed"
      },
      "source": [
        "#### QUESTION\n",
        "- Interpret the coefficient on our two IV estimators?  How do they compare to our OLS estimate?\n",
        "- What is your conclusion about the effect that cash bail has on adjudication?  Speculate about the channels by which cash bail has this effect. \n",
        "- Describe the four sub-populations (e.g., always takers, never takers, defiers and compliers) in the context of Stevenson's study.\n",
        "- Discuss the plausibility of each of the 5 IV assumptions in Stevenson's case.  \n",
        "- Draw a DAG that must be true for Stevenson's JIVE estimates to be consistent?  Which assumptions are contained in this DAG and which ones are not easily visualized? \n",
        "- Assume judge A is stricter than judge B.  Monotonicity requires that if judge B sets a lower bail amount for that individual, then judge A will always set a higher for that individual hypothetically than judge B.  Provide some examples where you think this may be violated.  \n",
        "\n",
        "\n"
      ]
    }
  ],
  "metadata": {
    "colab": {
      "name": "Instrumental_Variables.ipynb",
      "provenance": [],
      "collapsed_sections": []
    },
    "kernelspec": {
      "display_name": "Python 3",
      "language": "python",
      "name": "python3"
    },
    "language_info": {
      "codemirror_mode": {
        "name": "ipython",
        "version": 3
      },
      "file_extension": ".py",
      "mimetype": "text/x-python",
      "name": "python",
      "nbconvert_exporter": "python",
      "pygments_lexer": "ipython3",
      "version": "3.8.8"
    },
    "toc": {
      "base_numbering": 1,
      "nav_menu": {},
      "number_sections": true,
      "sideBar": true,
      "skip_h1_title": false,
      "title_cell": "Table of Contents",
      "title_sidebar": "Contents",
      "toc_cell": false,
      "toc_position": {},
      "toc_section_display": true,
      "toc_window_display": false
    }
  },
  "nbformat": 4,
  "nbformat_minor": 0
}