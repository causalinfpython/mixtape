{
  "nbformat": 4,
  "nbformat_minor": 0,
  "metadata": {
    "kernelspec": {
      "name": "python3",
      "display_name": "Python 3.8.5 64-bit",
      "metadata": {
        "interpreter": {
          "hash": "aee8b7b246df8f9039afb4144a1f6fd8d2ca17a180786b69acc140d282b71a49"
        }
      }
    },
    "language_info": {
      "codemirror_mode": {
        "name": "ipython",
        "version": 3
      },
      "file_extension": ".py",
      "mimetype": "text/x-python",
      "name": "python",
      "nbconvert_exporter": "python",
      "pygments_lexer": "ipython3",
      "version": "3.8.5-final"
    },
    "toc": {
      "base_numbering": 1,
      "nav_menu": {},
      "number_sections": true,
      "sideBar": true,
      "skip_h1_title": false,
      "title_cell": "Table of Contents",
      "title_sidebar": "Contents",
      "toc_cell": false,
      "toc_position": {},
      "toc_section_display": true,
      "toc_window_display": false
    },
    "colab": {
      "name": "Instrumental_Variables.ipynb",
      "provenance": []
    }
  },
  "cells": [
    {
      "cell_type": "markdown",
      "metadata": {
        "id": "WO_7gw5Sy6eR"
      },
      "source": [
        "## Welcome\n",
        "\n",
        "This is material for the **Instrumental Variables** chapter in Scott Cunningham's book, [Causal Inference: The Mixtape.](https://mixtape.scunning.com/)"
      ]
    },
    {
      "cell_type": "code",
      "metadata": {
        "id": "zP1ylByhy6eU"
      },
      "source": [
        "import pandas as pd\n",
        "import numpy as np\n",
        "import plotnine as p\n",
        "\n",
        "import statsmodels.api as sm\n",
        "import statsmodels.formula.api as smf\n",
        "from linearmodels import IV2SLS \n",
        "\n",
        "from stargazer.stargazer import Stargazer"
      ],
      "execution_count": null,
      "outputs": []
    },
    {
      "cell_type": "code",
      "metadata": {
        "id": "ajdsVA_Iy6eV"
      },
      "source": [
        "import ssl\n",
        "ssl._create_default_https_context = ssl._create_unverified_context\n",
        "\n",
        "def read_data(file):\n",
        "    full_path = \"https://raw.github.com/scunning1975/mixtape/master/\" + file\n",
        "    \n",
        "    return pd.read_stata(full_path)"
      ],
      "execution_count": null,
      "outputs": []
    },
    {
      "cell_type": "code",
      "metadata": {
        "id": "d4paaTtNy6eV"
      },
      "source": [
        "def lm_robust(formula, data, group_col):\n",
        "    regression = sm.OLS.from_formula(formula, data = data)\n",
        "    regression = regression.fit(cov_type=\"cluster\",cov_kwds={\"groups\":data[group_col]})\n",
        "    return regression"
      ],
      "execution_count": null,
      "outputs": []
    },
    {
      "cell_type": "markdown",
      "metadata": {
        "id": "lm1IKxVhy6eW"
      },
      "source": [
        "## Card"
      ]
    },
    {
      "cell_type": "code",
      "metadata": {
        "id": "nLAF7989y6eW"
      },
      "source": [
        "\n",
        "card = read_data(\"card.dta\")\n",
        "\n",
        "#OLS\n",
        "ols_reg = sm.OLS.from_formula(\"lwage ~ educ + exper + black + south + married + smsa\", \n",
        "              data = card).fit()\n",
        "\n",
        "ols_reg.summary()"
      ],
      "execution_count": null,
      "outputs": []
    },
    {
      "cell_type": "code",
      "metadata": {
        "id": "0nTjwGx9y6eW"
      },
      "source": [
        "#2SLS\n",
        "iv_reg = IV2SLS.from_formula(\"lwage ~ 1 + exper + black + south + married + smsa + [educ ~ nearc4 ]\", card).fit()\n",
        "iv_reg.summary"
      ],
      "execution_count": null,
      "outputs": []
    },
    {
      "cell_type": "markdown",
      "metadata": {
        "id": "0LKtrDyBy6eX"
      },
      "source": [
        "#### Questions\n",
        "- Interpret the coefficient on education when we used OLS versus when used 2SLS. \n",
        "- How does the estimated effect of education change when instrumenting with being close to a 4-year college?  That is, does the coefficient get larger or smaller compared to OLS?\n",
        "- If the only source of bias in our OLS regression was omitted heterogeneous ability, then will 2SLS be larger, smaller or the same as OLS estimate?  Why/why not?   \n",
        "- Is the finding of the causal effect of educating when using 2SLS, when compared to the estimate using OLS, consistent with ability bias?  What else do you think may be going on and why?\n",
        "- What sorts of individuals will go to college regardless of whether a college is near them?  What sorts of individuals will never go to a college even if one is near them?  And what sorts of people will go to a college if one is near them but won't go to college if it is not near them?\n",
        "\n",
        "## JIVE "
      ]
    },
    {
      "cell_type": "code",
      "metadata": {
        "id": "g8JmYkSiy6eY"
      },
      "source": [
        "judge = read_data(\"judge_fe.dta\")\n",
        "judge['bailDate'] = (judge['bailDate'] - pd.to_datetime('1970-01-01')).dt.days.values\n",
        "\n",
        "# grouped variable names from the data set\n",
        "judge_pre = \"+\".join(judge.columns[judge.columns.str.contains('^judge_pre_[1-7]')])\n",
        "demo = \"+\".join(['black', 'age', 'male', 'white'])\n",
        "off = \"+\".join(['fel', 'mis', 'sum', 'F1', 'F2', 'F3', 'M1', 'M2', 'M3', 'M'])\n",
        "prior = \"+\".join(['priorCases', 'priorWI5', 'prior_felChar', 'prior_guilt', 'onePrior', 'threePriors'])\n",
        "control2 = \"+\".join(['day', 'day2', 'bailDate', 't1', 't2', 't3', 't4', 't5'])\n",
        "\n",
        "#formulas used in the OLS\n",
        "min_formula = \"guilt ~ jail3 + \" + control2\n",
        "max_formula = \"\"\"guilt ~ jail3 + possess + robbery + DUI1st + drugSell + \n",
        "                aggAss + {demo} + {prior} + {off} + {control2}\"\"\".format(demo=demo,\n",
        "                                                                        prior=prior,\n",
        "                                                                        off=off,\n",
        "                                                                        control2=control2)\n",
        "\n",
        "#max variables and min variables\n",
        "min_ols = sm.OLS.from_formula(min_formula, data = judge).fit()\n",
        "max_ols = sm.OLS.from_formula(max_formula, data = judge).fit()\n",
        "print(\"OLS\")\n",
        "Stargazer([min_ols, max_ols])"
      ],
      "execution_count": null,
      "outputs": []
    },
    {
      "cell_type": "code",
      "metadata": {
        "id": "-CQVo0LRy6eZ"
      },
      "source": [
        "#--- Instrumental Variables Estimations\n",
        "#-- 2sls main results\n",
        "#- Min and Max Control formulas\n",
        "min_formula = \"guilt ~ {control2} + [jail3 ~ {judge_pre}]\".format(control2=control2, judge_pre=judge_pre)\n",
        "max_formula = \"\"\"guilt ~ {demo} + possess + {prior} + robbery + {off} + DUI1st + {control2} + drugSell + aggAss +\n",
        "                    [jail3 ~ {judge_pre}]\"\"\".format(demo=demo,\n",
        "                                                    prior=prior,\n",
        "                                                    off=off,\n",
        "                                                    control2=control2,\n",
        "                                                   judge_pre=judge_pre)\n",
        "min_iv = IV2SLS.from_formula(min_formula, data = judge).fit()\n",
        "max_iv = IV2SLS.from_formula(max_formula, data = judge).fit()\n",
        "\n",
        "\n",
        "print(\"IV\")\n",
        "min_iv.summary"
      ],
      "execution_count": null,
      "outputs": []
    },
    {
      "cell_type": "code",
      "metadata": {
        "id": "DCitd1opy6eb"
      },
      "source": [
        "max_iv.summary"
      ],
      "execution_count": null,
      "outputs": []
    },
    {
      "cell_type": "code",
      "metadata": {
        "id": "sFPQYNbjy6eb"
      },
      "source": [
        "from rpy2 import robjects\n",
        "from rpy2.robjects import pandas2ri\n",
        "from rpy2.robjects.packages import importr\n",
        "pandas2ri.activate()\n",
        "SteinIV = importr('SteinIV')"
      ],
      "execution_count": null,
      "outputs": []
    },
    {
      "cell_type": "code",
      "metadata": {
        "id": "YaaIYIAWy6eb"
      },
      "source": [
        "#-- JIVE main results\n",
        "#- minimum controls\n",
        "y = judge['guilt']\n",
        "X_min = judge[['jail3', 'day', 'day2', 't1', 't2', 't3', 't4', 't5', 'bailDate']]\n",
        "X_min['intercept'] = 1\n",
        "\n",
        "Z_min = judge[judge_pre.split('+') + ['day', 'day2', 't1', 't2', 't3', 't4', 't5', 'bailDate']]\n",
        "Z_min['intercept'] = 1"
      ],
      "execution_count": null,
      "outputs": []
    },
    {
      "cell_type": "code",
      "metadata": {
        "id": "gxBcdrley6ec"
      },
      "source": [
        "y = robjects.globalenv['y'] = y\n",
        "X_min = robjects.globalenv['X_min'] = np.array(X_min)\n",
        "Z_min = robjects.globalenv['Z_min'] = np.array(Z_min)\n",
        "\n",
        "print(\"JIVE\")\n",
        "SteinIV.jive_est(y = y, X=X_min, Z=Z_min)"
      ],
      "execution_count": null,
      "outputs": []
    },
    {
      "cell_type": "code",
      "metadata": {
        "id": "AsY2mwUVy6ec"
      },
      "source": [
        "X_max = judge[['jail3', 'white', 'age', 'male', 'black',\n",
        "         'possess', 'robbery', \n",
        "         'prior_guilt', 'onePrior', 'priorWI5', 'prior_felChar', 'priorCases',\n",
        "         'DUI1st', 'drugSell', 'aggAss', 'fel', 'mis', 'sum',\n",
        "         'threePriors',\n",
        "         'F1', 'F2', 'F3',\n",
        "         'M', 'M1', 'M2', 'M3',\n",
        "         'day', 'day2', 'bailDate', \n",
        "         't1', 't2', 't3', 't4', 't5']]\n",
        "X_max['intercept'] = 1\n",
        "\n",
        "Z_max = judge[judge_pre.split('+') + ['white', 'age', 'male', 'black',\n",
        "         'possess', 'robbery', \n",
        "         'prior_guilt', 'onePrior', 'priorWI5', 'prior_felChar', 'priorCases',\n",
        "         'DUI1st', 'drugSell', 'aggAss', 'fel', 'mis', 'sum',\n",
        "         'threePriors',\n",
        "         'F1', 'F2', 'F3',\n",
        "         'M', 'M1', 'M2', 'M3',\n",
        "         'day', 'day2', 'bailDate', \n",
        "         't1', 't2', 't3', 't4', 't5']]\n",
        "Z_max['intercept'] = 1\n",
        "X_max = robjects.globalenv['X_max'] = np.array(X_max)\n",
        "Z_max = robjects.globalenv['Z_max'] = np.array(Z_max)"
      ],
      "execution_count": null,
      "outputs": []
    },
    {
      "cell_type": "code",
      "metadata": {
        "id": "r9uGA-jZy6ec"
      },
      "source": [
        "SteinIV.jive_est(y = y, X = X_max, Z = Z_max)"
      ],
      "execution_count": null,
      "outputs": []
    },
    {
      "cell_type": "markdown",
      "metadata": {
        "id": "PL4DuGfcy6ed"
      },
      "source": [
        "#### QUESTION\n",
        "- Interpret the coefficient on our two IV estimators?  How do they compare to our OLS estimate?\n",
        "- What is your conclusion about the effect that cash bail has on adjudication?  Speculate about the channels by which cash bail has this effect. \n",
        "- Describe the four sub-populations (e.g., always takers, never takers, defiers and compliers) in the context of Stevenson's study.\n",
        "- Discuss the plausibility of each of the 5 IV assumptions in Stevenson's case.  \n",
        "- Draw a DAG that must be true for Stevenson's JIVE estimates to be consistent?  Which assumptions are contained in this DAG and which ones are not easily visualized? \n",
        "- Assume judge A is stricter than judge B.  Monotonicity requires that if judge B sets a lower bail amount for that individual, then judge A will always set a higher for that individual hypothetically than judge B.  Provide some examples where you think this may be violated.  \n",
        "\n",
        "\n"
      ]
    }
  ]
}