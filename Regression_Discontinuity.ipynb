{
  "nbformat": 4,
  "nbformat_minor": 0,
  "metadata": {
    "kernelspec": {
      "name": "python3",
      "display_name": "Python 3.8.5 64-bit",
      "metadata": {
        "interpreter": {
          "hash": "aee8b7b246df8f9039afb4144a1f6fd8d2ca17a180786b69acc140d282b71a49"
        }
      }
    },
    "language_info": {
      "codemirror_mode": {
        "name": "ipython",
        "version": 3
      },
      "file_extension": ".py",
      "mimetype": "text/x-python",
      "name": "python",
      "nbconvert_exporter": "python",
      "pygments_lexer": "ipython3",
      "version": "3.8.5-final"
    },
    "toc": {
      "base_numbering": 1,
      "nav_menu": {},
      "number_sections": true,
      "sideBar": true,
      "skip_h1_title": false,
      "title_cell": "Table of Contents",
      "title_sidebar": "Contents",
      "toc_cell": false,
      "toc_position": {},
      "toc_section_display": true,
      "toc_window_display": false
    },
    "colab": {
      "name": "Regression_Discontinuity.ipynb",
      "provenance": []
    }
  },
  "cells": [
    {
      "cell_type": "markdown",
      "metadata": {
        "id": "mDsQ-NODy6He"
      },
      "source": [
        "## Welcome\n",
        "\n",
        "This is material for the **Regression Discontinuity** chapter in Scott Cunningham's book, [Causal Inference: The Mixtape.](https://mixtape.scunning.com/)\n"
      ]
    },
    {
      "cell_type": "code",
      "metadata": {
        "id": "sgr6yR1ey6Hi"
      },
      "source": [
        "import pandas as pd\n",
        "import numpy as np\n",
        "import plotnine as p\n",
        "import statsmodels.api as sm\n",
        "import statsmodels.formula.api as smf\n",
        "from stargazer.stargazer import Stargazer"
      ],
      "execution_count": null,
      "outputs": []
    },
    {
      "cell_type": "code",
      "metadata": {
        "id": "1wJyozwWy6Hj"
      },
      "source": [
        "import ssl\n",
        "ssl._create_default_https_context = ssl._create_unverified_context\n",
        "\n",
        "def read_data(file):\n",
        "    full_path = \"https://raw.github.com/scunning1975/mixtape/master/\" + file\n",
        "    \n",
        "    return pd.read_stata(full_path)\n",
        "    "
      ],
      "execution_count": null,
      "outputs": []
    },
    {
      "cell_type": "markdown",
      "metadata": {
        "id": "DCmZcJf3y6Hj"
      },
      "source": [
        "## RDD Simulation\n",
        "\n",
        "Generate a simple Regression Discontinuity, before and after the treatment is given. "
      ]
    },
    {
      "cell_type": "code",
      "metadata": {
        "id": "MJ8V2hizy6Hk"
      },
      "source": [
        "dat = pd.DataFrame({'x': np.random.normal(50, 25, 1000)})\n",
        "dat.loc[dat.x<0, 'x'] = 0\n",
        "dat = dat[dat.x<100]\n",
        "dat['D'] = 0\n",
        "dat.loc[dat.x>50, 'D'] = 1\n",
        "dat['y1'] = 25 + 0*dat.D + 1.5 * dat.x + np.random.normal(0, 20, dat.shape[0])\n",
        "dat['y2'] = 25 + 40*dat.D + 1.5 * dat.x + np.random.normal(0, 20, dat.shape[0])\n",
        "print('\"Counterfactual Potential Outcomes')"
      ],
      "execution_count": null,
      "outputs": []
    },
    {
      "cell_type": "code",
      "metadata": {
        "id": "wXnmpaF2y6Hk"
      },
      "source": [
        "p.ggplot(dat, p.aes(x='x', y='y1', color = 'factor(D)')) +\\\n",
        "    p.geom_point(alpha = 0.5) +\\\n",
        "    p.geom_vline(xintercept = 50, colour = \"grey\") +\\\n",
        "    p.stat_smooth(method = \"lm\", se = 'F') +\\\n",
        "    p.labs(x = \"Test score (X)\", y = \"Potential Outcome (Y1)\")"
      ],
      "execution_count": null,
      "outputs": []
    },
    {
      "cell_type": "code",
      "metadata": {
        "id": "2WlrP6N5y6Hk"
      },
      "source": [
        "print('\"Counterfactual Potential Outcomes after Treatment')\n",
        "p.ggplot(dat, p.aes(x='x', y='y2', color = 'factor(D)')) +\\\n",
        "    p.geom_point(alpha = 0.5) +\\\n",
        "    p.geom_vline(xintercept = 50, colour = \"grey\") +\\\n",
        "    p.stat_smooth(method = \"lm\", se = 'F') +\\\n",
        "    p.labs(x = \"Test score (X)\", y = \"Potential Outcome (Y)\")"
      ],
      "execution_count": null,
      "outputs": []
    },
    {
      "cell_type": "code",
      "metadata": {
        "id": "jk9-Fv0Qy6Hl"
      },
      "source": [
        "dat = pd.DataFrame({'x': np.random.normal(100, 50, 1000)})\n",
        "dat.loc[dat.x<0, 'x'] = 0\n",
        "dat['x2'] = dat['x']**2\n",
        "dat['x3'] = dat['x']**3\n",
        "dat['D'] = 0\n",
        "dat.loc[dat.x>140, 'D'] = 1\n",
        "\n",
        "dat['y3'] = 10000 + 0*dat.D - 100 * dat.x + dat.x2 + np.random.normal(0, 1000, 1000)\n",
        "dat = dat[dat.x < 280]"
      ],
      "execution_count": null,
      "outputs": []
    },
    {
      "cell_type": "code",
      "metadata": {
        "id": "Vi79kScey6Hm"
      },
      "source": [
        "# Linear Model for conditional expectation\n",
        "p.ggplot(dat, p.aes(x='x', y='y3', color = 'factor(D)')) +\\\n",
        "    p.geom_point(alpha = 0.2) +\\\n",
        "    p.geom_vline(xintercept = 140, colour = \"grey\") +\\\n",
        "    p.stat_smooth(method = \"lm\", se = 'F') +\\\n",
        "    p.labs(x = \"Test score (X)\", y = \"Potential Outcome (Y)\")\n"
      ],
      "execution_count": null,
      "outputs": []
    },
    {
      "cell_type": "code",
      "metadata": {
        "id": "udndn8eoy6Hm"
      },
      "source": [
        "# Linear Model for conditional expectation\n",
        "p.ggplot(dat, p.aes(x='x', y='y3', color = 'factor(D)')) +\\\n",
        "    p.geom_point(alpha = 0.2) +\\\n",
        "    p.geom_vline(xintercept = 140, colour = \"grey\") +\\\n",
        "    p.stat_smooth(method = \"lowess\", se = 'F') +\\\n",
        "    p.labs(x = \"Test score (X)\", y = \"Potential Outcome (Y)\")\n"
      ],
      "execution_count": null,
      "outputs": []
    },
    {
      "cell_type": "markdown",
      "metadata": {
        "collapsed": true,
        "id": "uBdm9BjVy6Hn"
      },
      "source": [
        "#### Questions\n",
        "- If you estimated the treatment effect using the linear model, would your treatment effect estimate be near the true treatment effect? \n",
        "\n"
      ]
    },
    {
      "cell_type": "code",
      "metadata": {
        "id": "uhM2uAmWy6Hn"
      },
      "source": [
        "np.random.seed(12282020)\n",
        "\n",
        "# Fully interacted regression\n",
        "all_columns = \"+\".join(dat.columns.difference([\"D\", 'y3']))\n",
        "formula = 'y3 ~ D * ({})'.format(all_columns)\n",
        "\n",
        "regression = sm.OLS.from_formula(formula, data = dat).fit()\n",
        "regression.summary()"
      ],
      "execution_count": null,
      "outputs": []
    },
    {
      "cell_type": "markdown",
      "metadata": {
        "collapsed": true,
        "id": "uLfu1uxuy6Ho"
      },
      "source": [
        "#### Question\n",
        "- What did you estimate as the treatment effect using a third order polynomial of the running variable? Is it statistically significantly different from zero?\n",
        "- Does the estimated treatment effect seem correct from the graph?\n",
        "\n",
        "## The Close Election Design\n",
        "\n",
        "Lets load the data from Lee et. al. (2004):"
      ]
    },
    {
      "cell_type": "code",
      "metadata": {
        "id": "CIMPPUoNy6Ho"
      },
      "source": [
        "def lm_robust(formula, data):\n",
        "    regression = sm.OLS.from_formula(formula, data = data)\n",
        "    regression = regression.fit(cov_type=\"cluster\",cov_kwds={\"groups\":data['id']})\n",
        "    return regression"
      ],
      "execution_count": null,
      "outputs": []
    },
    {
      "cell_type": "code",
      "metadata": {
        "id": "u4cgjASwy6Hp"
      },
      "source": [
        "lmb_data = read_data(\"lmb-data.dta\")"
      ],
      "execution_count": null,
      "outputs": []
    },
    {
      "cell_type": "code",
      "metadata": {
        "id": "fIXqGVqGy6Hp"
      },
      "source": [
        "lmb_data['demvoteshare_c'] = lmb_data['demvoteshare'] - 0.5\n",
        "lmb_subset = lmb_data[lmb_data.lagdemvoteshare.between(.48, .52)]"
      ],
      "execution_count": null,
      "outputs": []
    },
    {
      "cell_type": "code",
      "metadata": {
        "id": "CWboEYtey6Hp"
      },
      "source": [
        "lm_1 = lm_robust('score ~ lagdemocrat', data = lmb_subset)\n",
        "lm_2 = lm_robust('score ~ democrat', data = lmb_subset)\n",
        "lm_3 = lm_robust('democrat ~ lagdemocrat', data = lmb_subset)\n",
        "print(\"Original results based on ADA Scores -- Close Elections Sample\")\n",
        "Stargazer([lm_1, lm_2, lm_3])"
      ],
      "execution_count": null,
      "outputs": []
    },
    {
      "cell_type": "markdown",
      "metadata": {
        "id": "C7I7Gr9Ry6Hp"
      },
      "source": [
        "#### using all data (note data used is lmb_data, not lmb_subset)"
      ]
    },
    {
      "cell_type": "code",
      "metadata": {
        "id": "SXetsy6by6Hq"
      },
      "source": [
        "lm_1 = lm_robust('score ~ lagdemocrat', data = lmb_data)\n",
        "lm_2 = lm_robust('score ~ democrat', data = lmb_data)\n",
        "lm_3 = lm_robust('democrat ~ lagdemocrat', data = lmb_data)\n",
        "print(\"Original results based on ADA Scores -- Full Sample\")\n",
        "Stargazer([lm_1, lm_2, lm_3])"
      ],
      "execution_count": null,
      "outputs": []
    },
    {
      "cell_type": "code",
      "metadata": {
        "id": "jThsUfWSy6Hq"
      },
      "source": [
        "# drop missing values\n",
        "lmb_data = lmb_data[~pd.isnull(lmb_data.demvoteshare_c)]"
      ],
      "execution_count": null,
      "outputs": []
    },
    {
      "cell_type": "code",
      "metadata": {
        "id": "T4hLh7pvy6Hq"
      },
      "source": [
        "\n",
        "lm_1 = lm_robust('score ~ lagdemocrat + demvoteshare_c', data = lmb_data)\n",
        "lm_2 = lm_robust('score ~ democrat + demvoteshare_c', data = lmb_data)\n",
        "lm_3 = lm_robust('democrat ~ lagdemocrat + demvoteshare_c', data = lmb_data)\n",
        "print(\"Results based on ADA Scores -- Full Sample\")\n",
        "Stargazer([lm_1, lm_2, lm_3])"
      ],
      "execution_count": null,
      "outputs": []
    },
    {
      "cell_type": "code",
      "metadata": {
        "id": "Q2I7kwxpy6Hq"
      },
      "source": [
        "lm_1 = lm_robust('score ~ lagdemocrat*demvoteshare_c', data = lmb_data)\n",
        "lm_2 = lm_robust('score ~ democrat*demvoteshare_c', data = lmb_data)\n",
        "lm_3 = lm_robust('democrat ~ lagdemocrat*demvoteshare_c', data = lmb_data)\n",
        "print(\"Original results based on ADA Scores -- Full Sample with linear interactions\")\n",
        "Stargazer([lm_1, lm_2, lm_3])"
      ],
      "execution_count": null,
      "outputs": []
    },
    {
      "cell_type": "code",
      "metadata": {
        "id": "u28rRDVcy6Hv"
      },
      "source": [
        "lmb_data['demvoteshare_sq'] = lmb_data['demvoteshare_c']**2"
      ],
      "execution_count": null,
      "outputs": []
    },
    {
      "cell_type": "code",
      "metadata": {
        "id": "JOL5fQEUy6Hw"
      },
      "source": [
        "lm_1 = lm_robust('score ~ lagdemocrat*demvoteshare_c + lagdemocrat*demvoteshare_sq', \n",
        "                 data = lmb_data)\n",
        "lm_2 = lm_robust('score ~ democrat*demvoteshare_c + democrat*demvoteshare_sq', \n",
        "                 data = lmb_data)\n",
        "lm_3 = lm_robust('democrat ~ lagdemocrat*demvoteshare_c + lagdemocrat*demvoteshare_sq', \n",
        "                 data = lmb_data)\n",
        "print(\"Original results based on ADA Scores -- Full Sample with linear and quadratic interactions\")\n",
        "Stargazer([lm_1, lm_2, lm_3])"
      ],
      "execution_count": null,
      "outputs": []
    },
    {
      "cell_type": "code",
      "metadata": {
        "id": "0wbTpPuey6Hw"
      },
      "source": [
        "lmb_subset = lmb_data[lmb_data.demvoteshare.between(.45, .55)]"
      ],
      "execution_count": null,
      "outputs": []
    },
    {
      "cell_type": "code",
      "metadata": {
        "id": "j7nwJADay6Hw"
      },
      "source": [
        "lm_1 = lm_robust('score ~ lagdemocrat*demvoteshare_c + lagdemocrat*demvoteshare_sq', \n",
        "                 data = lmb_subset)\n",
        "lm_2 = lm_robust('score ~ democrat*demvoteshare_c + democrat*demvoteshare_sq', \n",
        "                 data = lmb_subset)\n",
        "lm_3 = lm_robust('democrat ~ lagdemocrat*demvoteshare_c + lagdemocrat*demvoteshare_sq', \n",
        "                 data = lmb_subset)\n",
        "print(\"Results based on ADA Scores -- Close Sample with linear and quadratic interactions\")\n",
        "Stargazer([lm_1, lm_2, lm_3])"
      ],
      "execution_count": null,
      "outputs": []
    },
    {
      "cell_type": "code",
      "metadata": {
        "scrolled": true,
        "id": "vZY4t08Iy6Hw"
      },
      "source": [
        "#aggregating the data\n",
        "lmb_data = lmb_data[lmb_data.demvoteshare.between(.45, .55)]\n",
        "categories = lmb_data.lagdemvoteshare\n",
        "lmb_data['lagdemvoteshare_100'] = pd.cut(lmb_data.lagdemvoteshare, 100)\n",
        "\n",
        "agg_lmb_data = lmb_data.groupby('lagdemvoteshare_100')['score'].mean().reset_index()\n",
        "lmb_data['gg_group'] = [1 if x>.5 else 0 for x in lmb_data.lagdemvoteshare]\n",
        "agg_lmb_data['lagdemvoteshare'] = np.arange(0.01, 1.01, .01)\n",
        "#plotting\n",
        "\n",
        "p.ggplot(lmb_data, p.aes('lagdemvoteshare', 'score')) +\\\n",
        "    p.geom_point(p.aes(x = 'lagdemvoteshare', y = 'score'), data = agg_lmb_data) +\\\n",
        "    p.stat_smooth(p.aes('lagdemvoteshare', 'score', group = 'gg_group'), \n",
        "                  data=lmb_data, method = \"lm\", \n",
        "              formula = 'y ~ x + I(x**2)') +\\\n",
        "    p.xlim(0,1) + p.ylim(0,100) +\\\n",
        "    p.geom_vline(xintercept = 0.5)"
      ],
      "execution_count": null,
      "outputs": []
    },
    {
      "cell_type": "code",
      "metadata": {
        "scrolled": false,
        "id": "Q4gJ7gWdy6Hx"
      },
      "source": [
        "p.ggplot(lmb_data, p.aes('lagdemvoteshare', 'score')) +\\\n",
        "    p.geom_point(p.aes(x = 'lagdemvoteshare', y = 'score'), data = agg_lmb_data) +\\\n",
        "    p.stat_smooth(p.aes('lagdemvoteshare', 'score', group = 'gg_group'), \n",
        "                  data=lmb_data, method = \"lowess\") +\\\n",
        "    p.xlim(0,1) + p.ylim(0,100) +\\\n",
        "    p.geom_vline(xintercept = 0.5)"
      ],
      "execution_count": null,
      "outputs": []
    },
    {
      "cell_type": "code",
      "metadata": {
        "id": "ynGt6o9cy6Hx"
      },
      "source": [
        "p.ggplot(lmb_data, p.aes('lagdemvoteshare', 'score')) +\\\n",
        "    p.geom_point(p.aes(x = 'lagdemvoteshare', y = 'score'), data = agg_lmb_data) +\\\n",
        "    p.stat_smooth(p.aes('lagdemvoteshare', 'score', group = 'gg_group'), \n",
        "                  data=lmb_data, method = \"lm\")+\\\n",
        "    p.xlim(0,1) + p.ylim(0,100) +\\\n",
        "    p.geom_vline(xintercept = 0.5)"
      ],
      "execution_count": null,
      "outputs": []
    },
    {
      "cell_type": "markdown",
      "metadata": {
        "id": "MAJYHQsRy6Hx"
      },
      "source": [
        "## Smoothing and Density [WIP]"
      ]
    },
    {
      "cell_type": "markdown",
      "metadata": {
        "id": "uW7bOA62y6Hx"
      },
      "source": [
        "#### Questions\n",
        "- Can you think of another example where you might use the close election design to estimate some average treatment effect?\n",
        "- To what degree does this study help us understand the importance of incumbency in a Presidential election?  Why/why not?"
      ]
    }
  ]
}