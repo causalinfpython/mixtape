{
  "cells": [
    {
      "cell_type": "markdown",
      "metadata": {
        "id": "Z35_aLlWy_Fv"
      },
      "source": [
        "## Welcome\n",
        "\n",
        "This is material for the **Synthetic Control** chapter in Scott Cunningham's book, [Causal Inference: The Mixtape.](https://mixtape.scunning.com/)\n",
        "\n"
      ]
    },
    {
      "cell_type": "code",
      "execution_count": null,
      "metadata": {},
      "outputs": [],
      "source": [
        "# This cell installs some utility packages. We utilize R via rpy2.\n",
        "\n",
        "from rpy2.robjects.packages import importr\n",
        "from rpy2.robjects.conversion import localconverter\n",
        "utils = importr('utils')\n",
        "utils.install_packages('Synth')"
      ]
    },
    {
      "cell_type": "code",
      "execution_count": null,
      "metadata": {
        "id": "RhI-LpU2y_Fy"
      },
      "outputs": [],
      "source": [
        "import numpy as np\n",
        "import pandas as pd\n",
        "import statsmodels.api as sm\n",
        "import statsmodels.formula.api as smf\n",
        "\n",
        "from rpy2 import robjects\n",
        "from rpy2.robjects import pandas2ri\n",
        "pandas2ri.activate()\n",
        "from rpy2.robjects.vectors import IntVector\n",
        "\n",
        "import plotnine as p\n",
        "import matplotlib.pyplot as plt\n",
        "\n",
        "%matplotlib inline\n",
        "\n"
      ]
    },
    {
      "cell_type": "code",
      "execution_count": null,
      "metadata": {
        "id": "3NandIHWy_Fz"
      },
      "outputs": [],
      "source": [
        "import ssl\n",
        "ssl._create_default_https_context = ssl._create_unverified_context\n",
        "\n",
        "def read_data(file):\n",
        "    full_path = \"https://raw.github.com/scunning1975/mixtape/master/\" + file\n",
        "    \n",
        "    return pd.read_stata(full_path)"
      ]
    },
    {
      "cell_type": "markdown",
      "metadata": {
        "id": "r-anKuMjy_Fz"
      },
      "source": [
        "## Prison Construction and Black Male Incarceration\n"
      ]
    },
    {
      "cell_type": "code",
      "execution_count": null,
      "metadata": {
        "id": "NAWX6mUiy_Fz"
      },
      "outputs": [],
      "source": [
        "texas = read_data(\"texas.dta\")"
      ]
    },
    {
      "cell_type": "code",
      "execution_count": null,
      "metadata": {
        "id": "VvGwUOl9y_F0"
      },
      "outputs": [],
      "source": [
        "Synth = importr('Synth')"
      ]
    },
    {
      "cell_type": "code",
      "execution_count": null,
      "metadata": {
        "id": "lFkIg5WQy_F0"
      },
      "outputs": [],
      "source": [
        "control_units = [1, 2, 4, 5, 6] +\\\n",
        "    list(range(8, 14)) + list(range(15,43)) +\\\n",
        "    list(range(44, 47)) + [49, 50, 51, 53,54,55,56]\n",
        "\n",
        "robjects.globalenv['texas'] = texas\n",
        "\n",
        "predictors = robjects.vectors.StrVector(['poverty', 'income'])\n",
        "sp = robjects.vectors.ListVector({'1': ['bmprison', IntVector([1988, 1990, 1991, 1992]), 'mean'], \n",
        "                                  '2': ['alcohol', 1990, 'mean'], \n",
        "                                  '3': ['aidscapita', IntVector([1990, 1991]), 'mean'], \n",
        "                                  '4': ['black', IntVector([1990, 1991, 1992]), 'mean'], \n",
        "                                  '5': ['perc1519', 1990, 'mean']})\n",
        "\n",
        "dataprep_out = Synth.dataprep(texas, \n",
        "    predictors = predictors,\n",
        "    predictors_op=\"mean\",\n",
        "    time_predictors_prior=np.arange(1985, 1994),\n",
        "    special_predictors=sp,\n",
        "    dependent='bmprison',\n",
        "    unit_variable='statefip',\n",
        "    unit_names_variable='state',\n",
        "    time_variable='year',\n",
        "    treatment_identifier=48,\n",
        "    controls_identifier=control_units,\n",
        "    time_optimize_ssr=np.arange(1985, 1994),\n",
        "    time_plot=np.arange(1985, 2001))\n",
        "\n",
        "synth_out = Synth.synth(data_prep_obj = dataprep_out)"
      ]
    },
    {
      "cell_type": "code",
      "execution_count": null,
      "metadata": {
        "id": "QsvAkAVey_F1"
      },
      "outputs": [],
      "source": [
        "weights = synth_out.rx['solution.w'][0]\n",
        "ct_weights = pd.DataFrame({'ct_weights':weights.flatten(), 'statefip':control_units})\n",
        "ct_weights.head()"
      ]
    },
    {
      "cell_type": "code",
      "execution_count": null,
      "metadata": {
        "id": "bYTZBE1Dy_F1"
      },
      "outputs": [],
      "source": [
        "texas = pd.merge(ct_weights, texas, how='right', on='statefip')"
      ]
    },
    {
      "cell_type": "code",
      "execution_count": null,
      "metadata": {
        "id": "Wdm6AMX-y_F2"
      },
      "outputs": [],
      "source": [
        "texas = texas.sort_values('year')\n",
        "ct = texas.groupby('year').apply(lambda x : np.sum(x['ct_weights']*x['bmprison']))\n",
        "treated = texas[texas.statefip==48]['bmprison'].values\n",
        "years = texas.year.unique()\n",
        "\n",
        "\n",
        "plt.plot(years, ct, linestyle='--', color='black', label='control')\n",
        "plt.plot(years, treated, linestyle='-', color='black', label='treated')\n",
        "plt.legend()\n",
        "plt.ylabel('bmprison')\n",
        "plt.xlabel('Time')\n",
        "plt.title('Synthetic Control Performance')"
      ]
    },
    {
      "cell_type": "code",
      "execution_count": null,
      "metadata": {
        "id": "2HFfnfJ0y_F2"
      },
      "outputs": [],
      "source": [
        "ct_diff = treated - ct\n",
        "\n",
        "plt.plot(years, np.zeros(len(years)), linestyle='--', color='black', label='control')\n",
        "plt.plot(years, ct_diff, linestyle='-', color='black', label='treated')\n",
        "plt.legend()\n",
        "plt.ylabel('bmprison')\n",
        "plt.xlabel('Time')\n",
        "plt.title('Treated - Control')"
      ]
    },
    {
      "cell_type": "markdown",
      "metadata": {
        "id": "OFhNIRSay_F2"
      },
      "source": [
        "\n",
        "#### Questions\n",
        "- In your own words, what do you think the identifying assumptions are for synthetic control to be consistent? \n",
        "- What role, if any, does parallel trends play in synthetic control?\n",
        "- Who is the unit with the largest ratio of post to pre RMSPE?  \n",
        "- Compare the unit with the largest post to pre RMSPE estimated effect to the Texas effect.  How do the weights compare?  How do the size of the effects compare?  How do the ``signs`` of the effects compare?\n",
        "- Can you improve on my fit by experimenting with different combinations? Do so and report your analysis.\n",
        "- Report results from a variety of different specifications.  How robust does the prison effect appear to be?\n",
        "\n"
      ]
    }
  ],
  "metadata": {
    "colab": {
      "name": "Synthetic_Control.ipynb",
      "provenance": []
    },
    "kernelspec": {
      "display_name": "Python 3.8.5 64-bit",
      "metadata": {
        "interpreter": {
          "hash": "aee8b7b246df8f9039afb4144a1f6fd8d2ca17a180786b69acc140d282b71a49"
        }
      },
      "name": "python3"
    },
    "language_info": {
      "codemirror_mode": {
        "name": "ipython",
        "version": 3
      },
      "file_extension": ".py",
      "mimetype": "text/x-python",
      "name": "python",
      "nbconvert_exporter": "python",
      "pygments_lexer": "ipython3",
      "version": "3.9.7"
    }
  },
  "nbformat": 4,
  "nbformat_minor": 0
}
