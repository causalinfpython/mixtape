{
 "cells": [
  {
   "cell_type": "markdown",
   "metadata": {
    "id": "uIsGV19hymro"
   },
   "source": [
    "## Welcome\n",
    "\n",
    "This is material for the **Matching and Subclassification** chapter in Scott Cunningham's book, [Causal Inference: The Mixtape.](https://mixtape.scunning.com/)"
   ]
  },
  {
   "cell_type": "code",
   "execution_count": 4,
   "metadata": {
    "id": "fYx4F5RIymrt"
   },
   "outputs": [],
   "source": [
    "import pandas as pd\n",
    "import numpy as np\n",
    "import matplotlib.pyplot as plt\n",
    "import statsmodels.api as sm\n",
    "import statsmodels.formula.api as smf\n",
    "from itertools import combinations"
   ]
  },
  {
   "cell_type": "code",
   "execution_count": 5,
   "metadata": {
    "id": "JKHce-3zymrt"
   },
   "outputs": [],
   "source": [
    "import ssl\n",
    "ssl._create_default_https_context = ssl._create_unverified_context\n",
    "\n",
    "def read_data(file):\n",
    "    full_path = \"https://raw.github.com/scunning1975/mixtape/master/\" + file\n",
    "    \n",
    "    return pd.read_stata(full_path)\n",
    "    "
   ]
  },
  {
   "cell_type": "code",
   "execution_count": 6,
   "metadata": {
    "id": "digj4EeYbJt3"
   },
   "outputs": [],
   "source": [
    "# Subclassification\n",
    "##Read data\n",
    "titanic = read_data(\"titanic.dta\")"
   ]
  },
  {
   "cell_type": "code",
   "execution_count": 7,
   "metadata": {
    "id": "Z321ONMsymru"
   },
   "outputs": [],
   "source": [
    "titanic['d'] = 0\n",
    "titanic.loc[titanic['class']=='1st class', 'd'] = 1\n",
    "\n",
    "titanic['sex_d'] = 0\n",
    "titanic.loc[titanic['sex']=='man', 'sex_d'] = 1\n",
    "\n",
    "titanic['age_d'] = 0\n",
    "titanic.loc[titanic['age']=='adults', 'age_d'] = 1\n",
    "\n",
    "titanic['survived_d'] = 0\n",
    "titanic.loc[titanic['survived']=='yes', 'survived_d'] = 1\n"
   ]
  },
  {
   "cell_type": "code",
   "execution_count": 8,
   "metadata": {
    "colab": {
     "base_uri": "https://localhost:8080/"
    },
    "id": "jRsEaQYFymru",
    "outputId": "3c82fe50-aae8-4b39-ee02-33d5e5e30c01"
   },
   "outputs": [
    {
     "name": "stdout",
     "output_type": "stream",
     "text": [
      "The simple difference in outcomes is 35.38%\n"
     ]
    }
   ],
   "source": [
    "## Simple Difference in Outcomes\n",
    "ey0 = titanic.loc[titanic['d']==0, 'survived_d'].mean()\n",
    "ey1 = titanic.loc[titanic['d']==1, 'survived_d'].mean()\n",
    "\n",
    "sdo = ey1 - ey0\n",
    "print(\"The simple difference in outcomes is {:.2%}\".format(sdo))"
   ]
  },
  {
   "cell_type": "code",
   "execution_count": 9,
   "metadata": {
    "colab": {
     "base_uri": "https://localhost:8080/"
    },
    "id": "sOnGjbESymrv",
    "outputId": "77ae1518-e34c-47ae-8b9c-56c5f537e86c"
   },
   "outputs": [
    {
     "name": "stdout",
     "output_type": "stream",
     "text": [
      "The weighted average treatment effect estimate is 18.8785%\n"
     ]
    }
   ],
   "source": [
    "## Weighted Average Treatment Effect \n",
    "titanic['s'] = 0 \n",
    "titanic.loc[(titanic.sex_d == 0) & (titanic.age_d==1), 's'] = 1\n",
    "titanic.loc[(titanic.sex_d == 0) & (titanic.age_d==0), 's'] = 2\n",
    "titanic.loc[(titanic.sex_d == 1) & (titanic.age_d==1), 's'] = 3\n",
    "titanic.loc[(titanic.sex_d == 1) & (titanic.age_d==0), 's'] = 4\n",
    "\n",
    "obs = titanic.loc[titanic.d == 0].shape[0]\n",
    "\n",
    "def weighted_avg_effect(df):\n",
    "    diff = df[df.d==1].survived_d.mean() - df[df.d==0].survived_d.mean()\n",
    "    weight = df[df.d==0].shape[0]/obs\n",
    "    return diff*weight\n",
    "\n",
    "wate = titanic.groupby('s').apply(weighted_avg_effect).sum()\n",
    "\n",
    "print(\"The weighted average treatment effect estimate is {:.4%}\".format(wate))  "
   ]
  },
  {
   "cell_type": "markdown",
   "metadata": {
    "id": "6uKZvGRKymrw"
   },
   "source": [
    "# Questions\n",
    "- Using the simple difference in outcomes, how much does the probability of survival increase for first-class passengers relative to some control group?\n",
    "- Explain in your own words what stratifying on gender and age did for this difference in outcomes between treatment and control?\n",
    "- After stratifying on gender and age, what happens to the difference in probability of survival between first-class and non-first-class passengers?\n",
    "\n"
   ]
  },
  {
   "cell_type": "markdown",
   "metadata": {
    "id": "rByn5Mzeymrw"
   },
   "source": [
    "## Training Example\n",
    "\n",
    "First, we will look at the distribution of age between the treated and non-treated groups"
   ]
  },
  {
   "cell_type": "code",
   "execution_count": null,
   "metadata": {
    "colab": {
     "base_uri": "https://localhost:8080/",
     "height": 206
    },
    "id": "4P2jRGDzcHaS",
    "outputId": "a6444015-0d66-430b-fc78-20d9c578b988"
   },
   "outputs": [
    {
     "data": {
      "text/html": [
       "\n",
       "  <div id=\"df-08a62f16-80f8-4adc-b802-ceb7ae2ea61a\">\n",
       "    <div class=\"colab-df-container\">\n",
       "      <div>\n",
       "<style scoped>\n",
       "    .dataframe tbody tr th:only-of-type {\n",
       "        vertical-align: middle;\n",
       "    }\n",
       "\n",
       "    .dataframe tbody tr th {\n",
       "        vertical-align: top;\n",
       "    }\n",
       "\n",
       "    .dataframe thead th {\n",
       "        text-align: right;\n",
       "    }\n",
       "</style>\n",
       "<table border=\"1\" class=\"dataframe\">\n",
       "  <thead>\n",
       "    <tr style=\"text-align: right;\">\n",
       "      <th></th>\n",
       "      <th>unit_treat</th>\n",
       "      <th>age_treat</th>\n",
       "      <th>earnings_treat</th>\n",
       "      <th>unit_control</th>\n",
       "      <th>age_control</th>\n",
       "      <th>earnings_control</th>\n",
       "      <th>unit_matched</th>\n",
       "      <th>age_matched</th>\n",
       "      <th>earnings_matched</th>\n",
       "    </tr>\n",
       "  </thead>\n",
       "  <tbody>\n",
       "    <tr>\n",
       "      <th>20</th>\n",
       "      <td>NaN</td>\n",
       "      <td>NaN</td>\n",
       "      <td></td>\n",
       "      <td>NaN</td>\n",
       "      <td>NaN</td>\n",
       "      <td>NaN</td>\n",
       "      <td>NaN</td>\n",
       "      <td>NaN</td>\n",
       "      <td>NaN</td>\n",
       "    </tr>\n",
       "    <tr>\n",
       "      <th>21</th>\n",
       "      <td>NaN</td>\n",
       "      <td>24.3</td>\n",
       "      <td>11075</td>\n",
       "      <td>NaN</td>\n",
       "      <td>31.95</td>\n",
       "      <td>11101.25</td>\n",
       "      <td>NaN</td>\n",
       "      <td>NaN</td>\n",
       "      <td>9380.0</td>\n",
       "    </tr>\n",
       "    <tr>\n",
       "      <th>22</th>\n",
       "      <td>NaN</td>\n",
       "      <td>NaN</td>\n",
       "      <td></td>\n",
       "      <td>NaN</td>\n",
       "      <td>NaN</td>\n",
       "      <td>NaN</td>\n",
       "      <td>NaN</td>\n",
       "      <td>NaN</td>\n",
       "      <td>NaN</td>\n",
       "    </tr>\n",
       "    <tr>\n",
       "      <th>23</th>\n",
       "      <td>NaN</td>\n",
       "      <td>NaN</td>\n",
       "      <td>SDO</td>\n",
       "      <td>-26.25</td>\n",
       "      <td>NaN</td>\n",
       "      <td>NaN</td>\n",
       "      <td>NaN</td>\n",
       "      <td>NaN</td>\n",
       "      <td>NaN</td>\n",
       "    </tr>\n",
       "    <tr>\n",
       "      <th>24</th>\n",
       "      <td>NaN</td>\n",
       "      <td>NaN</td>\n",
       "      <td>ATE</td>\n",
       "      <td>1695.00</td>\n",
       "      <td>NaN</td>\n",
       "      <td>NaN</td>\n",
       "      <td>NaN</td>\n",
       "      <td>NaN</td>\n",
       "      <td>NaN</td>\n",
       "    </tr>\n",
       "  </tbody>\n",
       "</table>\n",
       "</div>\n",
       "      <button class=\"colab-df-convert\" onclick=\"convertToInteractive('df-08a62f16-80f8-4adc-b802-ceb7ae2ea61a')\"\n",
       "              title=\"Convert this dataframe to an interactive table.\"\n",
       "              style=\"display:none;\">\n",
       "        \n",
       "  <svg xmlns=\"http://www.w3.org/2000/svg\" height=\"24px\"viewBox=\"0 0 24 24\"\n",
       "       width=\"24px\">\n",
       "    <path d=\"M0 0h24v24H0V0z\" fill=\"none\"/>\n",
       "    <path d=\"M18.56 5.44l.94 2.06.94-2.06 2.06-.94-2.06-.94-.94-2.06-.94 2.06-2.06.94zm-11 1L8.5 8.5l.94-2.06 2.06-.94-2.06-.94L8.5 2.5l-.94 2.06-2.06.94zm10 10l.94 2.06.94-2.06 2.06-.94-2.06-.94-.94-2.06-.94 2.06-2.06.94z\"/><path d=\"M17.41 7.96l-1.37-1.37c-.4-.4-.92-.59-1.43-.59-.52 0-1.04.2-1.43.59L10.3 9.45l-7.72 7.72c-.78.78-.78 2.05 0 2.83L4 21.41c.39.39.9.59 1.41.59.51 0 1.02-.2 1.41-.59l7.78-7.78 2.81-2.81c.8-.78.8-2.07 0-2.86zM5.41 20L4 18.59l7.72-7.72 1.47 1.35L5.41 20z\"/>\n",
       "  </svg>\n",
       "      </button>\n",
       "      \n",
       "  <style>\n",
       "    .colab-df-container {\n",
       "      display:flex;\n",
       "      flex-wrap:wrap;\n",
       "      gap: 12px;\n",
       "    }\n",
       "\n",
       "    .colab-df-convert {\n",
       "      background-color: #E8F0FE;\n",
       "      border: none;\n",
       "      border-radius: 50%;\n",
       "      cursor: pointer;\n",
       "      display: none;\n",
       "      fill: #1967D2;\n",
       "      height: 32px;\n",
       "      padding: 0 0 0 0;\n",
       "      width: 32px;\n",
       "    }\n",
       "\n",
       "    .colab-df-convert:hover {\n",
       "      background-color: #E2EBFA;\n",
       "      box-shadow: 0px 1px 2px rgba(60, 64, 67, 0.3), 0px 1px 3px 1px rgba(60, 64, 67, 0.15);\n",
       "      fill: #174EA6;\n",
       "    }\n",
       "\n",
       "    [theme=dark] .colab-df-convert {\n",
       "      background-color: #3B4455;\n",
       "      fill: #D2E3FC;\n",
       "    }\n",
       "\n",
       "    [theme=dark] .colab-df-convert:hover {\n",
       "      background-color: #434B5C;\n",
       "      box-shadow: 0px 1px 3px 1px rgba(0, 0, 0, 0.15);\n",
       "      filter: drop-shadow(0px 1px 2px rgba(0, 0, 0, 0.3));\n",
       "      fill: #FFFFFF;\n",
       "    }\n",
       "  </style>\n",
       "\n",
       "      <script>\n",
       "        const buttonEl =\n",
       "          document.querySelector('#df-08a62f16-80f8-4adc-b802-ceb7ae2ea61a button.colab-df-convert');\n",
       "        buttonEl.style.display =\n",
       "          google.colab.kernel.accessAllowed ? 'block' : 'none';\n",
       "\n",
       "        async function convertToInteractive(key) {\n",
       "          const element = document.querySelector('#df-08a62f16-80f8-4adc-b802-ceb7ae2ea61a');\n",
       "          const dataTable =\n",
       "            await google.colab.kernel.invokeFunction('convertToInteractive',\n",
       "                                                     [key], {});\n",
       "          if (!dataTable) return;\n",
       "\n",
       "          const docLinkHtml = 'Like what you see? Visit the ' +\n",
       "            '<a target=\"_blank\" href=https://colab.research.google.com/notebooks/data_table.ipynb>data table notebook</a>'\n",
       "            + ' to learn more about interactive tables.';\n",
       "          element.innerHTML = '';\n",
       "          dataTable['output_type'] = 'display_data';\n",
       "          await google.colab.output.renderOutput(dataTable, element);\n",
       "          const docLink = document.createElement('div');\n",
       "          docLink.innerHTML = docLinkHtml;\n",
       "          element.appendChild(docLink);\n",
       "        }\n",
       "      </script>\n",
       "    </div>\n",
       "  </div>\n",
       "  "
      ],
      "text/plain": [
       "    unit_treat  age_treat  ... age_matched  earnings_matched\n",
       "20         NaN        NaN  ...         NaN               NaN\n",
       "21         NaN       24.3  ...         NaN            9380.0\n",
       "22         NaN        NaN  ...         NaN               NaN\n",
       "23         NaN        NaN  ...         NaN               NaN\n",
       "24         NaN        NaN  ...         NaN               NaN\n",
       "\n",
       "[5 rows x 9 columns]"
      ]
     },
     "execution_count": 7,
     "metadata": {},
     "output_type": "execute_result"
    }
   ],
   "source": [
    "training_example = read_data(\"training_example.dta\")"
   ]
  },
  {
   "cell_type": "code",
   "execution_count": null,
   "metadata": {
    "colab": {
     "base_uri": "https://localhost:8080/",
     "height": 318
    },
    "id": "5ui1lqpEMZhR",
    "outputId": "1557ae07-af6e-48b5-dbef-c3a5fb59651e"
   },
   "outputs": [
    {
     "data": {
      "text/plain": [
       "(array([2., 1., 2., 0., 1., 0., 1., 1., 1., 1.]),\n",
       " array([18. , 19.5, 21. , 22.5, 24. , 25.5, 27. , 28.5, 30. , 31.5, 33. ]),\n",
       " <a list of 10 Patch objects>)"
      ]
     },
     "execution_count": 10,
     "metadata": {},
     "output_type": "execute_result"
    },
    {
     "data": {
      "image/png": "[encoded data removed]",
      "text/plain": [
       "<Figure size 432x288 with 1 Axes>"
      ]
     },
     "metadata": {
      "needs_background": "light"
     },
     "output_type": "display_data"
    }
   ],
   "source": [
    "plt.hist(training_example.age_treat, bins = 10) "
   ]
  },
  {
   "cell_type": "code",
   "execution_count": null,
   "metadata": {
    "colab": {
     "base_uri": "https://localhost:8080/",
     "height": 318
    },
    "id": "kLqQow3UNMsx",
    "outputId": "14d592a2-2d4f-46bc-ef31-835c3b792e94"
   },
   "outputs": [
    {
     "data": {
      "text/plain": [
       "(array([4., 2., 1., 3., 2., 1., 4., 1., 0., 2.]),\n",
       " array([18. , 21.3, 24.6, 27.9, 31.2, 34.5, 37.8, 41.1, 44.4, 47.7, 51. ]),\n",
       " <a list of 10 Patch objects>)"
      ]
     },
     "execution_count": 12,
     "metadata": {},
     "output_type": "execute_result"
    },
    {
     "data": {
      "image/png": "[encoded data removed]",
      "text/plain": [
       "<Figure size 432x288 with 1 Axes>"
      ]
     },
     "metadata": {
      "needs_background": "light"
     },
     "output_type": "display_data"
    }
   ],
   "source": [
    "plt.hist(training_example.age_control, bins = 10)"
   ]
  },
  {
   "cell_type": "code",
   "execution_count": null,
   "metadata": {
    "colab": {
     "base_uri": "https://localhost:8080/",
     "height": 318
    },
    "id": "rNO91fVPNuZy",
    "outputId": "f26062ac-6f70-4752-eb63-42571dd15f23"
   },
   "outputs": [
    {
     "data": {
      "text/plain": [
       "(array([2., 1., 2., 0., 1., 0., 1., 1., 1., 1.]),\n",
       " array([18. , 19.5, 21. , 22.5, 24. , 25.5, 27. , 28.5, 30. , 31.5, 33. ]),\n",
       " <a list of 10 Patch objects>)"
      ]
     },
     "execution_count": 14,
     "metadata": {},
     "output_type": "execute_result"
    },
    {
     "data": {
      "image/png": "[encoded data removed]",
      "text/plain": [
       "<Figure size 432x288 with 1 Axes>"
      ]
     },
     "metadata": {
      "needs_background": "light"
     },
     "output_type": "display_data"
    }
   ],
   "source": [
    "plt.hist(training_example.age_matched, bins = 10)"
   ]
  },
  {
   "cell_type": "markdown",
   "metadata": {
    "id": "O2_LH-w1ymrz"
   },
   "source": [
    "#### Questions\n",
    "\n",
    "- Compare the distribution of ages between the treated and the control groups. How do they differ, if at all?\n"
   ]
  },
  {
   "cell_type": "code",
   "execution_count": 10,
   "metadata": {
    "id": "yI4zU1iHPQ-B"
   },
   "outputs": [],
   "source": [
    "# Approximate Matching\n",
    "## Bias Correction\n",
    "training_bias_reduction = read_data(\"training_bias_reduction.dta\") "
   ]
  },
  {
   "cell_type": "code",
   "execution_count": 11,
   "metadata": {
    "id": "u1bdrpRdPUOC"
   },
   "outputs": [],
   "source": [
    "training_bias_reduction['Y1'] = 0\n",
    "training_bias_reduction.loc[training_bias_reduction['Unit'].isin(range(1,5)), 'Y1'] = 1\n",
    "training_bias_reduction['Y0'] = (4,0,5,1,4,0,5,1)"
   ]
  },
  {
   "cell_type": "code",
   "execution_count": 12,
   "metadata": {
    "colab": {
     "base_uri": "https://localhost:8080/",
     "height": 300
    },
    "id": "oVi5U-7dymrz",
    "outputId": "ef8d24b1-5fe9-49a9-e6bb-044ef3bf2a11"
   },
   "outputs": [
    {
     "data": {
      "text/html": [
       "<div>\n",
       "<style scoped>\n",
       "    .dataframe tbody tr th:only-of-type {\n",
       "        vertical-align: middle;\n",
       "    }\n",
       "\n",
       "    .dataframe tbody tr th {\n",
       "        vertical-align: top;\n",
       "    }\n",
       "\n",
       "    .dataframe thead th {\n",
       "        text-align: right;\n",
       "    }\n",
       "</style>\n",
       "<table border=\"1\" class=\"dataframe\">\n",
       "  <thead>\n",
       "    <tr style=\"text-align: right;\">\n",
       "      <th></th>\n",
       "      <th>Unit</th>\n",
       "      <th>Y1</th>\n",
       "      <th>Y0</th>\n",
       "      <th>Y</th>\n",
       "      <th>D</th>\n",
       "      <th>X</th>\n",
       "      <th>u_hat0</th>\n",
       "    </tr>\n",
       "  </thead>\n",
       "  <tbody>\n",
       "    <tr>\n",
       "      <th>0</th>\n",
       "      <td>1</td>\n",
       "      <td>1</td>\n",
       "      <td>4</td>\n",
       "      <td>5</td>\n",
       "      <td>1</td>\n",
       "      <td>11</td>\n",
       "      <td>3.888071</td>\n",
       "    </tr>\n",
       "    <tr>\n",
       "      <th>1</th>\n",
       "      <td>2</td>\n",
       "      <td>1</td>\n",
       "      <td>0</td>\n",
       "      <td>2</td>\n",
       "      <td>1</td>\n",
       "      <td>7</td>\n",
       "      <td>4.082474</td>\n",
       "    </tr>\n",
       "    <tr>\n",
       "      <th>2</th>\n",
       "      <td>3</td>\n",
       "      <td>1</td>\n",
       "      <td>5</td>\n",
       "      <td>10</td>\n",
       "      <td>1</td>\n",
       "      <td>5</td>\n",
       "      <td>4.179676</td>\n",
       "    </tr>\n",
       "    <tr>\n",
       "      <th>3</th>\n",
       "      <td>4</td>\n",
       "      <td>1</td>\n",
       "      <td>1</td>\n",
       "      <td>6</td>\n",
       "      <td>1</td>\n",
       "      <td>3</td>\n",
       "      <td>4.276878</td>\n",
       "    </tr>\n",
       "    <tr>\n",
       "      <th>4</th>\n",
       "      <td>5</td>\n",
       "      <td>0</td>\n",
       "      <td>4</td>\n",
       "      <td>4</td>\n",
       "      <td>0</td>\n",
       "      <td>10</td>\n",
       "      <td>3.936672</td>\n",
       "    </tr>\n",
       "    <tr>\n",
       "      <th>5</th>\n",
       "      <td>6</td>\n",
       "      <td>0</td>\n",
       "      <td>0</td>\n",
       "      <td>0</td>\n",
       "      <td>0</td>\n",
       "      <td>8</td>\n",
       "      <td>4.033873</td>\n",
       "    </tr>\n",
       "    <tr>\n",
       "      <th>6</th>\n",
       "      <td>7</td>\n",
       "      <td>0</td>\n",
       "      <td>5</td>\n",
       "      <td>5</td>\n",
       "      <td>0</td>\n",
       "      <td>4</td>\n",
       "      <td>4.228277</td>\n",
       "    </tr>\n",
       "    <tr>\n",
       "      <th>7</th>\n",
       "      <td>8</td>\n",
       "      <td>0</td>\n",
       "      <td>1</td>\n",
       "      <td>1</td>\n",
       "      <td>0</td>\n",
       "      <td>1</td>\n",
       "      <td>4.374080</td>\n",
       "    </tr>\n",
       "  </tbody>\n",
       "</table>\n",
       "</div>"
      ],
      "text/plain": [
       "   Unit  Y1  Y0   Y  D   X    u_hat0\n",
       "0     1   1   4   5  1  11  3.888071\n",
       "1     2   1   0   2  1   7  4.082474\n",
       "2     3   1   5  10  1   5  4.179676\n",
       "3     4   1   1   6  1   3  4.276878\n",
       "4     5   0   4   4  0  10  3.936672\n",
       "5     6   0   0   0  0   8  4.033873\n",
       "6     7   0   5   5  0   4  4.228277\n",
       "7     8   0   1   1  0   1  4.374080"
      ]
     },
     "execution_count": 12,
     "metadata": {},
     "output_type": "execute_result"
    }
   ],
   "source": [
    "train_reg = sm.OLS.from_formula('Y ~ X', training_bias_reduction).fit()\n",
    "training_bias_reduction['u_hat0'] = train_reg.predict(training_bias_reduction)\n",
    "training_bias_reduction = training_bias_reduction[['Unit', 'Y1', 'Y0', 'Y', 'D', 'X', 'u_hat0']]\n",
    "\n",
    "training_bias_reduction\n",
    "\n"
   ]
  },
  {
   "cell_type": "markdown",
   "metadata": {
    "id": "Hu5vOqwGymr0"
   },
   "source": [
    "## National Supported Work Demonstration Experiment\n",
    "\n",
    "To compare results, let's first look at the treatment effect identified by a true experiment.\n"
   ]
  },
  {
   "cell_type": "code",
   "execution_count": 13,
   "metadata": {
    "colab": {
     "base_uri": "https://localhost:8080/"
    },
    "id": "TmrUToADymr0",
    "outputId": "d3c2a940-6c1c-44d6-854b-ca7f32511edc"
   },
   "outputs": [
    {
     "name": "stdout",
     "output_type": "stream",
     "text": [
      "The experimental ATE estimate is 1794.35\n"
     ]
    }
   ],
   "source": [
    "nsw_dw = read_data('nsw_mixtape.dta')\n",
    "\n",
    "mean1 = nsw_dw[nsw_dw.treat==1].re78.mean()\n",
    "mean0 = nsw_dw[nsw_dw.treat==0].re78.mean()\n",
    "ate = np.unique(mean1 - mean0)[0]\n",
    "print(\"The experimental ATE estimate is {:.2f}\".format(ate))"
   ]
  },
  {
   "cell_type": "markdown",
   "metadata": {
    "id": "AMkl2OZyymr1"
   },
   "source": [
    "#### Questions\n",
    "- How do you interpret the above estimated ATE?\n",
    "- Say you were interested in the ATT.  Can you report the ATT from a randomized experiment?  If so, what is it? If not, why not?\n",
    "\n",
    "\n",
    "\n",
    "Now, lets turn to a non-experimental control group. We first have to load the data from the CPS. and estimate the propensity score\n"
   ]
  },
  {
   "cell_type": "code",
   "execution_count": 14,
   "metadata": {
    "id": "Luox7xpnn6gR"
   },
   "outputs": [],
   "source": [
    "# Prepare data for logit \n",
    "nsw_dw_cpscontrol = read_data('cps_mixtape.dta')"
   ]
  },
  {
   "cell_type": "code",
   "execution_count": 15,
   "metadata": {
    "id": "KsVfyXHnoBSo"
   },
   "outputs": [],
   "source": [
    "nsw_dw_treated = nsw_dw[nsw_dw['treat']==1] "
   ]
  },
  {
   "cell_type": "code",
   "execution_count": 16,
   "metadata": {
    "id": "MDTyIHsqrLJO"
   },
   "outputs": [],
   "source": [
    "nsw_dw_cpscontrol = pd.concat((nsw_dw_cpscontrol, nsw_dw_treated))\n",
    "nsw_dw_cpscontrol[['u74', 'u75']] = 0\n",
    "nsw_dw_cpscontrol.loc[nsw_dw_cpscontrol.re74==0, 'u74'] = 1\n",
    "nsw_dw_cpscontrol.loc[nsw_dw_cpscontrol.re75==0, 'u75'] = 1\n",
    "# estimating propensity score\n",
    "logit_nsw = smf.glm(formula=\"\"\"treat ~ age + I(age**2) + I(age**3) + educ + I(educ**2) + \n",
    "                    marr + nodegree + black + hisp + re74 + re75 + u74 + u75 + I(educ*re74)\"\"\", \n",
    "                    family=sm.families.Binomial(),\n",
    "                   data=nsw_dw_cpscontrol).fit()\n",
    "                  \n",
    "nsw_dw_cpscontrol['pscore'] = logit_nsw.predict(nsw_dw_cpscontrol)"
   ]
  },
  {
   "cell_type": "code",
   "execution_count": 17,
   "metadata": {
    "colab": {
     "base_uri": "https://localhost:8080/"
    },
    "id": "qBeGHcGbymr1",
    "outputId": "6a738c96-6b5e-4f90-ecfb-13b4563e9847"
   },
   "outputs": [
    {
     "data": {
      "text/plain": [
       "treat\n",
       "0.0    0.006648\n",
       "1.0    0.425357\n",
       "Name: pscore, dtype: float64"
      ]
     },
     "execution_count": 17,
     "metadata": {},
     "output_type": "execute_result"
    }
   ],
   "source": [
    "nsw_dw_cpscontrol.groupby('treat')['pscore'].mean()"
   ]
  },
  {
   "cell_type": "code",
   "execution_count": 18,
   "metadata": {
    "colab": {
     "base_uri": "https://localhost:8080/",
     "height": 292
    },
    "id": "OTC2vLqpQDtf",
    "outputId": "b48a2beb-ced8-4ca1-e7b2-75fe8b581caa"
   },
   "outputs": [
    {
     "data": {
      "image/png": "[encoded data removed]",
      "text/plain": [
       "<Figure size 432x288 with 2 Axes>"
      ]
     },
     "metadata": {
      "needs_background": "light"
     },
     "output_type": "display_data"
    }
   ],
   "source": [
    "histpsc = nsw_dw_cpscontrol.hist(column = 'pscore', by = 'treat', bins = 50)"
   ]
  },
  {
   "cell_type": "markdown",
   "metadata": {
    "id": "BRJ8hqwrymr1"
   },
   "source": [
    "#### Questions\n",
    "- Compare the mean propensity score between the treated and the control groups. What does this reveal about the two groups?\n",
    "- Compare the distribution of propensity scores between the treated and the control groups. How do they differ, if at all?\n"
   ]
  },
  {
   "cell_type": "code",
   "execution_count": 19,
   "metadata": {
    "colab": {
     "base_uri": "https://localhost:8080/"
    },
    "id": "YS7TxmaMymr2",
    "outputId": "43144b49-731e-4964-9715-13cb2a886fb9"
   },
   "outputs": [
    {
     "name": "stdout",
     "output_type": "stream",
     "text": [
      "Treatment Effect (non-normalized, all data): -11876.79\n"
     ]
    }
   ],
   "source": [
    "# Continuation\n",
    "N = nsw_dw_cpscontrol.shape[0]\n",
    "\n",
    "# Manual with non-normalized weights using all data\n",
    "nsw_dw_cpscontrol['d1'] = nsw_dw_cpscontrol.treat/nsw_dw_cpscontrol.pscore\n",
    "nsw_dw_cpscontrol['d0'] = (1-nsw_dw_cpscontrol.treat)/(1-nsw_dw_cpscontrol.pscore)\n",
    "\n",
    "\n",
    "s1 = nsw_dw_cpscontrol.d1.sum()\n",
    "s0 = nsw_dw_cpscontrol.d0.sum()\n",
    "\n",
    "nsw_dw_cpscontrol['y1'] = nsw_dw_cpscontrol.treat * nsw_dw_cpscontrol.re78 / nsw_dw_cpscontrol.pscore\n",
    "nsw_dw_cpscontrol['y0'] = (1 - nsw_dw_cpscontrol.treat) * nsw_dw_cpscontrol.re78 / (1 - nsw_dw_cpscontrol.pscore)\n",
    "nsw_dw_cpscontrol['ht'] = nsw_dw_cpscontrol['y1'] - nsw_dw_cpscontrol['y0']\n",
    "\n",
    "te_1 = nsw_dw_cpscontrol.ht.mean()\n",
    "\n",
    "print(\"Treatment Effect (non-normalized, all data): {:.2f}\".format(te_1))\n",
    "        \n"
   ]
  },
  {
   "cell_type": "code",
   "execution_count": 20,
   "metadata": {
    "colab": {
     "base_uri": "https://localhost:8080/"
    },
    "id": "6Q-qLlhoymr2",
    "outputId": "b9ee11ff-825f-4058-faf9-a7da34b6bbd5"
   },
   "outputs": [
    {
     "name": "stdout",
     "output_type": "stream",
     "text": [
      "Treatment Effect (normalized, all data): -7238.14\n"
     ]
    }
   ],
   "source": [
    "nsw_dw_cpscontrol['y1'] = nsw_dw_cpscontrol.treat * nsw_dw_cpscontrol.re78 / nsw_dw_cpscontrol.pscore\n",
    "nsw_dw_cpscontrol['y1'] /= s1/N\n",
    "nsw_dw_cpscontrol['y0'] = (1 - nsw_dw_cpscontrol.treat) * nsw_dw_cpscontrol.re78 / (1 - nsw_dw_cpscontrol.pscore)\n",
    "nsw_dw_cpscontrol['y0'] /= s0/N\n",
    "nsw_dw_cpscontrol['ht'] = nsw_dw_cpscontrol['y1'] - nsw_dw_cpscontrol['y0']\n",
    "\n",
    "te_2 = nsw_dw_cpscontrol.ht.mean()\n",
    "\n",
    "print(\"Treatment Effect (normalized, all data): {:.2f}\".format(te_2))\n",
    "        "
   ]
  },
  {
   "cell_type": "code",
   "execution_count": 21,
   "metadata": {
    "colab": {
     "base_uri": "https://localhost:8080/"
    },
    "id": "q9LLV-SYymr2",
    "outputId": "3cd5a8ed-9342-4367-ade7-8ce7b03c8083"
   },
   "outputs": [
    {
     "name": "stdout",
     "output_type": "stream",
     "text": [
      "Treatment Effect (non-normalized, trimmed data): 2006.37\n"
     ]
    }
   ],
   "source": [
    "nsw_dw_trimmed = nsw_dw_cpscontrol.drop(['d1', 'd0', 'y1', 'y0'], axis=1)\n",
    "nsw_dw_trimmed = nsw_dw_trimmed[nsw_dw_trimmed.pscore.between(.1, .9)]\n",
    "N = nsw_dw_trimmed.shape[0]\n",
    "\n",
    "nsw_dw_trimmed['y1'] = nsw_dw_trimmed.treat * nsw_dw_trimmed.re78 / nsw_dw_trimmed.pscore\n",
    "nsw_dw_trimmed['y0'] = (1 - nsw_dw_trimmed.treat) * nsw_dw_trimmed.re78 / (1 - nsw_dw_trimmed.pscore)\n",
    "nsw_dw_trimmed['ht'] = nsw_dw_trimmed['y1'] - nsw_dw_trimmed['y0']\n",
    "\n",
    "te_3 = nsw_dw_trimmed.ht.mean()\n",
    "\n",
    "print(\"Treatment Effect (non-normalized, trimmed data): {:.2f}\".format(te_3))"
   ]
  },
  {
   "cell_type": "code",
   "execution_count": 22,
   "metadata": {
    "colab": {
     "base_uri": "https://localhost:8080/"
    },
    "id": "E8i-vUUoymr2",
    "outputId": "babacb48-8e4d-4085-9e22-b075017ff0e9"
   },
   "outputs": [
    {
     "name": "stdout",
     "output_type": "stream",
     "text": [
      "Treatment Effect (normalized, trimmed data): 1806.73\n"
     ]
    }
   ],
   "source": [
    "nsw_dw_trimmed['d1'] = nsw_dw_trimmed.treat/nsw_dw_trimmed.pscore\n",
    "nsw_dw_trimmed['d0'] = (1-nsw_dw_trimmed.treat)/(1-nsw_dw_trimmed.pscore)\n",
    "\n",
    "s1 = nsw_dw_trimmed.d1.sum()\n",
    "s0 = nsw_dw_trimmed.d0.sum()\n",
    "\n",
    "nsw_dw_trimmed['y1'] = nsw_dw_trimmed.treat * nsw_dw_trimmed.re78 / nsw_dw_trimmed.pscore\n",
    "nsw_dw_trimmed['y1'] /= s1/N\n",
    "nsw_dw_trimmed['y0'] = (1 - nsw_dw_trimmed.treat) * nsw_dw_trimmed.re78 / (1 - nsw_dw_trimmed.pscore)\n",
    "nsw_dw_trimmed['y0'] /= s0/N\n",
    "nsw_dw_trimmed['ht'] = nsw_dw_trimmed['y1'] - nsw_dw_trimmed['y0']\n",
    "\n",
    "te_4 = nsw_dw_trimmed.ht.mean()\n",
    "\n",
    "print(\"Treatment Effect (normalized, trimmed data): {:.2f}\".format(te_4))"
   ]
  },
  {
   "cell_type": "markdown",
   "metadata": {
    "id": "6g_wT_rNymr3"
   },
   "source": [
    "#### Questions\n",
    "\n",
    "- Explain the overlap condition in the context of these data.  How did we ensure that overlap held in the data? \n",
    "- When we are using non-trimmed data, why is the treatment effect negative? (*hint:* it has to do with extreme probability scores)\n",
    "- What does this imply about the challenges of using non-experimental data when estimating causal effects, and why is conditioning on a trimmed propensity score important?\n",
    "\n",
    "\n",
    "## Nearest-Neighbor Matching\n"
   ]
  },
  {
   "cell_type": "code",
   "execution_count": 1,
   "metadata": {},
   "outputs": [
    {
     "data": {
      "text/plain": [
       "<rpy2.rinterface_lib.sexp.NULLType object at 0x000001EF48D9D740> [RTYPES.NILSXP]"
      ]
     },
     "execution_count": 1,
     "metadata": {},
     "output_type": "execute_result"
    }
   ],
   "source": [
    "import rpy2.robjects as ro\n",
    "from rpy2.robjects.packages import importr\n",
    "from rpy2.robjects import pandas2ri\n",
    "from rpy2.robjects.conversion import localconverter\n",
    "from rpy2.robjects import IntVector, Formula\n",
    "import rpy2.robjects.packages as rpackages\n",
    "utils = rpackages.importr('utils')\n",
    "utils.chooseCRANmirror(ind = 1)"
   ]
  },
  {
   "cell_type": "code",
   "execution_count": 2,
   "metadata": {},
   "outputs": [],
   "source": [
    "%%capture\n",
    "\n",
    "# Install and import R packages\n",
    "# MatchIt\n",
    "utils.install_packages(\"MatchIt\")\n",
    "MatchIt = rpackages.importr(\"MatchIt\")\n",
    "\n",
    "# cem\n",
    "utils.install_packages(\"cem\")\n",
    "cem = rpackages.importr(\"cem\")"
   ]
  },
  {
   "cell_type": "code",
   "execution_count": 46,
   "metadata": {},
   "outputs": [
    {
     "name": "stdout",
     "output_type": "stream",
     "text": [
      "                            OLS Regression Results                            \n",
      "==============================================================================\n",
      "Dep. Variable:                   re78   R-squared:                       0.005\n",
      "Model:                            OLS   Adj. R-squared:                  0.002\n",
      "Method:                 Least Squares   F-statistic:                     1.910\n",
      "Date:                Wed, 09 Mar 2022   Prob (F-statistic):              0.168\n",
      "Time:                        13:03:53   Log-Likelihood:                -3817.5\n",
      "No. Observations:                 370   AIC:                             7639.\n",
      "Df Residuals:                     368   BIC:                             7647.\n",
      "Df Model:                           1                                         \n",
      "Covariance Type:                  HC2                                         \n",
      "==============================================================================\n",
      "                 coef    std err          z      P>|z|      [0.025      0.975]\n",
      "------------------------------------------------------------------------------\n",
      "Intercept   5294.1032    498.211     10.626      0.000    4317.628    6270.578\n",
      "treat       1055.0403    763.405      1.382      0.167    -441.206    2551.286\n",
      "==============================================================================\n",
      "Omnibus:                      198.800   Durbin-Watson:                   1.988\n",
      "Prob(Omnibus):                  0.000   Jarque-Bera (JB):             1429.243\n",
      "Skew:                           2.186   Prob(JB):                    4.40e-311\n",
      "Kurtosis:                      11.578   Cond. No.                         2.62\n",
      "==============================================================================\n",
      "\n",
      "Notes:\n",
      "[1] Standard Errors are heteroscedasticity robust (HC2)\n"
     ]
    }
   ],
   "source": [
    "# Get formula\n",
    "fmla = Formula(\n",
    "    \"\"\"treat ~ age + I(age**2) + I(age**3) + educ + I(educ**2) + \n",
    "                    marr + nodegree + black + hisp + re74 + re75 + u74 + u75 + educ:re74\"\"\"\n",
    "              )\n",
    "\n",
    "# Convert the pandas df to an R/rpy2 DataFrame for use with the R packages\n",
    "with localconverter(ro.default_converter + pandas2ri.converter):\n",
    "      nsw_dw_cpscontrol_r = ro.conversion.py2rpy(nsw_dw_cpscontrol)\n",
    "\n",
    "# Use \n",
    "m_out = MatchIt.matchit(fmla, data = nsw_dw_cpscontrol_r,\n",
    "                 method = \"nearest\",\n",
    "                 min_controls = 5)\n",
    "\n",
    "m_data_r = MatchIt.match_data(m_out)\n",
    "\n",
    "# Convert table back to pandas\n",
    "with localconverter(ro.default_converter + pandas2ri.converter):\n",
    "      m_data = ro.conversion.rpy2py(m_data_r)\n",
    "\n",
    "# Run regression\n",
    "m_ate = sm.OLS.from_formula('re78 ~ treat', data = m_data, weights = m_data['weights']).fit(cov_type = \"HC2\")\n",
    "\n",
    "# Print summary\n",
    "print(m_ate.summary())"
   ]
  },
  {
   "cell_type": "code",
   "execution_count": 48,
   "metadata": {},
   "outputs": [
    {
     "name": "stdout",
     "output_type": "stream",
     "text": [
      "                            OLS Regression Results                            \n",
      "==============================================================================\n",
      "Dep. Variable:                   re78   R-squared:                      -0.007\n",
      "Model:                            OLS   Adj. R-squared:                 -0.013\n",
      "Method:                 Least Squares   F-statistic:                     5.216\n",
      "Date:                Wed, 09 Mar 2022   Prob (F-statistic):             0.0237\n",
      "Time:                        13:04:25   Log-Likelihood:                -1580.6\n",
      "No. Observations:                 156   AIC:                             3165.\n",
      "Df Residuals:                     154   BIC:                             3171.\n",
      "Df Model:                           1                                         \n",
      "Covariance Type:                  HC2                                         \n",
      "==============================================================================\n",
      "                 coef    std err          z      P>|z|      [0.025      0.975]\n",
      "------------------------------------------------------------------------------\n",
      "Intercept   4328.2908    557.902      7.758      0.000    3234.822    5421.759\n",
      "treat       2484.9846   1088.050      2.284      0.022     352.445    4617.524\n",
      "==============================================================================\n",
      "Omnibus:                       51.982   Durbin-Watson:                   2.122\n",
      "Prob(Omnibus):                  0.000   Jarque-Bera (JB):              107.371\n",
      "Skew:                           1.507   Prob(JB):                     4.84e-24\n",
      "Kurtosis:                       5.726   Cond. No.                         2.42\n",
      "==============================================================================\n",
      "\n",
      "Notes:\n",
      "[1] Standard Errors are heteroscedasticity robust (HC2)\n"
     ]
    }
   ],
   "source": [
    "# Get formula\n",
    "fmla = Formula(\n",
    "    \"\"\"treat ~ age + I(age**2) + I(age**3) + educ + I(educ**2) + \n",
    "                    marr + nodegree + black + hisp + re74 + re75 + u74 + u75 + educ:re74\"\"\"\n",
    "              )\n",
    "\n",
    "# Convert the pandas df to an R/rpy2 DataFrame for use with the R packages\n",
    "with localconverter(ro.default_converter + pandas2ri.converter):\n",
    "      nsw_dw_cpscontrol_r = ro.conversion.py2rpy(nsw_dw_cpscontrol)\n",
    "\n",
    "# Use matchit from MatchIt R Package\n",
    "\n",
    "m_out = MatchIt.matchit(fmla, data = nsw_dw_cpscontrol_r,\n",
    "                 method = \"cem\",\n",
    "                 min_controls = 5)\n",
    "\n",
    "m_data_r = MatchIt.match_data(m_out)\n",
    "\n",
    "# Convert table back to pandas\n",
    "with localconverter(ro.default_converter + pandas2ri.converter):\n",
    "      m_data = ro.conversion.rpy2py(m_data_r)\n",
    "\n",
    "m_ate = sm.OLS.from_formula('re78 ~ treat', data = m_data, weights = m_data['weights']).fit(cov_type = \"HC2\")\n",
    "\n",
    "# Print summary\n",
    "print(m_ate.summary())"
   ]
  },
  {
   "cell_type": "markdown",
   "metadata": {
    "id": "M0aAPksnymr3"
   },
   "source": [
    "#### Questions\n",
    "- Compare our results from nearest-neighbor matching to what we found using the experimental data, the simple difference in outcomes using non-experimental controls, and propensity score weighting using non-experimental controls.\n",
    "- DIFFICULT: Write a program that performs bootstrapping to get an estimate of the variance of the estimator. (HINT: Write a loop)\n",
    "\n"
   ]
  }
 ],
 "metadata": {
  "colab": {
   "collapsed_sections": [
    "O2_LH-w1ymrz",
    "6g_wT_rNymr3"
   ],
   "name": "Matching_and_Subclassification_copy.ipynb",
   "provenance": []
  },
  "kernelspec": {
   "display_name": "Python 3 (ipykernel)",
   "language": "python",
   "name": "python3"
  },
  "language_info": {
   "codemirror_mode": {
    "name": "ipython",
    "version": 3
   },
   "file_extension": ".py",
   "mimetype": "text/x-python",
   "name": "python",
   "nbconvert_exporter": "python",
   "pygments_lexer": "ipython3",
   "version": "3.8.8"
  },
  "toc": {
   "base_numbering": 1,
   "nav_menu": {},
   "number_sections": true,
   "sideBar": true,
   "skip_h1_title": false,
   "title_cell": "Table of Contents",
   "title_sidebar": "Contents",
   "toc_cell": false,
   "toc_position": {},
   "toc_section_display": true,
   "toc_window_display": false
  }
 },
 "nbformat": 4,
 "nbformat_minor": 1
}
