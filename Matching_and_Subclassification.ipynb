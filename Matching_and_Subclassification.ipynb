{
  "nbformat": 4,
  "nbformat_minor": 0,
  "metadata": {
    "kernelspec": {
      "name": "python3",
      "display_name": "Python 3.8.5 64-bit",
      "metadata": {
        "interpreter": {
          "hash": "aee8b7b246df8f9039afb4144a1f6fd8d2ca17a180786b69acc140d282b71a49"
        }
      }
    },
    "language_info": {
      "codemirror_mode": {
        "name": "ipython",
        "version": 3
      },
      "file_extension": ".py",
      "mimetype": "text/x-python",
      "name": "python",
      "nbconvert_exporter": "python",
      "pygments_lexer": "ipython3",
      "version": "3.8.5-final"
    },
    "toc": {
      "base_numbering": 1,
      "nav_menu": {},
      "number_sections": true,
      "sideBar": true,
      "skip_h1_title": false,
      "title_cell": "Table of Contents",
      "title_sidebar": "Contents",
      "toc_cell": false,
      "toc_position": {},
      "toc_section_display": true,
      "toc_window_display": false
    },
    "colab": {
      "name": "Matching_and_Subclassification_copy.ipynb",
      "provenance": [],
      "collapsed_sections": [
        "O2_LH-w1ymrz",
        "6g_wT_rNymr3"
      ]
    }
  },
  "cells": [
    {
      "cell_type": "markdown",
      "metadata": {
        "id": "uIsGV19hymro"
      },
      "source": [
        "## Welcome\n",
        "\n",
        "This is material for the **Matching and Subclassification** chapter in Scott Cunningham's book, [Causal Inference: The Mixtape.](https://mixtape.scunning.com/)"
      ]
    },
    {
      "cell_type": "code",
      "metadata": {
        "id": "fYx4F5RIymrt"
      },
      "source": [
        "import pandas as pd\n",
        "import numpy as np\n",
        "import plotnine as p ##not for new\n",
        "import matplotlib.pyplot as plt\n",
        "import statsmodels.api as sm\n",
        "import statsmodels.formula.api as smf"
      ],
      "execution_count": null,
      "outputs": []
    },
    {
      "cell_type": "code",
      "metadata": {
        "id": "JKHce-3zymrt"
      },
      "source": [
        "import ssl\n",
        "ssl._create_default_https_context = ssl._create_unverified_context\n",
        "\n",
        "def read_data(file):\n",
        "    full_path = \"https://raw.github.com/scunning1975/mixtape/master/\" + file\n",
        "    \n",
        "    return pd.read_stata(full_path)\n",
        "    "
      ],
      "execution_count": null,
      "outputs": []
    },
    {
      "cell_type": "code",
      "metadata": {
        "id": "digj4EeYbJt3"
      },
      "source": [
        "# Subclassification\n",
        "##Read data\n",
        "titanic = read_data(\"titanic.dta\")"
      ],
      "execution_count": null,
      "outputs": []
    },
    {
      "cell_type": "code",
      "metadata": {
        "id": "Z321ONMsymru"
      },
      "source": [
        "titanic['d'] = 0\n",
        "titanic.loc[titanic['class']=='1st class', 'd'] = 1\n",
        "\n",
        "titanic['sex_d'] = 0\n",
        "titanic.loc[titanic['sex']=='man', 'sex_d'] = 1\n",
        "\n",
        "titanic['age_d'] = 0\n",
        "titanic.loc[titanic['age']=='adults', 'age_d'] = 1\n",
        "\n",
        "titanic['survived_d'] = 0\n",
        "titanic.loc[titanic['survived']=='yes', 'survived_d'] = 1\n"
      ],
      "execution_count": null,
      "outputs": []
    },
    {
      "cell_type": "code",
      "metadata": {
        "id": "jRsEaQYFymru",
        "outputId": "3c82fe50-aae8-4b39-ee02-33d5e5e30c01",
        "colab": {
          "base_uri": "https://localhost:8080/"
        }
      },
      "source": [
        "## Simple Difference in Outcomes\n",
        "ey0 = titanic.loc[titanic['d']==0, 'survived_d'].mean()\n",
        "ey1 = titanic.loc[titanic['d']==1, 'survived_d'].mean()\n",
        "\n",
        "sdo = ey1 - ey0\n",
        "print(\"The simple difference in outcomes is {:.2%}\".format(sdo))"
      ],
      "execution_count": null,
      "outputs": [
        {
          "output_type": "stream",
          "name": "stdout",
          "text": [
            "The simple difference in outcomes is 35.38%\n"
          ]
        }
      ]
    },
    {
      "cell_type": "code",
      "metadata": {
        "id": "QSX6w20s1rPI"
      },
      "source": [
        "from itertools import combinations \n"
      ],
      "execution_count": null,
      "outputs": []
    },
    {
      "cell_type": "code",
      "metadata": {
        "id": "sOnGjbESymrv",
        "outputId": "77ae1518-e34c-47ae-8b9c-56c5f537e86c",
        "colab": {
          "base_uri": "https://localhost:8080/"
        }
      },
      "source": [
        "## Weighted Average Treatment Effect \n",
        "titanic['s'] = 0 \n",
        "titanic.loc[(titanic.sex_d == 0) & (titanic.age_d==1), 's'] = 1\n",
        "titanic.loc[(titanic.sex_d == 0) & (titanic.age_d==0), 's'] = 2\n",
        "titanic.loc[(titanic.sex_d == 1) & (titanic.age_d==1), 's'] = 3\n",
        "titanic.loc[(titanic.sex_d == 1) & (titanic.age_d==0), 's'] = 4\n",
        "\n",
        "obs = titanic.loc[titanic.d == 0].shape[0]\n",
        "\n",
        "def weighted_avg_effect(df):\n",
        "    diff = df[df.d==1].survived_d.mean() - df[df.d==0].survived_d.mean()\n",
        "    weight = df[df.d==0].shape[0]/obs\n",
        "    return diff*weight\n",
        "\n",
        "wate = titanic.groupby('s').apply(weighted_avg_effect).sum()\n",
        "\n",
        "print(\"The weighted average treatment effect estimate is {:.4%}\".format(wate))  "
      ],
      "execution_count": null,
      "outputs": [
        {
          "output_type": "stream",
          "name": "stdout",
          "text": [
            "The weighted average treatment effect estimate is 18.8785%\n"
          ]
        }
      ]
    },
    {
      "cell_type": "markdown",
      "metadata": {
        "id": "6uKZvGRKymrw"
      },
      "source": [
        "# Questions\n",
        "- Using the simple difference in outcomes, how much does the probability of survival increase for first-class passengers relative to some control group?\n",
        "- Explain in your own words what stratifying on gender and age did for this difference in outcomes between treatment and control?\n",
        "- After stratifying on gender and age, what happens to the difference in probability of survival between first-class and non-first-class passengers?\n",
        "\n"
      ]
    },
    {
      "cell_type": "markdown",
      "metadata": {
        "id": "rByn5Mzeymrw"
      },
      "source": [
        "## Training Example\n",
        "\n",
        "First, we will look at the distribution of age between the treated and non-treated groups"
      ]
    },
    {
      "cell_type": "code",
      "source": [
        "# Exact Matching\n",
        "training_example = read_data(\"training_example.dta\")\n",
        "training_example.tail() ########################SLICE!!####"
      ],
      "metadata": {
        "colab": {
          "base_uri": "https://localhost:8080/",
          "height": 206
        },
        "id": "4P2jRGDzcHaS",
        "outputId": "a6444015-0d66-430b-fc78-20d9c578b988"
      },
      "execution_count": null,
      "outputs": [
        {
          "output_type": "execute_result",
          "data": {
            "text/html": [
              "\n",
              "  <div id=\"df-08a62f16-80f8-4adc-b802-ceb7ae2ea61a\">\n",
              "    <div class=\"colab-df-container\">\n",
              "      <div>\n",
              "<style scoped>\n",
              "    .dataframe tbody tr th:only-of-type {\n",
              "        vertical-align: middle;\n",
              "    }\n",
              "\n",
              "    .dataframe tbody tr th {\n",
              "        vertical-align: top;\n",
              "    }\n",
              "\n",
              "    .dataframe thead th {\n",
              "        text-align: right;\n",
              "    }\n",
              "</style>\n",
              "<table border=\"1\" class=\"dataframe\">\n",
              "  <thead>\n",
              "    <tr style=\"text-align: right;\">\n",
              "      <th></th>\n",
              "      <th>unit_treat</th>\n",
              "      <th>age_treat</th>\n",
              "      <th>earnings_treat</th>\n",
              "      <th>unit_control</th>\n",
              "      <th>age_control</th>\n",
              "      <th>earnings_control</th>\n",
              "      <th>unit_matched</th>\n",
              "      <th>age_matched</th>\n",
              "      <th>earnings_matched</th>\n",
              "    </tr>\n",
              "  </thead>\n",
              "  <tbody>\n",
              "    <tr>\n",
              "      <th>20</th>\n",
              "      <td>NaN</td>\n",
              "      <td>NaN</td>\n",
              "      <td></td>\n",
              "      <td>NaN</td>\n",
              "      <td>NaN</td>\n",
              "      <td>NaN</td>\n",
              "      <td>NaN</td>\n",
              "      <td>NaN</td>\n",
              "      <td>NaN</td>\n",
              "    </tr>\n",
              "    <tr>\n",
              "      <th>21</th>\n",
              "      <td>NaN</td>\n",
              "      <td>24.3</td>\n",
              "      <td>11075</td>\n",
              "      <td>NaN</td>\n",
              "      <td>31.95</td>\n",
              "      <td>11101.25</td>\n",
              "      <td>NaN</td>\n",
              "      <td>NaN</td>\n",
              "      <td>9380.0</td>\n",
              "    </tr>\n",
              "    <tr>\n",
              "      <th>22</th>\n",
              "      <td>NaN</td>\n",
              "      <td>NaN</td>\n",
              "      <td></td>\n",
              "      <td>NaN</td>\n",
              "      <td>NaN</td>\n",
              "      <td>NaN</td>\n",
              "      <td>NaN</td>\n",
              "      <td>NaN</td>\n",
              "      <td>NaN</td>\n",
              "    </tr>\n",
              "    <tr>\n",
              "      <th>23</th>\n",
              "      <td>NaN</td>\n",
              "      <td>NaN</td>\n",
              "      <td>SDO</td>\n",
              "      <td>-26.25</td>\n",
              "      <td>NaN</td>\n",
              "      <td>NaN</td>\n",
              "      <td>NaN</td>\n",
              "      <td>NaN</td>\n",
              "      <td>NaN</td>\n",
              "    </tr>\n",
              "    <tr>\n",
              "      <th>24</th>\n",
              "      <td>NaN</td>\n",
              "      <td>NaN</td>\n",
              "      <td>ATE</td>\n",
              "      <td>1695.00</td>\n",
              "      <td>NaN</td>\n",
              "      <td>NaN</td>\n",
              "      <td>NaN</td>\n",
              "      <td>NaN</td>\n",
              "      <td>NaN</td>\n",
              "    </tr>\n",
              "  </tbody>\n",
              "</table>\n",
              "</div>\n",
              "      <button class=\"colab-df-convert\" onclick=\"convertToInteractive('df-08a62f16-80f8-4adc-b802-ceb7ae2ea61a')\"\n",
              "              title=\"Convert this dataframe to an interactive table.\"\n",
              "              style=\"display:none;\">\n",
              "        \n",
              "  <svg xmlns=\"http://www.w3.org/2000/svg\" height=\"24px\"viewBox=\"0 0 24 24\"\n",
              "       width=\"24px\">\n",
              "    <path d=\"M0 0h24v24H0V0z\" fill=\"none\"/>\n",
              "    <path d=\"M18.56 5.44l.94 2.06.94-2.06 2.06-.94-2.06-.94-.94-2.06-.94 2.06-2.06.94zm-11 1L8.5 8.5l.94-2.06 2.06-.94-2.06-.94L8.5 2.5l-.94 2.06-2.06.94zm10 10l.94 2.06.94-2.06 2.06-.94-2.06-.94-.94-2.06-.94 2.06-2.06.94z\"/><path d=\"M17.41 7.96l-1.37-1.37c-.4-.4-.92-.59-1.43-.59-.52 0-1.04.2-1.43.59L10.3 9.45l-7.72 7.72c-.78.78-.78 2.05 0 2.83L4 21.41c.39.39.9.59 1.41.59.51 0 1.02-.2 1.41-.59l7.78-7.78 2.81-2.81c.8-.78.8-2.07 0-2.86zM5.41 20L4 18.59l7.72-7.72 1.47 1.35L5.41 20z\"/>\n",
              "  </svg>\n",
              "      </button>\n",
              "      \n",
              "  <style>\n",
              "    .colab-df-container {\n",
              "      display:flex;\n",
              "      flex-wrap:wrap;\n",
              "      gap: 12px;\n",
              "    }\n",
              "\n",
              "    .colab-df-convert {\n",
              "      background-color: #E8F0FE;\n",
              "      border: none;\n",
              "      border-radius: 50%;\n",
              "      cursor: pointer;\n",
              "      display: none;\n",
              "      fill: #1967D2;\n",
              "      height: 32px;\n",
              "      padding: 0 0 0 0;\n",
              "      width: 32px;\n",
              "    }\n",
              "\n",
              "    .colab-df-convert:hover {\n",
              "      background-color: #E2EBFA;\n",
              "      box-shadow: 0px 1px 2px rgba(60, 64, 67, 0.3), 0px 1px 3px 1px rgba(60, 64, 67, 0.15);\n",
              "      fill: #174EA6;\n",
              "    }\n",
              "\n",
              "    [theme=dark] .colab-df-convert {\n",
              "      background-color: #3B4455;\n",
              "      fill: #D2E3FC;\n",
              "    }\n",
              "\n",
              "    [theme=dark] .colab-df-convert:hover {\n",
              "      background-color: #434B5C;\n",
              "      box-shadow: 0px 1px 3px 1px rgba(0, 0, 0, 0.15);\n",
              "      filter: drop-shadow(0px 1px 2px rgba(0, 0, 0, 0.3));\n",
              "      fill: #FFFFFF;\n",
              "    }\n",
              "  </style>\n",
              "\n",
              "      <script>\n",
              "        const buttonEl =\n",
              "          document.querySelector('#df-08a62f16-80f8-4adc-b802-ceb7ae2ea61a button.colab-df-convert');\n",
              "        buttonEl.style.display =\n",
              "          google.colab.kernel.accessAllowed ? 'block' : 'none';\n",
              "\n",
              "        async function convertToInteractive(key) {\n",
              "          const element = document.querySelector('#df-08a62f16-80f8-4adc-b802-ceb7ae2ea61a');\n",
              "          const dataTable =\n",
              "            await google.colab.kernel.invokeFunction('convertToInteractive',\n",
              "                                                     [key], {});\n",
              "          if (!dataTable) return;\n",
              "\n",
              "          const docLinkHtml = 'Like what you see? Visit the ' +\n",
              "            '<a target=\"_blank\" href=https://colab.research.google.com/notebooks/data_table.ipynb>data table notebook</a>'\n",
              "            + ' to learn more about interactive tables.';\n",
              "          element.innerHTML = '';\n",
              "          dataTable['output_type'] = 'display_data';\n",
              "          await google.colab.output.renderOutput(dataTable, element);\n",
              "          const docLink = document.createElement('div');\n",
              "          docLink.innerHTML = docLinkHtml;\n",
              "          element.appendChild(docLink);\n",
              "        }\n",
              "      </script>\n",
              "    </div>\n",
              "  </div>\n",
              "  "
            ],
            "text/plain": [
              "    unit_treat  age_treat  ... age_matched  earnings_matched\n",
              "20         NaN        NaN  ...         NaN               NaN\n",
              "21         NaN       24.3  ...         NaN            9380.0\n",
              "22         NaN        NaN  ...         NaN               NaN\n",
              "23         NaN        NaN  ...         NaN               NaN\n",
              "24         NaN        NaN  ...         NaN               NaN\n",
              "\n",
              "[5 rows x 9 columns]"
            ]
          },
          "metadata": {},
          "execution_count": 7
        }
      ]
    },
    {
      "cell_type": "code",
      "metadata": {
        "id": "GyT3bCcq_VRZ"
      },
      "source": [
        "training_example = read_data(\"training_example.dta\").iloc[:-5] "
      ],
      "execution_count": null,
      "outputs": []
    },
    {
      "cell_type": "code",
      "metadata": {
        "id": "t_mtOn5tymrx",
        "outputId": "d5ddadd5-ff4f-4e8f-c401-ff9003bd003d",
        "colab": {
          "base_uri": "https://localhost:8080/",
          "height": 501
        }
      },
      "source": [
        "p.ggplot(training_example, p.aes(x='age_treat')) +\\\n",
        "  p.geom_histogram(bins = 10)    ##### same as R but not as Stata"
      ],
      "execution_count": null,
      "outputs": [
        {
          "output_type": "stream",
          "name": "stderr",
          "text": [
            "/usr/local/lib/python3.7/dist-packages/plotnine/layer.py:360: PlotnineWarning: stat_bin : Removed 10 rows containing non-finite values.\n",
            "  data = self.stat.compute_layer(data, params, layout)\n"
          ]
        },
        {
          "output_type": "display_data",
          "data": {
            "image/png": "[encoded data removed]",
            "text/plain": [
              "<Figure size 640x480 with 1 Axes>"
            ]
          },
          "metadata": {}
        },
        {
          "output_type": "execute_result",
          "data": {
            "text/plain": [
              "<ggplot: (8780660916273)>"
            ]
          },
          "metadata": {},
          "execution_count": 9
        }
      ]
    },
    {
      "cell_type": "code",
      "source": [
        "plt.hist(training_example.age_treat, bins=10) #More similar to Stata, but correct"
      ],
      "metadata": {
        "colab": {
          "base_uri": "https://localhost:8080/",
          "height": 318
        },
        "id": "5ui1lqpEMZhR",
        "outputId": "1557ae07-af6e-48b5-dbef-c3a5fb59651e"
      },
      "execution_count": null,
      "outputs": [
        {
          "output_type": "execute_result",
          "data": {
            "text/plain": [
              "(array([2., 1., 2., 0., 1., 0., 1., 1., 1., 1.]),\n",
              " array([18. , 19.5, 21. , 22.5, 24. , 25.5, 27. , 28.5, 30. , 31.5, 33. ]),\n",
              " <a list of 10 Patch objects>)"
            ]
          },
          "metadata": {},
          "execution_count": 10
        },
        {
          "output_type": "display_data",
          "data": {
            "image/png": "[encoded data removed]",
            "text/plain": [
              "<Figure size 432x288 with 1 Axes>"
            ]
          },
          "metadata": {
            "needs_background": "light"
          }
        }
      ]
    },
    {
      "cell_type": "code",
      "metadata": {
        "id": "5ehDPG1gymry",
        "outputId": "f37c7a67-fd17-4167-c01d-ee5ecfd0728f",
        "colab": {
          "base_uri": "https://localhost:8080/",
          "height": 465
        }
      },
      "source": [
        "p.ggplot(training_example, p.aes(x='age_control')) +\\\n",
        "  p.geom_histogram(bins = 10)"
      ],
      "execution_count": null,
      "outputs": [
        {
          "output_type": "display_data",
          "data": {
            "image/png": "[encoded data removed]",
            "text/plain": [
              "<Figure size 640x480 with 1 Axes>"
            ]
          },
          "metadata": {}
        },
        {
          "output_type": "execute_result",
          "data": {
            "text/plain": [
              "<ggplot: (8780625988437)>"
            ]
          },
          "metadata": {},
          "execution_count": 11
        }
      ]
    },
    {
      "cell_type": "code",
      "source": [
        "plt.hist(training_example.age_control, bins=10)"
      ],
      "metadata": {
        "colab": {
          "base_uri": "https://localhost:8080/",
          "height": 318
        },
        "id": "kLqQow3UNMsx",
        "outputId": "14d592a2-2d4f-46bc-ef31-835c3b792e94"
      },
      "execution_count": null,
      "outputs": [
        {
          "output_type": "execute_result",
          "data": {
            "text/plain": [
              "(array([4., 2., 1., 3., 2., 1., 4., 1., 0., 2.]),\n",
              " array([18. , 21.3, 24.6, 27.9, 31.2, 34.5, 37.8, 41.1, 44.4, 47.7, 51. ]),\n",
              " <a list of 10 Patch objects>)"
            ]
          },
          "metadata": {},
          "execution_count": 12
        },
        {
          "output_type": "display_data",
          "data": {
            "image/png": "[encoded data removed]",
            "text/plain": [
              "<Figure size 432x288 with 1 Axes>"
            ]
          },
          "metadata": {
            "needs_background": "light"
          }
        }
      ]
    },
    {
      "cell_type": "code",
      "metadata": {
        "id": "PBp5Mdb1nmsJ",
        "outputId": "41edf1f6-820d-42b6-98c3-b371eaaa71f6",
        "colab": {
          "base_uri": "https://localhost:8080/",
          "height": 501
        }
      },
      "source": [
        "################### The Stata dataset has earnings_treat stored as character. The code compares again age control instead of age matched\n",
        "################### R code doesn't show histogram and doesn't show the means\n",
        "p.ggplot(training_example, p.aes(x='age_matched')) +\\\n",
        "  p.geom_histogram(bins = 10)  ############# Missing histogram"
      ],
      "execution_count": null,
      "outputs": [
        {
          "output_type": "stream",
          "name": "stderr",
          "text": [
            "/usr/local/lib/python3.7/dist-packages/plotnine/layer.py:360: PlotnineWarning: stat_bin : Removed 10 rows containing non-finite values.\n",
            "  data = self.stat.compute_layer(data, params, layout)\n"
          ]
        },
        {
          "output_type": "display_data",
          "data": {
            "image/png": "[encoded data removed]",
            "text/plain": [
              "<Figure size 640x480 with 1 Axes>"
            ]
          },
          "metadata": {}
        },
        {
          "output_type": "execute_result",
          "data": {
            "text/plain": [
              "<ggplot: (8780625924685)>"
            ]
          },
          "metadata": {},
          "execution_count": 13
        }
      ]
    },
    {
      "cell_type": "code",
      "source": [
        "plt.hist(training_example.age_matched, bins=10)"
      ],
      "metadata": {
        "colab": {
          "base_uri": "https://localhost:8080/",
          "height": 318
        },
        "id": "rNO91fVPNuZy",
        "outputId": "f26062ac-6f70-4752-eb63-42571dd15f23"
      },
      "execution_count": null,
      "outputs": [
        {
          "output_type": "execute_result",
          "data": {
            "text/plain": [
              "(array([2., 1., 2., 0., 1., 0., 1., 1., 1., 1.]),\n",
              " array([18. , 19.5, 21. , 22.5, 24. , 25.5, 27. , 28.5, 30. , 31.5, 33. ]),\n",
              " <a list of 10 Patch objects>)"
            ]
          },
          "metadata": {},
          "execution_count": 14
        },
        {
          "output_type": "display_data",
          "data": {
            "image/png": "[encoded data removed]",
            "text/plain": [
              "<Figure size 432x288 with 1 Axes>"
            ]
          },
          "metadata": {
            "needs_background": "light"
          }
        }
      ]
    },
    {
      "cell_type": "code",
      "metadata": {
        "id": "ve-MSQWBuQ5i",
        "outputId": "d2d6ea23-a491-4780-a6b4-e900fc13ce36",
        "colab": {
          "base_uri": "https://localhost:8080/",
          "height": 300
        }
      },
      "source": [
        "### Missing means\n",
        "training_example[[\"age_treat\", \"age_control\", \"age_matched\"]].describe()"
      ],
      "execution_count": null,
      "outputs": [
        {
          "output_type": "execute_result",
          "data": {
            "text/html": [
              "\n",
              "  <div id=\"df-bc4ac9ea-b95c-457a-9a94-4094b474f33e\">\n",
              "    <div class=\"colab-df-container\">\n",
              "      <div>\n",
              "<style scoped>\n",
              "    .dataframe tbody tr th:only-of-type {\n",
              "        vertical-align: middle;\n",
              "    }\n",
              "\n",
              "    .dataframe tbody tr th {\n",
              "        vertical-align: top;\n",
              "    }\n",
              "\n",
              "    .dataframe thead th {\n",
              "        text-align: right;\n",
              "    }\n",
              "</style>\n",
              "<table border=\"1\" class=\"dataframe\">\n",
              "  <thead>\n",
              "    <tr style=\"text-align: right;\">\n",
              "      <th></th>\n",
              "      <th>age_treat</th>\n",
              "      <th>age_control</th>\n",
              "      <th>age_matched</th>\n",
              "    </tr>\n",
              "  </thead>\n",
              "  <tbody>\n",
              "    <tr>\n",
              "      <th>count</th>\n",
              "      <td>10.000000</td>\n",
              "      <td>20.000000</td>\n",
              "      <td>10.000000</td>\n",
              "    </tr>\n",
              "    <tr>\n",
              "      <th>mean</th>\n",
              "      <td>24.300000</td>\n",
              "      <td>31.950000</td>\n",
              "      <td>24.300000</td>\n",
              "    </tr>\n",
              "    <tr>\n",
              "      <th>std</th>\n",
              "      <td>5.165054</td>\n",
              "      <td>9.665321</td>\n",
              "      <td>5.165054</td>\n",
              "    </tr>\n",
              "    <tr>\n",
              "      <th>min</th>\n",
              "      <td>18.000000</td>\n",
              "      <td>18.000000</td>\n",
              "      <td>18.000000</td>\n",
              "    </tr>\n",
              "    <tr>\n",
              "      <th>25%</th>\n",
              "      <td>20.250000</td>\n",
              "      <td>23.500000</td>\n",
              "      <td>20.250000</td>\n",
              "    </tr>\n",
              "    <tr>\n",
              "      <th>50%</th>\n",
              "      <td>23.000000</td>\n",
              "      <td>31.500000</td>\n",
              "      <td>23.000000</td>\n",
              "    </tr>\n",
              "    <tr>\n",
              "      <th>75%</th>\n",
              "      <td>28.500000</td>\n",
              "      <td>39.000000</td>\n",
              "      <td>28.500000</td>\n",
              "    </tr>\n",
              "    <tr>\n",
              "      <th>max</th>\n",
              "      <td>33.000000</td>\n",
              "      <td>51.000000</td>\n",
              "      <td>33.000000</td>\n",
              "    </tr>\n",
              "  </tbody>\n",
              "</table>\n",
              "</div>\n",
              "      <button class=\"colab-df-convert\" onclick=\"convertToInteractive('df-bc4ac9ea-b95c-457a-9a94-4094b474f33e')\"\n",
              "              title=\"Convert this dataframe to an interactive table.\"\n",
              "              style=\"display:none;\">\n",
              "        \n",
              "  <svg xmlns=\"http://www.w3.org/2000/svg\" height=\"24px\"viewBox=\"0 0 24 24\"\n",
              "       width=\"24px\">\n",
              "    <path d=\"M0 0h24v24H0V0z\" fill=\"none\"/>\n",
              "    <path d=\"M18.56 5.44l.94 2.06.94-2.06 2.06-.94-2.06-.94-.94-2.06-.94 2.06-2.06.94zm-11 1L8.5 8.5l.94-2.06 2.06-.94-2.06-.94L8.5 2.5l-.94 2.06-2.06.94zm10 10l.94 2.06.94-2.06 2.06-.94-2.06-.94-.94-2.06-.94 2.06-2.06.94z\"/><path d=\"M17.41 7.96l-1.37-1.37c-.4-.4-.92-.59-1.43-.59-.52 0-1.04.2-1.43.59L10.3 9.45l-7.72 7.72c-.78.78-.78 2.05 0 2.83L4 21.41c.39.39.9.59 1.41.59.51 0 1.02-.2 1.41-.59l7.78-7.78 2.81-2.81c.8-.78.8-2.07 0-2.86zM5.41 20L4 18.59l7.72-7.72 1.47 1.35L5.41 20z\"/>\n",
              "  </svg>\n",
              "      </button>\n",
              "      \n",
              "  <style>\n",
              "    .colab-df-container {\n",
              "      display:flex;\n",
              "      flex-wrap:wrap;\n",
              "      gap: 12px;\n",
              "    }\n",
              "\n",
              "    .colab-df-convert {\n",
              "      background-color: #E8F0FE;\n",
              "      border: none;\n",
              "      border-radius: 50%;\n",
              "      cursor: pointer;\n",
              "      display: none;\n",
              "      fill: #1967D2;\n",
              "      height: 32px;\n",
              "      padding: 0 0 0 0;\n",
              "      width: 32px;\n",
              "    }\n",
              "\n",
              "    .colab-df-convert:hover {\n",
              "      background-color: #E2EBFA;\n",
              "      box-shadow: 0px 1px 2px rgba(60, 64, 67, 0.3), 0px 1px 3px 1px rgba(60, 64, 67, 0.15);\n",
              "      fill: #174EA6;\n",
              "    }\n",
              "\n",
              "    [theme=dark] .colab-df-convert {\n",
              "      background-color: #3B4455;\n",
              "      fill: #D2E3FC;\n",
              "    }\n",
              "\n",
              "    [theme=dark] .colab-df-convert:hover {\n",
              "      background-color: #434B5C;\n",
              "      box-shadow: 0px 1px 3px 1px rgba(0, 0, 0, 0.15);\n",
              "      filter: drop-shadow(0px 1px 2px rgba(0, 0, 0, 0.3));\n",
              "      fill: #FFFFFF;\n",
              "    }\n",
              "  </style>\n",
              "\n",
              "      <script>\n",
              "        const buttonEl =\n",
              "          document.querySelector('#df-bc4ac9ea-b95c-457a-9a94-4094b474f33e button.colab-df-convert');\n",
              "        buttonEl.style.display =\n",
              "          google.colab.kernel.accessAllowed ? 'block' : 'none';\n",
              "\n",
              "        async function convertToInteractive(key) {\n",
              "          const element = document.querySelector('#df-bc4ac9ea-b95c-457a-9a94-4094b474f33e');\n",
              "          const dataTable =\n",
              "            await google.colab.kernel.invokeFunction('convertToInteractive',\n",
              "                                                     [key], {});\n",
              "          if (!dataTable) return;\n",
              "\n",
              "          const docLinkHtml = 'Like what you see? Visit the ' +\n",
              "            '<a target=\"_blank\" href=https://colab.research.google.com/notebooks/data_table.ipynb>data table notebook</a>'\n",
              "            + ' to learn more about interactive tables.';\n",
              "          element.innerHTML = '';\n",
              "          dataTable['output_type'] = 'display_data';\n",
              "          await google.colab.output.renderOutput(dataTable, element);\n",
              "          const docLink = document.createElement('div');\n",
              "          docLink.innerHTML = docLinkHtml;\n",
              "          element.appendChild(docLink);\n",
              "        }\n",
              "      </script>\n",
              "    </div>\n",
              "  </div>\n",
              "  "
            ],
            "text/plain": [
              "       age_treat  age_control  age_matched\n",
              "count  10.000000    20.000000    10.000000\n",
              "mean   24.300000    31.950000    24.300000\n",
              "std     5.165054     9.665321     5.165054\n",
              "min    18.000000    18.000000    18.000000\n",
              "25%    20.250000    23.500000    20.250000\n",
              "50%    23.000000    31.500000    23.000000\n",
              "75%    28.500000    39.000000    28.500000\n",
              "max    33.000000    51.000000    33.000000"
            ]
          },
          "metadata": {},
          "execution_count": 15
        }
      ]
    },
    {
      "cell_type": "code",
      "source": [
        "training_example[\"earnings_treat\"].describe()  ########### convert to numeric in source? "
      ],
      "metadata": {
        "colab": {
          "base_uri": "https://localhost:8080/"
        },
        "id": "WVWyXRFLcppJ",
        "outputId": "8394827b-88ee-40ee-9583-e3e723a4921c"
      },
      "execution_count": null,
      "outputs": [
        {
          "output_type": "execute_result",
          "data": {
            "text/plain": [
              "count     20\n",
              "unique    11\n",
              "top         \n",
              "freq      10\n",
              "Name: earnings_treat, dtype: object"
            ]
          },
          "metadata": {},
          "execution_count": 16
        }
      ]
    },
    {
      "cell_type": "code",
      "metadata": {
        "id": "yXuGuydawhNM",
        "outputId": "3c92d559-b47b-4a36-94b3-d13b2a43d8e7",
        "colab": {
          "base_uri": "https://localhost:8080/",
          "height": 300
        }
      },
      "source": [
        "training_example[[\"earnings_treat\", \"earnings_control\",  \"earnings_matched\"]].describe() "
      ],
      "execution_count": null,
      "outputs": [
        {
          "output_type": "execute_result",
          "data": {
            "text/html": [
              "\n",
              "  <div id=\"df-8ecccb5d-91b6-4240-826f-8560c62ee3e6\">\n",
              "    <div class=\"colab-df-container\">\n",
              "      <div>\n",
              "<style scoped>\n",
              "    .dataframe tbody tr th:only-of-type {\n",
              "        vertical-align: middle;\n",
              "    }\n",
              "\n",
              "    .dataframe tbody tr th {\n",
              "        vertical-align: top;\n",
              "    }\n",
              "\n",
              "    .dataframe thead th {\n",
              "        text-align: right;\n",
              "    }\n",
              "</style>\n",
              "<table border=\"1\" class=\"dataframe\">\n",
              "  <thead>\n",
              "    <tr style=\"text-align: right;\">\n",
              "      <th></th>\n",
              "      <th>earnings_control</th>\n",
              "      <th>earnings_matched</th>\n",
              "    </tr>\n",
              "  </thead>\n",
              "  <tbody>\n",
              "    <tr>\n",
              "      <th>count</th>\n",
              "      <td>20.00000</td>\n",
              "      <td>10.000000</td>\n",
              "    </tr>\n",
              "    <tr>\n",
              "      <th>mean</th>\n",
              "      <td>11101.25000</td>\n",
              "      <td>9380.000000</td>\n",
              "    </tr>\n",
              "    <tr>\n",
              "      <th>std</th>\n",
              "      <td>2227.83638</td>\n",
              "      <td>1085.241909</td>\n",
              "    </tr>\n",
              "    <tr>\n",
              "      <th>min</th>\n",
              "      <td>8050.00000</td>\n",
              "      <td>8050.000000</td>\n",
              "    </tr>\n",
              "    <tr>\n",
              "      <th>25%</th>\n",
              "      <td>8987.50000</td>\n",
              "      <td>8556.250000</td>\n",
              "    </tr>\n",
              "    <tr>\n",
              "      <th>50%</th>\n",
              "      <td>11087.50000</td>\n",
              "      <td>9175.000000</td>\n",
              "    </tr>\n",
              "    <tr>\n",
              "      <th>75%</th>\n",
              "      <td>12775.00000</td>\n",
              "      <td>10025.000000</td>\n",
              "    </tr>\n",
              "    <tr>\n",
              "      <th>max</th>\n",
              "      <td>15475.00000</td>\n",
              "      <td>11425.000000</td>\n",
              "    </tr>\n",
              "  </tbody>\n",
              "</table>\n",
              "</div>\n",
              "      <button class=\"colab-df-convert\" onclick=\"convertToInteractive('df-8ecccb5d-91b6-4240-826f-8560c62ee3e6')\"\n",
              "              title=\"Convert this dataframe to an interactive table.\"\n",
              "              style=\"display:none;\">\n",
              "        \n",
              "  <svg xmlns=\"http://www.w3.org/2000/svg\" height=\"24px\"viewBox=\"0 0 24 24\"\n",
              "       width=\"24px\">\n",
              "    <path d=\"M0 0h24v24H0V0z\" fill=\"none\"/>\n",
              "    <path d=\"M18.56 5.44l.94 2.06.94-2.06 2.06-.94-2.06-.94-.94-2.06-.94 2.06-2.06.94zm-11 1L8.5 8.5l.94-2.06 2.06-.94-2.06-.94L8.5 2.5l-.94 2.06-2.06.94zm10 10l.94 2.06.94-2.06 2.06-.94-2.06-.94-.94-2.06-.94 2.06-2.06.94z\"/><path d=\"M17.41 7.96l-1.37-1.37c-.4-.4-.92-.59-1.43-.59-.52 0-1.04.2-1.43.59L10.3 9.45l-7.72 7.72c-.78.78-.78 2.05 0 2.83L4 21.41c.39.39.9.59 1.41.59.51 0 1.02-.2 1.41-.59l7.78-7.78 2.81-2.81c.8-.78.8-2.07 0-2.86zM5.41 20L4 18.59l7.72-7.72 1.47 1.35L5.41 20z\"/>\n",
              "  </svg>\n",
              "      </button>\n",
              "      \n",
              "  <style>\n",
              "    .colab-df-container {\n",
              "      display:flex;\n",
              "      flex-wrap:wrap;\n",
              "      gap: 12px;\n",
              "    }\n",
              "\n",
              "    .colab-df-convert {\n",
              "      background-color: #E8F0FE;\n",
              "      border: none;\n",
              "      border-radius: 50%;\n",
              "      cursor: pointer;\n",
              "      display: none;\n",
              "      fill: #1967D2;\n",
              "      height: 32px;\n",
              "      padding: 0 0 0 0;\n",
              "      width: 32px;\n",
              "    }\n",
              "\n",
              "    .colab-df-convert:hover {\n",
              "      background-color: #E2EBFA;\n",
              "      box-shadow: 0px 1px 2px rgba(60, 64, 67, 0.3), 0px 1px 3px 1px rgba(60, 64, 67, 0.15);\n",
              "      fill: #174EA6;\n",
              "    }\n",
              "\n",
              "    [theme=dark] .colab-df-convert {\n",
              "      background-color: #3B4455;\n",
              "      fill: #D2E3FC;\n",
              "    }\n",
              "\n",
              "    [theme=dark] .colab-df-convert:hover {\n",
              "      background-color: #434B5C;\n",
              "      box-shadow: 0px 1px 3px 1px rgba(0, 0, 0, 0.15);\n",
              "      filter: drop-shadow(0px 1px 2px rgba(0, 0, 0, 0.3));\n",
              "      fill: #FFFFFF;\n",
              "    }\n",
              "  </style>\n",
              "\n",
              "      <script>\n",
              "        const buttonEl =\n",
              "          document.querySelector('#df-8ecccb5d-91b6-4240-826f-8560c62ee3e6 button.colab-df-convert');\n",
              "        buttonEl.style.display =\n",
              "          google.colab.kernel.accessAllowed ? 'block' : 'none';\n",
              "\n",
              "        async function convertToInteractive(key) {\n",
              "          const element = document.querySelector('#df-8ecccb5d-91b6-4240-826f-8560c62ee3e6');\n",
              "          const dataTable =\n",
              "            await google.colab.kernel.invokeFunction('convertToInteractive',\n",
              "                                                     [key], {});\n",
              "          if (!dataTable) return;\n",
              "\n",
              "          const docLinkHtml = 'Like what you see? Visit the ' +\n",
              "            '<a target=\"_blank\" href=https://colab.research.google.com/notebooks/data_table.ipynb>data table notebook</a>'\n",
              "            + ' to learn more about interactive tables.';\n",
              "          element.innerHTML = '';\n",
              "          dataTable['output_type'] = 'display_data';\n",
              "          await google.colab.output.renderOutput(dataTable, element);\n",
              "          const docLink = document.createElement('div');\n",
              "          docLink.innerHTML = docLinkHtml;\n",
              "          element.appendChild(docLink);\n",
              "        }\n",
              "      </script>\n",
              "    </div>\n",
              "  </div>\n",
              "  "
            ],
            "text/plain": [
              "       earnings_control  earnings_matched\n",
              "count          20.00000         10.000000\n",
              "mean        11101.25000       9380.000000\n",
              "std          2227.83638       1085.241909\n",
              "min          8050.00000       8050.000000\n",
              "25%          8987.50000       8556.250000\n",
              "50%         11087.50000       9175.000000\n",
              "75%         12775.00000      10025.000000\n",
              "max         15475.00000      11425.000000"
            ]
          },
          "metadata": {},
          "execution_count": 17
        }
      ]
    },
    {
      "cell_type": "markdown",
      "metadata": {
        "id": "O2_LH-w1ymrz"
      },
      "source": [
        "#### Questions\n",
        "\n",
        "- Compare the distribution of ages between the treated and the control groups. How do they differ, if at all?\n"
      ]
    },
    {
      "cell_type": "code",
      "metadata": {
        "id": "yI4zU1iHPQ-B"
      },
      "source": [
        "# Approximate Matching\n",
        "## Bias Correction\n",
        "training_bias_reduction = read_data(\"training_bias_reduction.dta\") "
      ],
      "execution_count": null,
      "outputs": []
    },
    {
      "cell_type": "code",
      "metadata": {
        "id": "u1bdrpRdPUOC"
      },
      "source": [
        "training_bias_reduction['Y1'] = 0\n",
        "training_bias_reduction.loc[training_bias_reduction['Unit'].isin(range(1,5)), 'Y1'] = 1\n",
        "training_bias_reduction['Y0'] = (4,0,5,1,4,0,5,1)"
      ],
      "execution_count": null,
      "outputs": []
    },
    {
      "cell_type": "code",
      "metadata": {
        "id": "oVi5U-7dymrz",
        "outputId": "ef8d24b1-5fe9-49a9-e6bb-044ef3bf2a11",
        "colab": {
          "base_uri": "https://localhost:8080/",
          "height": 300
        }
      },
      "source": [
        "train_reg = sm.OLS.from_formula('Y ~ X', training_bias_reduction).fit()\n",
        "training_bias_reduction['u_hat0'] = train_reg.predict(training_bias_reduction)\n",
        "training_bias_reduction = training_bias_reduction[['Unit', 'Y1', 'Y0', 'Y', 'D', 'X', 'u_hat0']]\n",
        "\n",
        "training_bias_reduction\n",
        "\n"
      ],
      "execution_count": null,
      "outputs": [
        {
          "output_type": "execute_result",
          "data": {
            "text/html": [
              "\n",
              "  <div id=\"df-12f13daf-cb6b-44b1-884d-0913d00a5ac6\">\n",
              "    <div class=\"colab-df-container\">\n",
              "      <div>\n",
              "<style scoped>\n",
              "    .dataframe tbody tr th:only-of-type {\n",
              "        vertical-align: middle;\n",
              "    }\n",
              "\n",
              "    .dataframe tbody tr th {\n",
              "        vertical-align: top;\n",
              "    }\n",
              "\n",
              "    .dataframe thead th {\n",
              "        text-align: right;\n",
              "    }\n",
              "</style>\n",
              "<table border=\"1\" class=\"dataframe\">\n",
              "  <thead>\n",
              "    <tr style=\"text-align: right;\">\n",
              "      <th></th>\n",
              "      <th>Unit</th>\n",
              "      <th>Y1</th>\n",
              "      <th>Y0</th>\n",
              "      <th>Y</th>\n",
              "      <th>D</th>\n",
              "      <th>X</th>\n",
              "      <th>u_hat0</th>\n",
              "    </tr>\n",
              "  </thead>\n",
              "  <tbody>\n",
              "    <tr>\n",
              "      <th>0</th>\n",
              "      <td>1</td>\n",
              "      <td>1</td>\n",
              "      <td>4</td>\n",
              "      <td>5</td>\n",
              "      <td>1</td>\n",
              "      <td>11</td>\n",
              "      <td>3.888071</td>\n",
              "    </tr>\n",
              "    <tr>\n",
              "      <th>1</th>\n",
              "      <td>2</td>\n",
              "      <td>1</td>\n",
              "      <td>0</td>\n",
              "      <td>2</td>\n",
              "      <td>1</td>\n",
              "      <td>7</td>\n",
              "      <td>4.082474</td>\n",
              "    </tr>\n",
              "    <tr>\n",
              "      <th>2</th>\n",
              "      <td>3</td>\n",
              "      <td>1</td>\n",
              "      <td>5</td>\n",
              "      <td>10</td>\n",
              "      <td>1</td>\n",
              "      <td>5</td>\n",
              "      <td>4.179676</td>\n",
              "    </tr>\n",
              "    <tr>\n",
              "      <th>3</th>\n",
              "      <td>4</td>\n",
              "      <td>1</td>\n",
              "      <td>1</td>\n",
              "      <td>6</td>\n",
              "      <td>1</td>\n",
              "      <td>3</td>\n",
              "      <td>4.276878</td>\n",
              "    </tr>\n",
              "    <tr>\n",
              "      <th>4</th>\n",
              "      <td>5</td>\n",
              "      <td>0</td>\n",
              "      <td>4</td>\n",
              "      <td>4</td>\n",
              "      <td>0</td>\n",
              "      <td>10</td>\n",
              "      <td>3.936672</td>\n",
              "    </tr>\n",
              "    <tr>\n",
              "      <th>5</th>\n",
              "      <td>6</td>\n",
              "      <td>0</td>\n",
              "      <td>0</td>\n",
              "      <td>0</td>\n",
              "      <td>0</td>\n",
              "      <td>8</td>\n",
              "      <td>4.033873</td>\n",
              "    </tr>\n",
              "    <tr>\n",
              "      <th>6</th>\n",
              "      <td>7</td>\n",
              "      <td>0</td>\n",
              "      <td>5</td>\n",
              "      <td>5</td>\n",
              "      <td>0</td>\n",
              "      <td>4</td>\n",
              "      <td>4.228277</td>\n",
              "    </tr>\n",
              "    <tr>\n",
              "      <th>7</th>\n",
              "      <td>8</td>\n",
              "      <td>0</td>\n",
              "      <td>1</td>\n",
              "      <td>1</td>\n",
              "      <td>0</td>\n",
              "      <td>1</td>\n",
              "      <td>4.374080</td>\n",
              "    </tr>\n",
              "  </tbody>\n",
              "</table>\n",
              "</div>\n",
              "      <button class=\"colab-df-convert\" onclick=\"convertToInteractive('df-12f13daf-cb6b-44b1-884d-0913d00a5ac6')\"\n",
              "              title=\"Convert this dataframe to an interactive table.\"\n",
              "              style=\"display:none;\">\n",
              "        \n",
              "  <svg xmlns=\"http://www.w3.org/2000/svg\" height=\"24px\"viewBox=\"0 0 24 24\"\n",
              "       width=\"24px\">\n",
              "    <path d=\"M0 0h24v24H0V0z\" fill=\"none\"/>\n",
              "    <path d=\"M18.56 5.44l.94 2.06.94-2.06 2.06-.94-2.06-.94-.94-2.06-.94 2.06-2.06.94zm-11 1L8.5 8.5l.94-2.06 2.06-.94-2.06-.94L8.5 2.5l-.94 2.06-2.06.94zm10 10l.94 2.06.94-2.06 2.06-.94-2.06-.94-.94-2.06-.94 2.06-2.06.94z\"/><path d=\"M17.41 7.96l-1.37-1.37c-.4-.4-.92-.59-1.43-.59-.52 0-1.04.2-1.43.59L10.3 9.45l-7.72 7.72c-.78.78-.78 2.05 0 2.83L4 21.41c.39.39.9.59 1.41.59.51 0 1.02-.2 1.41-.59l7.78-7.78 2.81-2.81c.8-.78.8-2.07 0-2.86zM5.41 20L4 18.59l7.72-7.72 1.47 1.35L5.41 20z\"/>\n",
              "  </svg>\n",
              "      </button>\n",
              "      \n",
              "  <style>\n",
              "    .colab-df-container {\n",
              "      display:flex;\n",
              "      flex-wrap:wrap;\n",
              "      gap: 12px;\n",
              "    }\n",
              "\n",
              "    .colab-df-convert {\n",
              "      background-color: #E8F0FE;\n",
              "      border: none;\n",
              "      border-radius: 50%;\n",
              "      cursor: pointer;\n",
              "      display: none;\n",
              "      fill: #1967D2;\n",
              "      height: 32px;\n",
              "      padding: 0 0 0 0;\n",
              "      width: 32px;\n",
              "    }\n",
              "\n",
              "    .colab-df-convert:hover {\n",
              "      background-color: #E2EBFA;\n",
              "      box-shadow: 0px 1px 2px rgba(60, 64, 67, 0.3), 0px 1px 3px 1px rgba(60, 64, 67, 0.15);\n",
              "      fill: #174EA6;\n",
              "    }\n",
              "\n",
              "    [theme=dark] .colab-df-convert {\n",
              "      background-color: #3B4455;\n",
              "      fill: #D2E3FC;\n",
              "    }\n",
              "\n",
              "    [theme=dark] .colab-df-convert:hover {\n",
              "      background-color: #434B5C;\n",
              "      box-shadow: 0px 1px 3px 1px rgba(0, 0, 0, 0.15);\n",
              "      filter: drop-shadow(0px 1px 2px rgba(0, 0, 0, 0.3));\n",
              "      fill: #FFFFFF;\n",
              "    }\n",
              "  </style>\n",
              "\n",
              "      <script>\n",
              "        const buttonEl =\n",
              "          document.querySelector('#df-12f13daf-cb6b-44b1-884d-0913d00a5ac6 button.colab-df-convert');\n",
              "        buttonEl.style.display =\n",
              "          google.colab.kernel.accessAllowed ? 'block' : 'none';\n",
              "\n",
              "        async function convertToInteractive(key) {\n",
              "          const element = document.querySelector('#df-12f13daf-cb6b-44b1-884d-0913d00a5ac6');\n",
              "          const dataTable =\n",
              "            await google.colab.kernel.invokeFunction('convertToInteractive',\n",
              "                                                     [key], {});\n",
              "          if (!dataTable) return;\n",
              "\n",
              "          const docLinkHtml = 'Like what you see? Visit the ' +\n",
              "            '<a target=\"_blank\" href=https://colab.research.google.com/notebooks/data_table.ipynb>data table notebook</a>'\n",
              "            + ' to learn more about interactive tables.';\n",
              "          element.innerHTML = '';\n",
              "          dataTable['output_type'] = 'display_data';\n",
              "          await google.colab.output.renderOutput(dataTable, element);\n",
              "          const docLink = document.createElement('div');\n",
              "          docLink.innerHTML = docLinkHtml;\n",
              "          element.appendChild(docLink);\n",
              "        }\n",
              "      </script>\n",
              "    </div>\n",
              "  </div>\n",
              "  "
            ],
            "text/plain": [
              "   Unit  Y1  Y0   Y  D   X    u_hat0\n",
              "0     1   1   4   5  1  11  3.888071\n",
              "1     2   1   0   2  1   7  4.082474\n",
              "2     3   1   5  10  1   5  4.179676\n",
              "3     4   1   1   6  1   3  4.276878\n",
              "4     5   0   4   4  0  10  3.936672\n",
              "5     6   0   0   0  0   8  4.033873\n",
              "6     7   0   5   5  0   4  4.228277\n",
              "7     8   0   1   1  0   1  4.374080"
            ]
          },
          "metadata": {},
          "execution_count": 20
        }
      ]
    },
    {
      "cell_type": "markdown",
      "metadata": {
        "id": "Hu5vOqwGymr0"
      },
      "source": [
        "## National Supported Work Demonstration Experiment\n",
        "\n",
        "To compare results, let's first look at the treatment effect identified by a true experiment.\n"
      ]
    },
    {
      "cell_type": "code",
      "metadata": {
        "id": "TmrUToADymr0",
        "outputId": "d3c2a940-6c1c-44d6-854b-ca7f32511edc",
        "colab": {
          "base_uri": "https://localhost:8080/"
        }
      },
      "source": [
        "nsw_dw = read_data('nsw_mixtape.dta')\n",
        "\n",
        "mean1 = nsw_dw[nsw_dw.treat==1].re78.mean()\n",
        "mean0 = nsw_dw[nsw_dw.treat==0].re78.mean()\n",
        "ate = np.unique(mean1 - mean0)[0]\n",
        "print(\"The experimental ATE estimate is {:.2f}\".format(ate))"
      ],
      "execution_count": null,
      "outputs": [
        {
          "output_type": "stream",
          "name": "stdout",
          "text": [
            "The experimental ATE estimate is 1794.35\n"
          ]
        }
      ]
    },
    {
      "cell_type": "markdown",
      "metadata": {
        "id": "AMkl2OZyymr1"
      },
      "source": [
        "#### Questions\n",
        "- How do you interpret the above estimated ATE?\n",
        "- Say you were interested in the ATT.  Can you report the ATT from a randomized experiment?  If so, what is it? If not, why not?\n",
        "\n",
        "\n",
        "\n",
        "Now, lets turn to a non-experimental control group. We first have to load the data from the CPS. and estimate the propensity score\n"
      ]
    },
    {
      "cell_type": "code",
      "metadata": {
        "id": "Luox7xpnn6gR"
      },
      "source": [
        "# Prepare data for logit \n",
        "nsw_dw_cpscontrol = read_data('cps_mixtape.dta')"
      ],
      "execution_count": null,
      "outputs": []
    },
    {
      "cell_type": "code",
      "metadata": {
        "id": "KsVfyXHnoBSo"
      },
      "source": [
        "nsw_dw_treated = nsw_dw[nsw_dw['treat']==1] ######### Missing filter, only treated from nsw_dw"
      ],
      "execution_count": null,
      "outputs": []
    },
    {
      "cell_type": "code",
      "source": [
        "nsw_dw_cpscontrol = pd.concat((nsw_dw_cpscontrol, nsw_dw_treated))\n",
        "nsw_dw_cpscontrol[['u74', 'u75']] = 0\n",
        "nsw_dw_cpscontrol.loc[nsw_dw_cpscontrol.re74==0, 'u74'] = 1\n",
        "nsw_dw_cpscontrol.loc[nsw_dw_cpscontrol.re75==0, 'u75'] = 1\n",
        "# estimating propensity score\n",
        "logit_nsw = smf.glm(formula=\"\"\"treat ~ age + I(age**2) + I(age**3) + educ + I(educ**2) + \n",
        "                    marr + nodegree + black + hisp + re74 + re75 + u74 + u75 + I(educ*re74)\"\"\", \n",
        "                    family=sm.families.Binomial(),\n",
        "                   data=nsw_dw_cpscontrol).fit()\n",
        "                  \n",
        "nsw_dw_cpscontrol['pscore'] = logit_nsw.predict(nsw_dw_cpscontrol)"
      ],
      "metadata": {
        "id": "MDTyIHsqrLJO"
      },
      "execution_count": null,
      "outputs": []
    },
    {
      "cell_type": "code",
      "metadata": {
        "id": "qBeGHcGbymr1",
        "outputId": "6a738c96-6b5e-4f90-ecfb-13b4563e9847",
        "colab": {
          "base_uri": "https://localhost:8080/"
        }
      },
      "source": [
        "nsw_dw_cpscontrol.groupby('treat')['pscore'].mean()"
      ],
      "execution_count": null,
      "outputs": [
        {
          "output_type": "execute_result",
          "data": {
            "text/plain": [
              "treat\n",
              "0.0    0.006648\n",
              "1.0    0.425357\n",
              "Name: pscore, dtype: float64"
            ]
          },
          "metadata": {},
          "execution_count": 26
        }
      ]
    },
    {
      "cell_type": "code",
      "metadata": {
        "id": "GQa74vfWymr1",
        "colab": {
          "base_uri": "https://localhost:8080/",
          "height": 485
        },
        "outputId": "030a8e08-2187-4d24-af4a-0202598143df"
      },
      "source": [
        "# histogram\n",
        "p.ggplot(nsw_dw_cpscontrol, p.aes(x='pscore')) +\\\n",
        "    p.geom_histogram(bins=50) +\\\n",
        "    p.facet_wrap(\"treat\", scales='free')"
      ],
      "execution_count": null,
      "outputs": [
        {
          "output_type": "display_data",
          "data": {
            "image/png": "[encoded data removed]",
            "text/plain": [
              "<Figure size 640x480 with 2 Axes>"
            ]
          },
          "metadata": {}
        },
        {
          "output_type": "execute_result",
          "data": {
            "text/plain": [
              "<ggplot: (8780625889889)>"
            ]
          },
          "metadata": {},
          "execution_count": 27
        }
      ]
    },
    {
      "cell_type": "code",
      "source": [
        "histpsc = nsw_dw_cpscontrol.hist(column='pscore',by='treat',bins=50)"
      ],
      "metadata": {
        "colab": {
          "base_uri": "https://localhost:8080/",
          "height": 292
        },
        "id": "OTC2vLqpQDtf",
        "outputId": "b48a2beb-ced8-4ca1-e7b2-75fe8b581caa"
      },
      "execution_count": null,
      "outputs": [
        {
          "output_type": "display_data",
          "data": {
            "image/png": "[encoded data removed]",
            "text/plain": [
              "<Figure size 432x288 with 2 Axes>"
            ]
          },
          "metadata": {
            "needs_background": "light"
          }
        }
      ]
    },
    {
      "cell_type": "markdown",
      "metadata": {
        "id": "BRJ8hqwrymr1"
      },
      "source": [
        "#### Questions\n",
        "- Compare the mean propensity score between the treated and the control groups. What does this reveal about the two groups?\n",
        "- Compare the distribution of propensity scores between the treated and the control groups. How do they differ, if at all?\n"
      ]
    },
    {
      "cell_type": "code",
      "metadata": {
        "id": "YS7TxmaMymr2",
        "colab": {
          "base_uri": "https://localhost:8080/"
        },
        "outputId": "43144b49-731e-4964-9715-13cb2a886fb9"
      },
      "source": [
        "# continuation\n",
        "N = nsw_dw_cpscontrol.shape[0]\n",
        "\n",
        "# Manual with non-normalized weights using all data\n",
        "nsw_dw_cpscontrol['d1'] = nsw_dw_cpscontrol.treat/nsw_dw_cpscontrol.pscore\n",
        "nsw_dw_cpscontrol['d0'] = (1-nsw_dw_cpscontrol.treat)/(1-nsw_dw_cpscontrol.pscore)\n",
        "\n",
        "\n",
        "s1 = nsw_dw_cpscontrol.d1.sum()\n",
        "s0 = nsw_dw_cpscontrol.d0.sum()\n",
        "\n",
        "nsw_dw_cpscontrol['y1'] = nsw_dw_cpscontrol.treat * nsw_dw_cpscontrol.re78 / nsw_dw_cpscontrol.pscore\n",
        "nsw_dw_cpscontrol['y0'] = (1 - nsw_dw_cpscontrol.treat) * nsw_dw_cpscontrol.re78 / (1 - nsw_dw_cpscontrol.pscore)\n",
        "nsw_dw_cpscontrol['ht'] = nsw_dw_cpscontrol['y1'] - nsw_dw_cpscontrol['y0']\n",
        "\n",
        "te_1 = nsw_dw_cpscontrol.ht.mean()\n",
        "\n",
        "print(\"Treatment Effect (non-normalized, all data): {:.2f}\".format(te_1))\n",
        "        \n"
      ],
      "execution_count": null,
      "outputs": [
        {
          "output_type": "stream",
          "name": "stdout",
          "text": [
            "Treatment Effect (non-normalized, all data): -11876.79\n"
          ]
        }
      ]
    },
    {
      "cell_type": "code",
      "metadata": {
        "id": "6Q-qLlhoymr2",
        "colab": {
          "base_uri": "https://localhost:8080/"
        },
        "outputId": "b9ee11ff-825f-4058-faf9-a7da34b6bbd5"
      },
      "source": [
        "nsw_dw_cpscontrol['y1'] = nsw_dw_cpscontrol.treat * nsw_dw_cpscontrol.re78 / nsw_dw_cpscontrol.pscore\n",
        "nsw_dw_cpscontrol['y1'] /= s1/N\n",
        "nsw_dw_cpscontrol['y0'] = (1 - nsw_dw_cpscontrol.treat) * nsw_dw_cpscontrol.re78 / (1 - nsw_dw_cpscontrol.pscore)\n",
        "nsw_dw_cpscontrol['y0'] /= s0/N\n",
        "nsw_dw_cpscontrol['ht'] = nsw_dw_cpscontrol['y1'] - nsw_dw_cpscontrol['y0']\n",
        "\n",
        "te_2 = nsw_dw_cpscontrol.ht.mean()\n",
        "\n",
        "print(\"Treatment Effect (normalized, all data): {:.2f}\".format(te_2))\n",
        "        "
      ],
      "execution_count": null,
      "outputs": [
        {
          "output_type": "stream",
          "name": "stdout",
          "text": [
            "Treatment Effect (normalized, all data): -7238.14\n"
          ]
        }
      ]
    },
    {
      "cell_type": "code",
      "metadata": {
        "id": "q9LLV-SYymr2",
        "colab": {
          "base_uri": "https://localhost:8080/"
        },
        "outputId": "3cd5a8ed-9342-4367-ade7-8ce7b03c8083"
      },
      "source": [
        "nsw_dw_trimmed = nsw_dw_cpscontrol.drop(['d1', 'd0', 'y1', 'y0'], axis=1)\n",
        "nsw_dw_trimmed = nsw_dw_trimmed[nsw_dw_trimmed.pscore.between(.1, .9)]\n",
        "N = nsw_dw_trimmed.shape[0]\n",
        "\n",
        "nsw_dw_trimmed['y1'] = nsw_dw_trimmed.treat * nsw_dw_trimmed.re78 / nsw_dw_trimmed.pscore\n",
        "nsw_dw_trimmed['y0'] = (1 - nsw_dw_trimmed.treat) * nsw_dw_trimmed.re78 / (1 - nsw_dw_trimmed.pscore)\n",
        "nsw_dw_trimmed['ht'] = nsw_dw_trimmed['y1'] - nsw_dw_trimmed['y0']\n",
        "\n",
        "te_3 = nsw_dw_trimmed.ht.mean()\n",
        "\n",
        "print(\"Treatment Effect (non-normalized, trimmed data): {:.2f}\".format(te_3))"
      ],
      "execution_count": null,
      "outputs": [
        {
          "output_type": "stream",
          "name": "stdout",
          "text": [
            "Treatment Effect (non-normalized, trimmed data): 2006.37\n"
          ]
        }
      ]
    },
    {
      "cell_type": "code",
      "metadata": {
        "id": "E8i-vUUoymr2",
        "colab": {
          "base_uri": "https://localhost:8080/"
        },
        "outputId": "babacb48-8e4d-4085-9e22-b075017ff0e9"
      },
      "source": [
        "################## Update of d0m d1 and the sums was missing\n",
        "nsw_dw_trimmed['d1'] = nsw_dw_trimmed.treat/nsw_dw_trimmed.pscore\n",
        "nsw_dw_trimmed['d0'] = (1-nsw_dw_trimmed.treat)/(1-nsw_dw_trimmed.pscore)\n",
        "\n",
        "s1 = nsw_dw_trimmed.d1.sum()\n",
        "s0 = nsw_dw_trimmed.d0.sum()\n",
        "\n",
        "nsw_dw_trimmed['y1'] = nsw_dw_trimmed.treat * nsw_dw_trimmed.re78 / nsw_dw_trimmed.pscore\n",
        "nsw_dw_trimmed['y1'] /= s1/N\n",
        "nsw_dw_trimmed['y0'] = (1 - nsw_dw_trimmed.treat) * nsw_dw_trimmed.re78 / (1 - nsw_dw_trimmed.pscore)\n",
        "nsw_dw_trimmed['y0'] /= s0/N\n",
        "nsw_dw_trimmed['ht'] = nsw_dw_trimmed['y1'] - nsw_dw_trimmed['y0']\n",
        "\n",
        "te_4 = nsw_dw_trimmed.ht.mean()\n",
        "\n",
        "print(\"Treatment Effect (normalized, trimmed data): {:.2f}\".format(te_4))"
      ],
      "execution_count": null,
      "outputs": [
        {
          "output_type": "stream",
          "name": "stdout",
          "text": [
            "Treatment Effect (normalized, trimmed data): 1806.73\n"
          ]
        }
      ]
    },
    {
      "cell_type": "markdown",
      "metadata": {
        "id": "6g_wT_rNymr3"
      },
      "source": [
        "#### Questions\n",
        "\n",
        "- Explain the overlap condition in the context of these data.  How did we ensure that overlap held in the data? \n",
        "- When we are using non-trimmed data, why is the treatment effect negative? (*hint:* it has to do with extreme probability scores)\n",
        "- What does this imply about the challenges of using non-experimental data when estimating causal effects, and why is conditioning on a trimmed propensity score important?\n",
        "\n",
        "\n",
        "## Nearest-Neighbor Matching [not available in python]\n"
      ]
    },
    {
      "cell_type": "markdown",
      "metadata": {
        "id": "M0aAPksnymr3"
      },
      "source": [
        "#### Questions\n",
        "- Compare our results from nearest-neighbor matching to what we found using the experimental data, the simple difference in outcomes using non-experimental controls, and propensity score weighting using non-experimental controls.\n",
        "- DIFFICULT: Write a program that performs bootstrapping to get an estimate of the variance of the estimator. (HINT: Write a loop)\n",
        "\n"
      ]
    },
    {
      "cell_type": "code",
      "source": [
        "## Nearest-neighbor matching\n",
        "!pip install causalinference\n",
        "from causalinference import CausalModel"
      ],
      "metadata": {
        "id": "uMul2W0EvCW5",
        "colab": {
          "base_uri": "https://localhost:8080/"
        },
        "outputId": "dd8b2888-6b1a-44ab-e5d4-1a5a32b8e596"
      },
      "execution_count": null,
      "outputs": [
        {
          "output_type": "stream",
          "name": "stdout",
          "text": [
            "Collecting causalinference\n",
            "  Downloading CausalInference-0.1.3-py3-none-any.whl (51 kB)\n",
            "\u001b[?25l\r\u001b[K     |██████▍                         | 10 kB 18.6 MB/s eta 0:00:01\r\u001b[K     |████████████▉                   | 20 kB 25.6 MB/s eta 0:00:01\r\u001b[K     |███████████████████▎            | 30 kB 16.1 MB/s eta 0:00:01\r\u001b[K     |█████████████████████████▋      | 40 kB 11.6 MB/s eta 0:00:01\r\u001b[K     |████████████████████████████████| 51 kB 3.0 MB/s \n",
            "\u001b[?25hInstalling collected packages: causalinference\n",
            "Successfully installed causalinference-0.1.3\n"
          ]
        }
      ]
    },
    {
      "cell_type": "code",
      "source": [
        "############## Same as Stata in estimation, not in se\n",
        "cm = CausalModel(\n",
        "    Y=nsw_dw_cpscontrol.re78.values, \n",
        "    D=nsw_dw_cpscontrol.treat.values, \n",
        "    X=nsw_dw_cpscontrol.pscore.values\n",
        ")\n",
        "\n",
        "cm.est_via_matching(matches=5, bias_adj=False)\n",
        "\n",
        "print(cm.estimates)"
      ],
      "metadata": {
        "colab": {
          "base_uri": "https://localhost:8080/"
        },
        "id": "g-6RcTDHwrsD",
        "outputId": "c8b4ed5b-1779-40f4-b991-5ff2c04d3ef4"
      },
      "execution_count": null,
      "outputs": [
        {
          "output_type": "stream",
          "name": "stdout",
          "text": [
            "\n",
            "Treatment Effect Estimates: Matching\n",
            "\n",
            "                     Est.       S.e.          z      P>|z|      [95% Conf. int.]\n",
            "--------------------------------------------------------------------------------\n",
            "           ATE  -7835.992   3143.007     -2.493      0.013 -13996.285  -1675.699\n",
            "           ATC  -7946.597   3177.913     -2.501      0.012 -14175.306  -1717.889\n",
            "           ATT   1725.082   1141.487      1.511      0.131   -512.234   3962.397\n",
            "\n"
          ]
        }
      ]
    },
    {
      "cell_type": "code",
      "source": [
        "## Coarsened exact matching\n",
        "#   ATT in Stata 2519.446 if filtered data is used"
      ],
      "metadata": {
        "id": "rr9MezA8xCtX"
      },
      "execution_count": null,
      "outputs": []
    },
    {
      "cell_type": "code",
      "source": [
        "# Package that measures imbalance. Also should return weights, but doesn't seem to work well\n",
        "!pip install cem\n",
        "from cem import CEM"
      ],
      "metadata": {
        "colab": {
          "base_uri": "https://localhost:8080/"
        },
        "id": "0_l9OqHGuiHU",
        "outputId": "fe91510e-5d38-477b-e8df-e14b8148658f"
      },
      "execution_count": null,
      "outputs": [
        {
          "output_type": "stream",
          "name": "stdout",
          "text": [
            "Collecting cem\n",
            "  Downloading cem-0.1.5-py2.py3-none-any.whl (7.8 kB)\n",
            "Requirement already satisfied: numpy in /usr/local/lib/python3.7/dist-packages (from cem) (1.19.5)\n",
            "Requirement already satisfied: pandas in /usr/local/lib/python3.7/dist-packages (from cem) (1.1.5)\n",
            "Requirement already satisfied: pytz>=2017.2 in /usr/local/lib/python3.7/dist-packages (from pandas->cem) (2018.9)\n",
            "Requirement already satisfied: python-dateutil>=2.7.3 in /usr/local/lib/python3.7/dist-packages (from pandas->cem) (2.8.2)\n",
            "Requirement already satisfied: six>=1.5 in /usr/local/lib/python3.7/dist-packages (from python-dateutil>=2.7.3->pandas->cem) (1.15.0)\n",
            "Installing collected packages: cem\n",
            "Successfully installed cem-0.1.5\n"
          ]
        }
      ]
    },
    {
      "cell_type": "code",
      "source": [
        "cem_nsw_df = nsw_dw_cpscontrol.drop(columns=[\"data_id\",\"pscore\",\"d1\",\"d0\",\"y1\",\"y0\",\"ht\"]) # delete variables of previous methods. Also delete data_id, since divides exactly treatment and control observations, and thus the imbalance is 1"
      ],
      "metadata": {
        "id": "Rn07hlCY0BpW"
      },
      "execution_count": 65,
      "outputs": []
    },
    {
      "cell_type": "code",
      "source": [
        ""
      ],
      "metadata": {
        "id": "4Gki_3ZtQo84"
      },
      "execution_count": null,
      "outputs": []
    },
    {
      "cell_type": "code",
      "source": [
        "# calculate data imbalance\n",
        "c = CEM(cem_nsw_df , \"treat\", \"re78\")\n",
        "c.imbalance()"
      ],
      "metadata": {
        "colab": {
          "base_uri": "https://localhost:8080/"
        },
        "id": "J2BeSa3Q0S17",
        "outputId": "dc6c580c-de4b-413d-8a7a-a730a9c450ee"
      },
      "execution_count": null,
      "outputs": [
        {
          "output_type": "stream",
          "name": "stdout",
          "text": [
            "Calculating H, this may take a few minutes.\n"
          ]
        },
        {
          "output_type": "execute_result",
          "data": {
            "text/plain": [
              "0.945492181926626"
            ]
          },
          "metadata": {},
          "execution_count": 37
        }
      ]
    },
    {
      "cell_type": "code",
      "source": [
        "cem_nsw_df[\"agesq\"]=cem_nsw_df.age*cem_nsw_df.age\n",
        "cem_nsw_df[\"agecube\"]=cem_nsw_df.age*cem_nsw_df.age*cem_nsw_df.age\n",
        "cem_nsw_df[\"edusq\"]=cem_nsw_df.educ*cem_nsw_df.educ\n",
        "cem_nsw_df[\"interaction1\"]=cem_nsw_df.educ*cem_nsw_df.re74"
      ],
      "metadata": {
        "id": "VRzGXir-tKbQ"
      },
      "execution_count": 66,
      "outputs": []
    },
    {
      "cell_type": "code",
      "source": [
        "# Coarsen in 5 or 6 bins\n",
        "schema = {\n",
        "   'age': ('cut', {'bins': 6}),\n",
        "   'educ': ('cut', {'bins': 6}),\n",
        "   're74': ('qcut', {'q': 5}),\n",
        "   're75': ('qcut', {'q': 5})\n",
        "}"
      ],
      "metadata": {
        "id": "JWI7jaNh1vD1"
      },
      "execution_count": 67,
      "outputs": []
    },
    {
      "cell_type": "code",
      "source": [
        "# Imbalance when coarsening\n",
        "c.imbalance(schema)"
      ],
      "metadata": {
        "colab": {
          "base_uri": "https://localhost:8080/"
        },
        "id": "KlmrnOVU2HhY",
        "outputId": "c34268fb-c82d-4d47-b60c-7d5f21521d06"
      },
      "execution_count": null,
      "outputs": [
        {
          "output_type": "execute_result",
          "data": {
            "text/plain": [
              "0.4274193652727862"
            ]
          },
          "metadata": {},
          "execution_count": 40
        }
      ]
    },
    {
      "cell_type": "code",
      "source": [
        "# Output of the weights, needed for the weighted regression, has more observations\n",
        "weights_cem = c.match(schema)\n",
        "weights_cem.describe()\n"
      ],
      "metadata": {
        "colab": {
          "base_uri": "https://localhost:8080/"
        },
        "id": "Ybcn7VRAn7bN",
        "outputId": "b1f23aac-c6b2-4812-e951-8056e058a4ce"
      },
      "execution_count": 68,
      "outputs": [
        {
          "output_type": "execute_result",
          "data": {
            "text/plain": [
              "count    16189.000000\n",
              "mean         0.072680\n",
              "std          0.794697\n",
              "min          0.000000\n",
              "25%          0.000000\n",
              "50%          0.000000\n",
              "75%          0.000000\n",
              "max         50.277778\n",
              "Name: weights, dtype: float64"
            ]
          },
          "metadata": {},
          "execution_count": 68
        }
      ]
    },
    {
      "cell_type": "code",
      "source": [
        "cem_nsw_df['weight_cem']=weights_cem.array # length doesn't match"
      ],
      "metadata": {
        "colab": {
          "base_uri": "https://localhost:8080/",
          "height": 317
        },
        "id": "IceK77cTLW45",
        "outputId": "33806871-90c2-416c-e4d1-e2a1bffeaaa5"
      },
      "execution_count": 69,
      "outputs": [
        {
          "output_type": "error",
          "ename": "ValueError",
          "evalue": "ignored",
          "traceback": [
            "\u001b[0;31m---------------------------------------------------------------------------\u001b[0m",
            "\u001b[0;31mValueError\u001b[0m                                Traceback (most recent call last)",
            "\u001b[0;32m<ipython-input-69-a533a4452d74>\u001b[0m in \u001b[0;36m<module>\u001b[0;34m()\u001b[0m\n\u001b[0;32m----> 1\u001b[0;31m \u001b[0mcem_nsw_df\u001b[0m\u001b[0;34m[\u001b[0m\u001b[0;34m'weight_cem'\u001b[0m\u001b[0;34m]\u001b[0m\u001b[0;34m=\u001b[0m\u001b[0mweights_cem\u001b[0m\u001b[0;34m.\u001b[0m\u001b[0marray\u001b[0m\u001b[0;34m\u001b[0m\u001b[0;34m\u001b[0m\u001b[0m\n\u001b[0m",
            "\u001b[0;32m/usr/local/lib/python3.7/dist-packages/pandas/core/frame.py\u001b[0m in \u001b[0;36m__setitem__\u001b[0;34m(self, key, value)\u001b[0m\n\u001b[1;32m   3042\u001b[0m         \u001b[0;32melse\u001b[0m\u001b[0;34m:\u001b[0m\u001b[0;34m\u001b[0m\u001b[0;34m\u001b[0m\u001b[0m\n\u001b[1;32m   3043\u001b[0m             \u001b[0;31m# set column\u001b[0m\u001b[0;34m\u001b[0m\u001b[0;34m\u001b[0m\u001b[0;34m\u001b[0m\u001b[0m\n\u001b[0;32m-> 3044\u001b[0;31m             \u001b[0mself\u001b[0m\u001b[0;34m.\u001b[0m\u001b[0m_set_item\u001b[0m\u001b[0;34m(\u001b[0m\u001b[0mkey\u001b[0m\u001b[0;34m,\u001b[0m \u001b[0mvalue\u001b[0m\u001b[0;34m)\u001b[0m\u001b[0;34m\u001b[0m\u001b[0;34m\u001b[0m\u001b[0m\n\u001b[0m\u001b[1;32m   3045\u001b[0m \u001b[0;34m\u001b[0m\u001b[0m\n\u001b[1;32m   3046\u001b[0m     \u001b[0;32mdef\u001b[0m \u001b[0m_setitem_slice\u001b[0m\u001b[0;34m(\u001b[0m\u001b[0mself\u001b[0m\u001b[0;34m,\u001b[0m \u001b[0mkey\u001b[0m\u001b[0;34m:\u001b[0m \u001b[0mslice\u001b[0m\u001b[0;34m,\u001b[0m \u001b[0mvalue\u001b[0m\u001b[0;34m)\u001b[0m\u001b[0;34m:\u001b[0m\u001b[0;34m\u001b[0m\u001b[0;34m\u001b[0m\u001b[0m\n",
            "\u001b[0;32m/usr/local/lib/python3.7/dist-packages/pandas/core/frame.py\u001b[0m in \u001b[0;36m_set_item\u001b[0;34m(self, key, value)\u001b[0m\n\u001b[1;32m   3118\u001b[0m         \"\"\"\n\u001b[1;32m   3119\u001b[0m         \u001b[0mself\u001b[0m\u001b[0;34m.\u001b[0m\u001b[0m_ensure_valid_index\u001b[0m\u001b[0;34m(\u001b[0m\u001b[0mvalue\u001b[0m\u001b[0;34m)\u001b[0m\u001b[0;34m\u001b[0m\u001b[0;34m\u001b[0m\u001b[0m\n\u001b[0;32m-> 3120\u001b[0;31m         \u001b[0mvalue\u001b[0m \u001b[0;34m=\u001b[0m \u001b[0mself\u001b[0m\u001b[0;34m.\u001b[0m\u001b[0m_sanitize_column\u001b[0m\u001b[0;34m(\u001b[0m\u001b[0mkey\u001b[0m\u001b[0;34m,\u001b[0m \u001b[0mvalue\u001b[0m\u001b[0;34m)\u001b[0m\u001b[0;34m\u001b[0m\u001b[0;34m\u001b[0m\u001b[0m\n\u001b[0m\u001b[1;32m   3121\u001b[0m         \u001b[0mNDFrame\u001b[0m\u001b[0;34m.\u001b[0m\u001b[0m_set_item\u001b[0m\u001b[0;34m(\u001b[0m\u001b[0mself\u001b[0m\u001b[0;34m,\u001b[0m \u001b[0mkey\u001b[0m\u001b[0;34m,\u001b[0m \u001b[0mvalue\u001b[0m\u001b[0;34m)\u001b[0m\u001b[0;34m\u001b[0m\u001b[0;34m\u001b[0m\u001b[0m\n\u001b[1;32m   3122\u001b[0m \u001b[0;34m\u001b[0m\u001b[0m\n",
            "\u001b[0;32m/usr/local/lib/python3.7/dist-packages/pandas/core/frame.py\u001b[0m in \u001b[0;36m_sanitize_column\u001b[0;34m(self, key, value, broadcast)\u001b[0m\n\u001b[1;32m   3761\u001b[0m             \u001b[0;31m# as sanitize_index won't copy an EA, even with copy=True\u001b[0m\u001b[0;34m\u001b[0m\u001b[0;34m\u001b[0m\u001b[0;34m\u001b[0m\u001b[0m\n\u001b[1;32m   3762\u001b[0m             \u001b[0mvalue\u001b[0m \u001b[0;34m=\u001b[0m \u001b[0mvalue\u001b[0m\u001b[0;34m.\u001b[0m\u001b[0mcopy\u001b[0m\u001b[0;34m(\u001b[0m\u001b[0;34m)\u001b[0m\u001b[0;34m\u001b[0m\u001b[0;34m\u001b[0m\u001b[0m\n\u001b[0;32m-> 3763\u001b[0;31m             \u001b[0mvalue\u001b[0m \u001b[0;34m=\u001b[0m \u001b[0msanitize_index\u001b[0m\u001b[0;34m(\u001b[0m\u001b[0mvalue\u001b[0m\u001b[0;34m,\u001b[0m \u001b[0mself\u001b[0m\u001b[0;34m.\u001b[0m\u001b[0mindex\u001b[0m\u001b[0;34m)\u001b[0m\u001b[0;34m\u001b[0m\u001b[0;34m\u001b[0m\u001b[0m\n\u001b[0m\u001b[1;32m   3764\u001b[0m \u001b[0;34m\u001b[0m\u001b[0m\n\u001b[1;32m   3765\u001b[0m         \u001b[0;32melif\u001b[0m \u001b[0misinstance\u001b[0m\u001b[0;34m(\u001b[0m\u001b[0mvalue\u001b[0m\u001b[0;34m,\u001b[0m \u001b[0mIndex\u001b[0m\u001b[0;34m)\u001b[0m \u001b[0;32mor\u001b[0m \u001b[0mis_sequence\u001b[0m\u001b[0;34m(\u001b[0m\u001b[0mvalue\u001b[0m\u001b[0;34m)\u001b[0m\u001b[0;34m:\u001b[0m\u001b[0;34m\u001b[0m\u001b[0;34m\u001b[0m\u001b[0m\n",
            "\u001b[0;32m/usr/local/lib/python3.7/dist-packages/pandas/core/internals/construction.py\u001b[0m in \u001b[0;36msanitize_index\u001b[0;34m(data, index)\u001b[0m\n\u001b[1;32m    746\u001b[0m     \u001b[0;32mif\u001b[0m \u001b[0mlen\u001b[0m\u001b[0;34m(\u001b[0m\u001b[0mdata\u001b[0m\u001b[0;34m)\u001b[0m \u001b[0;34m!=\u001b[0m \u001b[0mlen\u001b[0m\u001b[0;34m(\u001b[0m\u001b[0mindex\u001b[0m\u001b[0;34m)\u001b[0m\u001b[0;34m:\u001b[0m\u001b[0;34m\u001b[0m\u001b[0;34m\u001b[0m\u001b[0m\n\u001b[1;32m    747\u001b[0m         raise ValueError(\n\u001b[0;32m--> 748\u001b[0;31m             \u001b[0;34m\"Length of values \"\u001b[0m\u001b[0;34m\u001b[0m\u001b[0;34m\u001b[0m\u001b[0m\n\u001b[0m\u001b[1;32m    749\u001b[0m             \u001b[0;34mf\"({len(data)}) \"\u001b[0m\u001b[0;34m\u001b[0m\u001b[0;34m\u001b[0m\u001b[0m\n\u001b[1;32m    750\u001b[0m             \u001b[0;34m\"does not match length of index \"\u001b[0m\u001b[0;34m\u001b[0m\u001b[0;34m\u001b[0m\u001b[0m\n",
            "\u001b[0;31mValueError\u001b[0m: Length of values (16189) does not match length of index (16177)"
          ]
        }
      ]
    },
    {
      "cell_type": "code",
      "source": [
        "# Try of weighted regression\n",
        "wls_model = sm.WLS(cem_nsw_df.re78,cem_nsw_df.treat, weights=weights_cem)\n",
        "res_wls = wls_model.fit()\n",
        "print(res_wls.summary())"
      ],
      "metadata": {
        "colab": {
          "base_uri": "https://localhost:8080/",
          "height": 370
        },
        "id": "9yZAofQQpFai",
        "outputId": "c3a24bc2-7013-4d3f-e02a-8b8190f24b18"
      },
      "execution_count": null,
      "outputs": [
        {
          "output_type": "error",
          "ename": "ValueError",
          "evalue": "ignored",
          "traceback": [
            "\u001b[0;31m---------------------------------------------------------------------------\u001b[0m",
            "\u001b[0;31mValueError\u001b[0m                                Traceback (most recent call last)",
            "\u001b[0;32m<ipython-input-47-b4e74b5df132>\u001b[0m in \u001b[0;36m<module>\u001b[0;34m()\u001b[0m\n\u001b[1;32m      1\u001b[0m \u001b[0;31m# Similar try\u001b[0m\u001b[0;34m\u001b[0m\u001b[0;34m\u001b[0m\u001b[0;34m\u001b[0m\u001b[0m\n\u001b[0;32m----> 2\u001b[0;31m \u001b[0mwls_model\u001b[0m \u001b[0;34m=\u001b[0m \u001b[0msm\u001b[0m\u001b[0;34m.\u001b[0m\u001b[0mWLS\u001b[0m\u001b[0;34m(\u001b[0m\u001b[0mcem_nsw_df\u001b[0m\u001b[0;34m.\u001b[0m\u001b[0mre78\u001b[0m\u001b[0;34m,\u001b[0m\u001b[0mcem_nsw_df\u001b[0m\u001b[0;34m.\u001b[0m\u001b[0mtreat\u001b[0m\u001b[0;34m,\u001b[0m \u001b[0mweights\u001b[0m\u001b[0;34m=\u001b[0m\u001b[0mweights_cem\u001b[0m\u001b[0;34m)\u001b[0m\u001b[0;34m\u001b[0m\u001b[0;34m\u001b[0m\u001b[0m\n\u001b[0m\u001b[1;32m      3\u001b[0m \u001b[0mres_wls\u001b[0m \u001b[0;34m=\u001b[0m \u001b[0mwls_model\u001b[0m\u001b[0;34m.\u001b[0m\u001b[0mfit\u001b[0m\u001b[0;34m(\u001b[0m\u001b[0;34m)\u001b[0m\u001b[0;34m\u001b[0m\u001b[0;34m\u001b[0m\u001b[0m\n\u001b[1;32m      4\u001b[0m \u001b[0mprint\u001b[0m\u001b[0;34m(\u001b[0m\u001b[0mres_wls\u001b[0m\u001b[0;34m.\u001b[0m\u001b[0msummary\u001b[0m\u001b[0;34m(\u001b[0m\u001b[0;34m)\u001b[0m\u001b[0;34m)\u001b[0m\u001b[0;34m\u001b[0m\u001b[0;34m\u001b[0m\u001b[0m\n",
            "\u001b[0;32m/usr/local/lib/python3.7/dist-packages/statsmodels/regression/linear_model.py\u001b[0m in \u001b[0;36m__init__\u001b[0;34m(self, endog, exog, weights, missing, hasconst, **kwargs)\u001b[0m\n\u001b[1;32m    682\u001b[0m             \u001b[0mweights\u001b[0m \u001b[0;34m=\u001b[0m \u001b[0mweights\u001b[0m\u001b[0;34m.\u001b[0m\u001b[0msqueeze\u001b[0m\u001b[0;34m(\u001b[0m\u001b[0;34m)\u001b[0m\u001b[0;34m\u001b[0m\u001b[0;34m\u001b[0m\u001b[0m\n\u001b[1;32m    683\u001b[0m         super(WLS, self).__init__(endog, exog, missing=missing,\n\u001b[0;32m--> 684\u001b[0;31m                                   weights=weights, hasconst=hasconst, **kwargs)\n\u001b[0m\u001b[1;32m    685\u001b[0m         \u001b[0mnobs\u001b[0m \u001b[0;34m=\u001b[0m \u001b[0mself\u001b[0m\u001b[0;34m.\u001b[0m\u001b[0mexog\u001b[0m\u001b[0;34m.\u001b[0m\u001b[0mshape\u001b[0m\u001b[0;34m[\u001b[0m\u001b[0;36m0\u001b[0m\u001b[0;34m]\u001b[0m\u001b[0;34m\u001b[0m\u001b[0;34m\u001b[0m\u001b[0m\n\u001b[1;32m    686\u001b[0m         \u001b[0mweights\u001b[0m \u001b[0;34m=\u001b[0m \u001b[0mself\u001b[0m\u001b[0;34m.\u001b[0m\u001b[0mweights\u001b[0m\u001b[0;34m\u001b[0m\u001b[0;34m\u001b[0m\u001b[0m\n",
            "\u001b[0;32m/usr/local/lib/python3.7/dist-packages/statsmodels/regression/linear_model.py\u001b[0m in \u001b[0;36m__init__\u001b[0;34m(self, endog, exog, **kwargs)\u001b[0m\n\u001b[1;32m    194\u001b[0m     \"\"\"\n\u001b[1;32m    195\u001b[0m     \u001b[0;32mdef\u001b[0m \u001b[0m__init__\u001b[0m\u001b[0;34m(\u001b[0m\u001b[0mself\u001b[0m\u001b[0;34m,\u001b[0m \u001b[0mendog\u001b[0m\u001b[0;34m,\u001b[0m \u001b[0mexog\u001b[0m\u001b[0;34m,\u001b[0m \u001b[0;34m**\u001b[0m\u001b[0mkwargs\u001b[0m\u001b[0;34m)\u001b[0m\u001b[0;34m:\u001b[0m\u001b[0;34m\u001b[0m\u001b[0;34m\u001b[0m\u001b[0m\n\u001b[0;32m--> 196\u001b[0;31m         \u001b[0msuper\u001b[0m\u001b[0;34m(\u001b[0m\u001b[0mRegressionModel\u001b[0m\u001b[0;34m,\u001b[0m \u001b[0mself\u001b[0m\u001b[0;34m)\u001b[0m\u001b[0;34m.\u001b[0m\u001b[0m__init__\u001b[0m\u001b[0;34m(\u001b[0m\u001b[0mendog\u001b[0m\u001b[0;34m,\u001b[0m \u001b[0mexog\u001b[0m\u001b[0;34m,\u001b[0m \u001b[0;34m**\u001b[0m\u001b[0mkwargs\u001b[0m\u001b[0;34m)\u001b[0m\u001b[0;34m\u001b[0m\u001b[0;34m\u001b[0m\u001b[0m\n\u001b[0m\u001b[1;32m    197\u001b[0m         \u001b[0mself\u001b[0m\u001b[0;34m.\u001b[0m\u001b[0m_data_attr\u001b[0m\u001b[0;34m.\u001b[0m\u001b[0mextend\u001b[0m\u001b[0;34m(\u001b[0m\u001b[0;34m[\u001b[0m\u001b[0;34m'pinv_wexog'\u001b[0m\u001b[0;34m,\u001b[0m \u001b[0;34m'wendog'\u001b[0m\u001b[0;34m,\u001b[0m \u001b[0;34m'wexog'\u001b[0m\u001b[0;34m,\u001b[0m \u001b[0;34m'weights'\u001b[0m\u001b[0;34m]\u001b[0m\u001b[0;34m)\u001b[0m\u001b[0;34m\u001b[0m\u001b[0;34m\u001b[0m\u001b[0m\n\u001b[1;32m    198\u001b[0m \u001b[0;34m\u001b[0m\u001b[0m\n",
            "\u001b[0;32m/usr/local/lib/python3.7/dist-packages/statsmodels/base/model.py\u001b[0m in \u001b[0;36m__init__\u001b[0;34m(self, endog, exog, **kwargs)\u001b[0m\n\u001b[1;32m    215\u001b[0m     \u001b[0;32mdef\u001b[0m \u001b[0m__init__\u001b[0m\u001b[0;34m(\u001b[0m\u001b[0mself\u001b[0m\u001b[0;34m,\u001b[0m \u001b[0mendog\u001b[0m\u001b[0;34m,\u001b[0m \u001b[0mexog\u001b[0m\u001b[0;34m=\u001b[0m\u001b[0;32mNone\u001b[0m\u001b[0;34m,\u001b[0m \u001b[0;34m**\u001b[0m\u001b[0mkwargs\u001b[0m\u001b[0;34m)\u001b[0m\u001b[0;34m:\u001b[0m\u001b[0;34m\u001b[0m\u001b[0;34m\u001b[0m\u001b[0m\n\u001b[1;32m    216\u001b[0m         \u001b[0msuper\u001b[0m\u001b[0;34m(\u001b[0m\u001b[0mLikelihoodModel\u001b[0m\u001b[0;34m,\u001b[0m \u001b[0mself\u001b[0m\u001b[0;34m)\u001b[0m\u001b[0;34m.\u001b[0m\u001b[0m__init__\u001b[0m\u001b[0;34m(\u001b[0m\u001b[0mendog\u001b[0m\u001b[0;34m,\u001b[0m \u001b[0mexog\u001b[0m\u001b[0;34m,\u001b[0m \u001b[0;34m**\u001b[0m\u001b[0mkwargs\u001b[0m\u001b[0;34m)\u001b[0m\u001b[0;34m\u001b[0m\u001b[0;34m\u001b[0m\u001b[0m\n\u001b[0;32m--> 217\u001b[0;31m         \u001b[0mself\u001b[0m\u001b[0;34m.\u001b[0m\u001b[0minitialize\u001b[0m\u001b[0;34m(\u001b[0m\u001b[0;34m)\u001b[0m\u001b[0;34m\u001b[0m\u001b[0;34m\u001b[0m\u001b[0m\n\u001b[0m\u001b[1;32m    218\u001b[0m \u001b[0;34m\u001b[0m\u001b[0m\n\u001b[1;32m    219\u001b[0m     \u001b[0;32mdef\u001b[0m \u001b[0minitialize\u001b[0m\u001b[0;34m(\u001b[0m\u001b[0mself\u001b[0m\u001b[0;34m)\u001b[0m\u001b[0;34m:\u001b[0m\u001b[0;34m\u001b[0m\u001b[0;34m\u001b[0m\u001b[0m\n",
            "\u001b[0;32m/usr/local/lib/python3.7/dist-packages/statsmodels/regression/linear_model.py\u001b[0m in \u001b[0;36minitialize\u001b[0;34m(self)\u001b[0m\n\u001b[1;32m    198\u001b[0m \u001b[0;34m\u001b[0m\u001b[0m\n\u001b[1;32m    199\u001b[0m     \u001b[0;32mdef\u001b[0m \u001b[0minitialize\u001b[0m\u001b[0;34m(\u001b[0m\u001b[0mself\u001b[0m\u001b[0;34m)\u001b[0m\u001b[0;34m:\u001b[0m\u001b[0;34m\u001b[0m\u001b[0;34m\u001b[0m\u001b[0m\n\u001b[0;32m--> 200\u001b[0;31m         \u001b[0mself\u001b[0m\u001b[0;34m.\u001b[0m\u001b[0mwexog\u001b[0m \u001b[0;34m=\u001b[0m \u001b[0mself\u001b[0m\u001b[0;34m.\u001b[0m\u001b[0mwhiten\u001b[0m\u001b[0;34m(\u001b[0m\u001b[0mself\u001b[0m\u001b[0;34m.\u001b[0m\u001b[0mexog\u001b[0m\u001b[0;34m)\u001b[0m\u001b[0;34m\u001b[0m\u001b[0;34m\u001b[0m\u001b[0m\n\u001b[0m\u001b[1;32m    201\u001b[0m         \u001b[0mself\u001b[0m\u001b[0;34m.\u001b[0m\u001b[0mwendog\u001b[0m \u001b[0;34m=\u001b[0m \u001b[0mself\u001b[0m\u001b[0;34m.\u001b[0m\u001b[0mwhiten\u001b[0m\u001b[0;34m(\u001b[0m\u001b[0mself\u001b[0m\u001b[0;34m.\u001b[0m\u001b[0mendog\u001b[0m\u001b[0;34m)\u001b[0m\u001b[0;34m\u001b[0m\u001b[0;34m\u001b[0m\u001b[0m\n\u001b[1;32m    202\u001b[0m         \u001b[0;31m# overwrite nobs from class Model:\u001b[0m\u001b[0;34m\u001b[0m\u001b[0;34m\u001b[0m\u001b[0;34m\u001b[0m\u001b[0m\n",
            "\u001b[0;32m/usr/local/lib/python3.7/dist-packages/statsmodels/regression/linear_model.py\u001b[0m in \u001b[0;36mwhiten\u001b[0;34m(self, X)\u001b[0m\n\u001b[1;32m    709\u001b[0m             \u001b[0;32mreturn\u001b[0m \u001b[0mX\u001b[0m \u001b[0;34m*\u001b[0m \u001b[0mnp\u001b[0m\u001b[0;34m.\u001b[0m\u001b[0msqrt\u001b[0m\u001b[0;34m(\u001b[0m\u001b[0mself\u001b[0m\u001b[0;34m.\u001b[0m\u001b[0mweights\u001b[0m\u001b[0;34m)\u001b[0m\u001b[0;34m\u001b[0m\u001b[0;34m\u001b[0m\u001b[0m\n\u001b[1;32m    710\u001b[0m         \u001b[0;32melif\u001b[0m \u001b[0mX\u001b[0m\u001b[0;34m.\u001b[0m\u001b[0mndim\u001b[0m \u001b[0;34m==\u001b[0m \u001b[0;36m2\u001b[0m\u001b[0;34m:\u001b[0m\u001b[0;34m\u001b[0m\u001b[0;34m\u001b[0m\u001b[0m\n\u001b[0;32m--> 711\u001b[0;31m             \u001b[0;32mreturn\u001b[0m \u001b[0mnp\u001b[0m\u001b[0;34m.\u001b[0m\u001b[0msqrt\u001b[0m\u001b[0;34m(\u001b[0m\u001b[0mself\u001b[0m\u001b[0;34m.\u001b[0m\u001b[0mweights\u001b[0m\u001b[0;34m)\u001b[0m\u001b[0;34m[\u001b[0m\u001b[0;34m:\u001b[0m\u001b[0;34m,\u001b[0m \u001b[0;32mNone\u001b[0m\u001b[0;34m]\u001b[0m\u001b[0;34m*\u001b[0m\u001b[0mX\u001b[0m\u001b[0;34m\u001b[0m\u001b[0;34m\u001b[0m\u001b[0m\n\u001b[0m\u001b[1;32m    712\u001b[0m \u001b[0;34m\u001b[0m\u001b[0m\n\u001b[1;32m    713\u001b[0m     \u001b[0;32mdef\u001b[0m \u001b[0mloglike\u001b[0m\u001b[0;34m(\u001b[0m\u001b[0mself\u001b[0m\u001b[0;34m,\u001b[0m \u001b[0mparams\u001b[0m\u001b[0;34m)\u001b[0m\u001b[0;34m:\u001b[0m\u001b[0;34m\u001b[0m\u001b[0;34m\u001b[0m\u001b[0m\n",
            "\u001b[0;31mValueError\u001b[0m: operands could not be broadcast together with shapes (16189,1) (16177,1) "
          ]
        }
      ]
    },
    {
      "cell_type": "code",
      "source": [
        "\n",
        "# Try cem package coarsening only age variable, with same bins as in Stata\n",
        "binsage = pd.IntervalIndex.from_tuples([(0, 10), (10,20), (20,30), (30,40), (40,60)])\n",
        "schema = {\n",
        "   'age': ('cut', {'bins': binsage})\n",
        "}"
      ],
      "metadata": {
        "id": "vESc2r4o4sKl"
      },
      "execution_count": 71,
      "outputs": []
    },
    {
      "cell_type": "code",
      "source": [
        "c.imbalance(schema)"
      ],
      "metadata": {
        "colab": {
          "base_uri": "https://localhost:8080/"
        },
        "id": "YQCGRQ0hquns",
        "outputId": "70695c05-ffcc-412d-d7c8-dcb28a59750e"
      },
      "execution_count": null,
      "outputs": [
        {
          "output_type": "execute_result",
          "data": {
            "text/plain": [
              "0.48829277724892906"
            ]
          },
          "metadata": {},
          "execution_count": 49
        }
      ]
    },
    {
      "cell_type": "code",
      "source": [
        "weights_cem = c.match(schema)\n",
        "weights_cem.describe() #same length this time"
      ],
      "metadata": {
        "id": "Gq1hP9-K_eEf",
        "colab": {
          "base_uri": "https://localhost:8080/"
        },
        "outputId": "7d6ddf9d-d03e-4d37-bbef-988359348528"
      },
      "execution_count": 73,
      "outputs": [
        {
          "output_type": "execute_result",
          "data": {
            "text/plain": [
              "count    16177.000000\n",
              "mean         0.023614\n",
              "std          0.347138\n",
              "min          0.000000\n",
              "25%          0.000000\n",
              "50%          0.000000\n",
              "75%          0.000000\n",
              "max         33.300000\n",
              "Name: weights, dtype: float64"
            ]
          },
          "metadata": {},
          "execution_count": 73
        }
      ]
    },
    {
      "cell_type": "code",
      "source": [
        "m = smf.wls(formula = 're78 ~ treat', weights = weights_cem, data = cem_nsw_df).fit()\n",
        "\n",
        "m.summary()"
      ],
      "metadata": {
        "colab": {
          "base_uri": "https://localhost:8080/",
          "height": 487
        },
        "id": "B4wjk7igE_eG",
        "outputId": "d6934702-f821-4a0d-8c22-be6bb3a7efed"
      },
      "execution_count": 74,
      "outputs": [
        {
          "output_type": "stream",
          "name": "stderr",
          "text": [
            "/usr/local/lib/python3.7/dist-packages/statsmodels/regression/linear_model.py:740: RuntimeWarning: divide by zero encountered in log\n",
            "  llf += 0.5 * np.sum(np.log(self.weights))\n"
          ]
        },
        {
          "output_type": "execute_result",
          "data": {
            "text/html": [
              "<table class=\"simpletable\">\n",
              "<caption>WLS Regression Results</caption>\n",
              "<tr>\n",
              "  <th>Dep. Variable:</th>          <td>re78</td>       <th>  R-squared:         </th> <td>   0.000</td>\n",
              "</tr>\n",
              "<tr>\n",
              "  <th>Model:</th>                   <td>WLS</td>       <th>  Adj. R-squared:    </th> <td>   0.000</td>\n",
              "</tr>\n",
              "<tr>\n",
              "  <th>Method:</th>             <td>Least Squares</td>  <th>  F-statistic:       </th> <td>   4.659</td>\n",
              "</tr>\n",
              "<tr>\n",
              "  <th>Date:</th>             <td>Wed, 05 Jan 2022</td> <th>  Prob (F-statistic):</th>  <td>0.0309</td> \n",
              "</tr>\n",
              "<tr>\n",
              "  <th>Time:</th>                 <td>03:04:06</td>     <th>  Log-Likelihood:    </th> <td>    -inf</td>\n",
              "</tr>\n",
              "<tr>\n",
              "  <th>No. Observations:</th>      <td> 16177</td>      <th>  AIC:               </th> <td>     inf</td>\n",
              "</tr>\n",
              "<tr>\n",
              "  <th>Df Residuals:</th>          <td> 16175</td>      <th>  BIC:               </th> <td>     inf</td>\n",
              "</tr>\n",
              "<tr>\n",
              "  <th>Df Model:</th>              <td>     1</td>      <th>                     </th>     <td> </td>   \n",
              "</tr>\n",
              "<tr>\n",
              "  <th>Covariance Type:</th>      <td>nonrobust</td>    <th>                     </th>     <td> </td>   \n",
              "</tr>\n",
              "</table>\n",
              "<table class=\"simpletable\">\n",
              "<tr>\n",
              "      <td></td>         <th>coef</th>     <th>std err</th>      <th>t</th>      <th>P>|t|</th>  <th>[0.025</th>    <th>0.975]</th>  \n",
              "</tr>\n",
              "<tr>\n",
              "  <th>Intercept</th> <td> 1.661e+04</td> <td>   74.752</td> <td>  222.137</td> <td> 0.000</td> <td> 1.65e+04</td> <td> 1.68e+04</td>\n",
              "</tr>\n",
              "<tr>\n",
              "  <th>treat</th>     <td>-7219.3171</td> <td> 3344.592</td> <td>   -2.159</td> <td> 0.031</td> <td>-1.38e+04</td> <td> -663.546</td>\n",
              "</tr>\n",
              "</table>\n",
              "<table class=\"simpletable\">\n",
              "<tr>\n",
              "  <th>Omnibus:</th>       <td>13172.847</td> <th>  Durbin-Watson:     </th>   <td>   1.863</td>  \n",
              "</tr>\n",
              "<tr>\n",
              "  <th>Prob(Omnibus):</th>  <td> 0.000</td>   <th>  Jarque-Bera (JB):  </th> <td>44623322.240</td>\n",
              "</tr>\n",
              "<tr>\n",
              "  <th>Skew:</th>           <td>-2.373</td>   <th>  Prob(JB):          </th>   <td>    0.00</td>  \n",
              "</tr>\n",
              "<tr>\n",
              "  <th>Kurtosis:</th>       <td>260.255</td>  <th>  Cond. No.          </th>   <td>    44.8</td>  \n",
              "</tr>\n",
              "</table><br/><br/>Warnings:<br/>[1] Standard Errors assume that the covariance matrix of the errors is correctly specified."
            ],
            "text/plain": [
              "<class 'statsmodels.iolib.summary.Summary'>\n",
              "\"\"\"\n",
              "                            WLS Regression Results                            \n",
              "==============================================================================\n",
              "Dep. Variable:                   re78   R-squared:                       0.000\n",
              "Model:                            WLS   Adj. R-squared:                  0.000\n",
              "Method:                 Least Squares   F-statistic:                     4.659\n",
              "Date:                Wed, 05 Jan 2022   Prob (F-statistic):             0.0309\n",
              "Time:                        03:04:06   Log-Likelihood:                   -inf\n",
              "No. Observations:               16177   AIC:                               inf\n",
              "Df Residuals:                   16175   BIC:                               inf\n",
              "Df Model:                           1                                         \n",
              "Covariance Type:            nonrobust                                         \n",
              "==============================================================================\n",
              "                 coef    std err          t      P>|t|      [0.025      0.975]\n",
              "------------------------------------------------------------------------------\n",
              "Intercept   1.661e+04     74.752    222.137      0.000    1.65e+04    1.68e+04\n",
              "treat      -7219.3171   3344.592     -2.159      0.031   -1.38e+04    -663.546\n",
              "==============================================================================\n",
              "Omnibus:                    13172.847   Durbin-Watson:                   1.863\n",
              "Prob(Omnibus):                  0.000   Jarque-Bera (JB):         44623322.240\n",
              "Skew:                          -2.373   Prob(JB):                         0.00\n",
              "Kurtosis:                     260.255   Cond. No.                         44.8\n",
              "==============================================================================\n",
              "\n",
              "Warnings:\n",
              "[1] Standard Errors assume that the covariance matrix of the errors is correctly specified.\n",
              "\"\"\""
            ]
          },
          "metadata": {},
          "execution_count": 74
        }
      ]
    },
    {
      "cell_type": "code",
      "source": [
        "cem_nsw_df['weight_cem']=weights_cem.array"
      ],
      "metadata": {
        "id": "gx3GEW2_BI0h",
        "colab": {
          "base_uri": "https://localhost:8080/",
          "height": 317
        },
        "outputId": "c0370d24-66c2-4750-ced6-eb26e5ad2782"
      },
      "execution_count": 82,
      "outputs": [
        {
          "output_type": "error",
          "ename": "ValueError",
          "evalue": "ignored",
          "traceback": [
            "\u001b[0;31m---------------------------------------------------------------------------\u001b[0m",
            "\u001b[0;31mValueError\u001b[0m                                Traceback (most recent call last)",
            "\u001b[0;32m<ipython-input-82-a533a4452d74>\u001b[0m in \u001b[0;36m<module>\u001b[0;34m()\u001b[0m\n\u001b[0;32m----> 1\u001b[0;31m \u001b[0mcem_nsw_df\u001b[0m\u001b[0;34m[\u001b[0m\u001b[0;34m'weight_cem'\u001b[0m\u001b[0;34m]\u001b[0m\u001b[0;34m=\u001b[0m\u001b[0mweights_cem\u001b[0m\u001b[0;34m.\u001b[0m\u001b[0marray\u001b[0m\u001b[0;34m\u001b[0m\u001b[0;34m\u001b[0m\u001b[0m\n\u001b[0m",
            "\u001b[0;32m/usr/local/lib/python3.7/dist-packages/pandas/core/frame.py\u001b[0m in \u001b[0;36m__setitem__\u001b[0;34m(self, key, value)\u001b[0m\n\u001b[1;32m   3042\u001b[0m         \u001b[0;32melse\u001b[0m\u001b[0;34m:\u001b[0m\u001b[0;34m\u001b[0m\u001b[0;34m\u001b[0m\u001b[0m\n\u001b[1;32m   3043\u001b[0m             \u001b[0;31m# set column\u001b[0m\u001b[0;34m\u001b[0m\u001b[0;34m\u001b[0m\u001b[0;34m\u001b[0m\u001b[0m\n\u001b[0;32m-> 3044\u001b[0;31m             \u001b[0mself\u001b[0m\u001b[0;34m.\u001b[0m\u001b[0m_set_item\u001b[0m\u001b[0;34m(\u001b[0m\u001b[0mkey\u001b[0m\u001b[0;34m,\u001b[0m \u001b[0mvalue\u001b[0m\u001b[0;34m)\u001b[0m\u001b[0;34m\u001b[0m\u001b[0;34m\u001b[0m\u001b[0m\n\u001b[0m\u001b[1;32m   3045\u001b[0m \u001b[0;34m\u001b[0m\u001b[0m\n\u001b[1;32m   3046\u001b[0m     \u001b[0;32mdef\u001b[0m \u001b[0m_setitem_slice\u001b[0m\u001b[0;34m(\u001b[0m\u001b[0mself\u001b[0m\u001b[0;34m,\u001b[0m \u001b[0mkey\u001b[0m\u001b[0;34m:\u001b[0m \u001b[0mslice\u001b[0m\u001b[0;34m,\u001b[0m \u001b[0mvalue\u001b[0m\u001b[0;34m)\u001b[0m\u001b[0;34m:\u001b[0m\u001b[0;34m\u001b[0m\u001b[0;34m\u001b[0m\u001b[0m\n",
            "\u001b[0;32m/usr/local/lib/python3.7/dist-packages/pandas/core/frame.py\u001b[0m in \u001b[0;36m_set_item\u001b[0;34m(self, key, value)\u001b[0m\n\u001b[1;32m   3118\u001b[0m         \"\"\"\n\u001b[1;32m   3119\u001b[0m         \u001b[0mself\u001b[0m\u001b[0;34m.\u001b[0m\u001b[0m_ensure_valid_index\u001b[0m\u001b[0;34m(\u001b[0m\u001b[0mvalue\u001b[0m\u001b[0;34m)\u001b[0m\u001b[0;34m\u001b[0m\u001b[0;34m\u001b[0m\u001b[0m\n\u001b[0;32m-> 3120\u001b[0;31m         \u001b[0mvalue\u001b[0m \u001b[0;34m=\u001b[0m \u001b[0mself\u001b[0m\u001b[0;34m.\u001b[0m\u001b[0m_sanitize_column\u001b[0m\u001b[0;34m(\u001b[0m\u001b[0mkey\u001b[0m\u001b[0;34m,\u001b[0m \u001b[0mvalue\u001b[0m\u001b[0;34m)\u001b[0m\u001b[0;34m\u001b[0m\u001b[0;34m\u001b[0m\u001b[0m\n\u001b[0m\u001b[1;32m   3121\u001b[0m         \u001b[0mNDFrame\u001b[0m\u001b[0;34m.\u001b[0m\u001b[0m_set_item\u001b[0m\u001b[0;34m(\u001b[0m\u001b[0mself\u001b[0m\u001b[0;34m,\u001b[0m \u001b[0mkey\u001b[0m\u001b[0;34m,\u001b[0m \u001b[0mvalue\u001b[0m\u001b[0;34m)\u001b[0m\u001b[0;34m\u001b[0m\u001b[0;34m\u001b[0m\u001b[0m\n\u001b[1;32m   3122\u001b[0m \u001b[0;34m\u001b[0m\u001b[0m\n",
            "\u001b[0;32m/usr/local/lib/python3.7/dist-packages/pandas/core/frame.py\u001b[0m in \u001b[0;36m_sanitize_column\u001b[0;34m(self, key, value, broadcast)\u001b[0m\n\u001b[1;32m   3761\u001b[0m             \u001b[0;31m# as sanitize_index won't copy an EA, even with copy=True\u001b[0m\u001b[0;34m\u001b[0m\u001b[0;34m\u001b[0m\u001b[0;34m\u001b[0m\u001b[0m\n\u001b[1;32m   3762\u001b[0m             \u001b[0mvalue\u001b[0m \u001b[0;34m=\u001b[0m \u001b[0mvalue\u001b[0m\u001b[0;34m.\u001b[0m\u001b[0mcopy\u001b[0m\u001b[0;34m(\u001b[0m\u001b[0;34m)\u001b[0m\u001b[0;34m\u001b[0m\u001b[0;34m\u001b[0m\u001b[0m\n\u001b[0;32m-> 3763\u001b[0;31m             \u001b[0mvalue\u001b[0m \u001b[0;34m=\u001b[0m \u001b[0msanitize_index\u001b[0m\u001b[0;34m(\u001b[0m\u001b[0mvalue\u001b[0m\u001b[0;34m,\u001b[0m \u001b[0mself\u001b[0m\u001b[0;34m.\u001b[0m\u001b[0mindex\u001b[0m\u001b[0;34m)\u001b[0m\u001b[0;34m\u001b[0m\u001b[0;34m\u001b[0m\u001b[0m\n\u001b[0m\u001b[1;32m   3764\u001b[0m \u001b[0;34m\u001b[0m\u001b[0m\n\u001b[1;32m   3765\u001b[0m         \u001b[0;32melif\u001b[0m \u001b[0misinstance\u001b[0m\u001b[0;34m(\u001b[0m\u001b[0mvalue\u001b[0m\u001b[0;34m,\u001b[0m \u001b[0mIndex\u001b[0m\u001b[0;34m)\u001b[0m \u001b[0;32mor\u001b[0m \u001b[0mis_sequence\u001b[0m\u001b[0;34m(\u001b[0m\u001b[0mvalue\u001b[0m\u001b[0;34m)\u001b[0m\u001b[0;34m:\u001b[0m\u001b[0;34m\u001b[0m\u001b[0;34m\u001b[0m\u001b[0m\n",
            "\u001b[0;32m/usr/local/lib/python3.7/dist-packages/pandas/core/internals/construction.py\u001b[0m in \u001b[0;36msanitize_index\u001b[0;34m(data, index)\u001b[0m\n\u001b[1;32m    746\u001b[0m     \u001b[0;32mif\u001b[0m \u001b[0mlen\u001b[0m\u001b[0;34m(\u001b[0m\u001b[0mdata\u001b[0m\u001b[0;34m)\u001b[0m \u001b[0;34m!=\u001b[0m \u001b[0mlen\u001b[0m\u001b[0;34m(\u001b[0m\u001b[0mindex\u001b[0m\u001b[0;34m)\u001b[0m\u001b[0;34m:\u001b[0m\u001b[0;34m\u001b[0m\u001b[0;34m\u001b[0m\u001b[0m\n\u001b[1;32m    747\u001b[0m         raise ValueError(\n\u001b[0;32m--> 748\u001b[0;31m             \u001b[0;34m\"Length of values \"\u001b[0m\u001b[0;34m\u001b[0m\u001b[0;34m\u001b[0m\u001b[0m\n\u001b[0m\u001b[1;32m    749\u001b[0m             \u001b[0;34mf\"({len(data)}) \"\u001b[0m\u001b[0;34m\u001b[0m\u001b[0;34m\u001b[0m\u001b[0m\n\u001b[1;32m    750\u001b[0m             \u001b[0;34m\"does not match length of index \"\u001b[0m\u001b[0;34m\u001b[0m\u001b[0;34m\u001b[0m\u001b[0m\n",
            "\u001b[0;31mValueError\u001b[0m: Length of values (16199) does not match length of index (16177)"
          ]
        }
      ]
    },
    {
      "cell_type": "code",
      "source": [
        "wls_model = sm.WLS(cem_nsw_df.re78,cem_nsw_df.treat, weights=cem_nsw_df.weight_cem) \n",
        "res_wls = wls_model.fit()\n",
        "print(res_wls.summary()) # different result than using formula "
      ],
      "metadata": {
        "colab": {
          "base_uri": "https://localhost:8080/"
        },
        "id": "A_qixsJoKpmH",
        "outputId": "00c62df1-9828-4177-c8dc-76b25c2572c6"
      },
      "execution_count": 76,
      "outputs": [
        {
          "output_type": "stream",
          "name": "stdout",
          "text": [
            "                                 WLS Regression Results                                \n",
            "=======================================================================================\n",
            "Dep. Variable:                   re78   R-squared (uncentered):                   0.000\n",
            "Model:                            WLS   Adj. R-squared (uncentered):              0.000\n",
            "Method:                 Least Squares   F-statistic:                              1.945\n",
            "Date:                Wed, 05 Jan 2022   Prob (F-statistic):                       0.163\n",
            "Time:                        03:04:41   Log-Likelihood:                            -inf\n",
            "No. Observations:               16177   AIC:                                        inf\n",
            "Df Residuals:                   16176   BIC:                                        inf\n",
            "Df Model:                           1                                                  \n",
            "Covariance Type:            nonrobust                                                  \n",
            "==============================================================================\n",
            "                 coef    std err          t      P>|t|      [0.025      0.975]\n",
            "------------------------------------------------------------------------------\n",
            "treat       9385.9829   6729.548      1.395      0.163   -3804.676    2.26e+04\n",
            "==============================================================================\n",
            "Omnibus:                    33884.901   Durbin-Watson:                   1.509\n",
            "Prob(Omnibus):                  0.000   Jarque-Bera (JB):        204630330.908\n",
            "Skew:                          17.917   Prob(JB):                         0.00\n",
            "Kurtosis:                     552.821   Cond. No.                         1.00\n",
            "==============================================================================\n",
            "\n",
            "Warnings:\n",
            "[1] Standard Errors assume that the covariance matrix of the errors is correctly specified.\n"
          ]
        },
        {
          "output_type": "stream",
          "name": "stderr",
          "text": [
            "/usr/local/lib/python3.7/dist-packages/statsmodels/regression/linear_model.py:740: RuntimeWarning: divide by zero encountered in log\n",
            "  llf += 0.5 * np.sum(np.log(self.weights))\n"
          ]
        }
      ]
    },
    {
      "cell_type": "code",
      "source": [
        "wls_model = sm.WLS(cem_nsw_df.re78,cem_nsw_df.treat, weights=weights_cem)\n",
        "res_wls = wls_model.fit()\n",
        "print(res_wls.summary())"
      ],
      "metadata": {
        "colab": {
          "base_uri": "https://localhost:8080/"
        },
        "id": "PKXHUqnIMRwr",
        "outputId": "834f73e1-43b4-442f-ba46-8fb269860632"
      },
      "execution_count": 77,
      "outputs": [
        {
          "output_type": "stream",
          "name": "stdout",
          "text": [
            "                                 WLS Regression Results                                \n",
            "=======================================================================================\n",
            "Dep. Variable:                   re78   R-squared (uncentered):                   0.000\n",
            "Model:                            WLS   Adj. R-squared (uncentered):              0.000\n",
            "Method:                 Least Squares   F-statistic:                              1.945\n",
            "Date:                Wed, 05 Jan 2022   Prob (F-statistic):                       0.163\n",
            "Time:                        03:05:39   Log-Likelihood:                            -inf\n",
            "No. Observations:               16177   AIC:                                        inf\n",
            "Df Residuals:                   16176   BIC:                                        inf\n",
            "Df Model:                           1                                                  \n",
            "Covariance Type:            nonrobust                                                  \n",
            "==============================================================================\n",
            "                 coef    std err          t      P>|t|      [0.025      0.975]\n",
            "------------------------------------------------------------------------------\n",
            "treat       9385.9829   6729.548      1.395      0.163   -3804.676    2.26e+04\n",
            "==============================================================================\n",
            "Omnibus:                    33884.901   Durbin-Watson:                   1.509\n",
            "Prob(Omnibus):                  0.000   Jarque-Bera (JB):        204630330.908\n",
            "Skew:                          17.917   Prob(JB):                         0.00\n",
            "Kurtosis:                     552.821   Cond. No.                         1.00\n",
            "==============================================================================\n",
            "\n",
            "Warnings:\n",
            "[1] Standard Errors assume that the covariance matrix of the errors is correctly specified.\n"
          ]
        },
        {
          "output_type": "stream",
          "name": "stderr",
          "text": [
            "/usr/local/lib/python3.7/dist-packages/statsmodels/regression/linear_model.py:740: RuntimeWarning: divide by zero encountered in log\n",
            "  llf += 0.5 * np.sum(np.log(self.weights))\n"
          ]
        }
      ]
    },
    {
      "cell_type": "code",
      "source": [
        "# without schema, all the observations should have weight 1\n",
        "weights_cem = c.match()"
      ],
      "metadata": {
        "id": "74KIjfbTbJCW"
      },
      "execution_count": 80,
      "outputs": []
    },
    {
      "cell_type": "code",
      "source": [
        "weights_cem.describe() #more than observations"
      ],
      "metadata": {
        "colab": {
          "base_uri": "https://localhost:8080/"
        },
        "id": "JNA-rYwhbMCK",
        "outputId": "cff410bd-f9fe-48e2-a019-82ee6bac23e3"
      },
      "execution_count": 81,
      "outputs": [
        {
          "output_type": "execute_result",
          "data": {
            "text/plain": [
              "count    16199.000000\n",
              "mean         0.102114\n",
              "std          1.282078\n",
              "min          0.000000\n",
              "25%          0.000000\n",
              "50%          0.000000\n",
              "75%          0.000000\n",
              "max         86.451613\n",
              "Name: weights, dtype: float64"
            ]
          },
          "metadata": {},
          "execution_count": 81
        }
      ]
    },
    {
      "cell_type": "code",
      "source": [
        "## Coarsened exact matching\n",
        "## Following code from https://theeffectbook.net/ch-Matching.html?highlight=python&panelset=python-code&panelset1=python-code2\n",
        "cem_nsw_df = nsw_dw_cpscontrol.drop(columns=[\"data_id\",\"pscore\",\"d1\",\"d0\",\"y1\",\"y0\",\"ht\"]) \n",
        "cem_nsw_df[\"agesq\"]=cem_nsw_df.age*cem_nsw_df.age\n",
        "cem_nsw_df[\"agecube\"]=cem_nsw_df.age*cem_nsw_df.age*cem_nsw_df.age\n",
        "cem_nsw_df[\"edusq\"]=cem_nsw_df.educ*cem_nsw_df.educ\n",
        "cem_nsw_df[\"interaction1\"]=cem_nsw_df.educ*cem_nsw_df.re74"
      ],
      "metadata": {
        "id": "MgF51oDUQ6hm"
      },
      "execution_count": 117,
      "outputs": []
    },
    {
      "cell_type": "code",
      "source": [
        "cem_nsw_df['age_bins'] = pd.cut(cem_nsw_df['age'], binsage)"
      ],
      "metadata": {
        "id": "z_WVGe1PQ6eE"
      },
      "execution_count": 118,
      "outputs": []
    },
    {
      "cell_type": "code",
      "source": [
        "# Count how many treated and control observations\n",
        "# are in each bin\n",
        "treated = cem_nsw_df.loc[cem_nsw_df['treat'] == 1\n",
        "].groupby(['age_bins']).size().to_frame('treated')\n",
        "control = cem_nsw_df.loc[cem_nsw_df['treat'] == 0\n",
        "].groupby(['age_bins']).size().to_frame('control')"
      ],
      "metadata": {
        "id": "mbl8eNnrc_g2"
      },
      "execution_count": 119,
      "outputs": []
    },
    {
      "cell_type": "code",
      "source": [
        "print(treated)"
      ],
      "metadata": {
        "colab": {
          "base_uri": "https://localhost:8080/"
        },
        "id": "xrnU0mnZdagR",
        "outputId": "de2b92dd-0d43-4c2a-cff2-7bd22a3ac2c5"
      },
      "execution_count": 107,
      "outputs": [
        {
          "output_type": "stream",
          "name": "stdout",
          "text": [
            "          treated\n",
            "age_bins         \n",
            "(0, 10]         0\n",
            "(10, 20]       47\n",
            "(20, 30]      102\n",
            "(30, 40]       23\n",
            "(40, 60]       13\n"
          ]
        }
      ]
    },
    {
      "cell_type": "code",
      "source": [
        "print(control)"
      ],
      "metadata": {
        "colab": {
          "base_uri": "https://localhost:8080/"
        },
        "id": "fYRZ8p5vddwd",
        "outputId": "66c11ab1-0b4a-46b9-ea6a-088dbd72315e"
      },
      "execution_count": 108,
      "outputs": [
        {
          "output_type": "stream",
          "name": "stdout",
          "text": [
            "          control\n",
            "age_bins         \n",
            "(0, 10]         0\n",
            "(10, 20]     2128\n",
            "(20, 30]     5491\n",
            "(30, 40]     3874\n",
            "(40, 60]     4499\n"
          ]
        }
      ]
    },
    {
      "cell_type": "code",
      "source": [
        "# Merge those counts back in\n",
        "cem_nsw_df = cem_nsw_df.join(treated, on = ['age_bins'])\n",
        "cem_nsw_df = cem_nsw_df.join(control, on = ['age_bins'])"
      ],
      "metadata": {
        "id": "mIdxqPvRdoxe"
      },
      "execution_count": 120,
      "outputs": []
    },
    {
      "cell_type": "code",
      "source": [
        "# For control obs, weight depends on total number of treated and control obs that found matches\n",
        "totalcontrols = sum(cem_nsw_df.loc[cem_nsw_df['treat']==0]['treated'] > 0)\n",
        "totaltreated = sum(cem_nsw_df.loc[cem_nsw_df['treat']==1]['control'] > 0)\n",
        "print(totalcontrols)\n",
        "print(totaltreated)\n",
        "overall = totalcontrols/totaltreated\n",
        "print(overall)"
      ],
      "metadata": {
        "colab": {
          "base_uri": "https://localhost:8080/"
        },
        "id": "6BX5EpB3eb4s",
        "outputId": "7b76db8f-3160-4e4f-f4d6-9d189ff66ff3"
      },
      "execution_count": 122,
      "outputs": [
        {
          "output_type": "stream",
          "name": "stdout",
          "text": [
            "15992\n",
            "185\n",
            "86.44324324324324\n"
          ]
        }
      ]
    },
    {
      "cell_type": "code",
      "source": [
        "# Then, control weights are treated/control in the bin, relative to treated/control overall \n",
        "# Is that correct?\n",
        "cem_nsw_df['aux_cont_wg'] = (cem_nsw_df['treated']/cem_nsw_df['control'])/overall"
      ],
      "metadata": {
        "id": "ZiLjT57jPRBj"
      },
      "execution_count": 130,
      "outputs": []
    },
    {
      "cell_type": "code",
      "source": [
        "cem_nsw_df['weight_cem'] = cem_nsw_df['aux_cont_wg']\n",
        "cem_nsw_df.loc[(cem_nsw_df['treat'] == 1) & (cem_nsw_df['control'] > 0), 'weight_cem'] = 1 # For treated obs, weight is 1 if there are any control matches\n",
        "cem_nsw_df.loc[(cem_nsw_df['treat'] == 1) & (cem_nsw_df['control'] == 0), 'weight_cem'] = 0 # For treated obs without control matches the weight is 0"
      ],
      "metadata": {
        "id": "kb4ZgG3TRmuv"
      },
      "execution_count": 131,
      "outputs": []
    },
    {
      "cell_type": "code",
      "source": [
        "wls_model = sm.WLS(cem_nsw_df.re78,cem_nsw_df.treat, weights=cem_nsw_df.weight_cem) \n",
        "res_wls = wls_model.fit()\n",
        "print(res_wls.summary())"
      ],
      "metadata": {
        "colab": {
          "base_uri": "https://localhost:8080/"
        },
        "id": "O0RD2K2uTDAL",
        "outputId": "1f1b4b44-cbfe-47de-9561-16b8cb4bd4d3"
      },
      "execution_count": 132,
      "outputs": [
        {
          "output_type": "stream",
          "name": "stdout",
          "text": [
            "                                 WLS Regression Results                                \n",
            "=======================================================================================\n",
            "Dep. Variable:                   re78   R-squared (uncentered):                   0.002\n",
            "Model:                            WLS   Adj. R-squared (uncentered):              0.002\n",
            "Method:                 Least Squares   F-statistic:                              27.24\n",
            "Date:                Wed, 05 Jan 2022   Prob (F-statistic):                    1.82e-07\n",
            "Time:                        03:36:59   Log-Likelihood:                     -1.8252e+05\n",
            "No. Observations:               16177   AIC:                                  3.650e+05\n",
            "Df Residuals:                   16176   BIC:                                  3.651e+05\n",
            "Df Model:                           1                                                  \n",
            "Covariance Type:            nonrobust                                                  \n",
            "==============================================================================\n",
            "                 coef    std err          t      P>|t|      [0.025      0.975]\n",
            "------------------------------------------------------------------------------\n",
            "treat       6349.1435   1216.570      5.219      0.000    3964.532    8733.755\n",
            "==============================================================================\n",
            "Omnibus:                     1172.884   Durbin-Watson:                   0.684\n",
            "Prob(Omnibus):                  0.000   Jarque-Bera (JB):              770.542\n",
            "Skew:                           0.416   Prob(JB):                    4.77e-168\n",
            "Kurtosis:                       2.329   Cond. No.                         1.00\n",
            "==============================================================================\n",
            "\n",
            "Warnings:\n",
            "[1] Standard Errors assume that the covariance matrix of the errors is correctly specified.\n"
          ]
        }
      ]
    },
    {
      "cell_type": "code",
      "source": [
        "# Try this with own coarsening of all the covariates?"
      ],
      "metadata": {
        "id": "PDGzSoCmTq4j"
      },
      "execution_count": null,
      "outputs": []
    }
  ]
}