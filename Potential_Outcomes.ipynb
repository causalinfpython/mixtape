{
  "nbformat": 4,
  "nbformat_minor": 0,
  "metadata": {
    "kernelspec": {
      "name": "python3",
      "display_name": "Python 3.8.5 64-bit",
      "metadata": {
        "interpreter": {
          "hash": "aee8b7b246df8f9039afb4144a1f6fd8d2ca17a180786b69acc140d282b71a49"
        }
      }
    },
    "language_info": {
      "codemirror_mode": {
        "name": "ipython",
        "version": 3
      },
      "file_extension": ".py",
      "mimetype": "text/x-python",
      "name": "python",
      "nbconvert_exporter": "python",
      "pygments_lexer": "ipython3",
      "version": "3.8.5-final"
    },
    "colab": {
      "name": "Potential_Outcomes.ipynb",
      "provenance": []
    }
  },
  "cells": [
    {
      "cell_type": "markdown",
      "metadata": {
        "id": "4bP7S8oXymFn"
      },
      "source": [
        "## Welcome\n",
        "\n",
        "This is material for the **Potential Outcomes** chapter in Scott Cunningham's book, [Causal Inference: The Mixtape.](https://mixtape.scunning.com/)\n"
      ]
    },
    {
      "cell_type": "code",
      "metadata": {
        "id": "B3TFCJPyymFq"
      },
      "source": [
        "import numpy as np\n",
        "import pandas as pd\n",
        "import statsmodels.api as sm\n",
        "import statsmodels.formula.api as smf\n",
        "from itertools import combinations\n",
        "import plotnine as p"
      ],
      "execution_count": null,
      "outputs": []
    },
    {
      "cell_type": "code",
      "metadata": {
        "id": "pqCmBZccymFr"
      },
      "source": [
        "# read data\n",
        "import ssl\n",
        "ssl._create_default_https_context = ssl._create_unverified_context\n",
        "\n",
        "def read_data(file):\n",
        "    return pd.read_stata(\"https://raw.github.com/scunning1975/mixtape/master/\" + file)"
      ],
      "execution_count": null,
      "outputs": []
    },
    {
      "cell_type": "code",
      "metadata": {
        "id": "ld5fNFyHymFs"
      },
      "source": [
        "yule = read_data('yule.dta')\n",
        "\n",
        "res = sm.OLS.from_formula('paup ~ outrelief + old + pop', yule).fit()\n",
        "res.summary()"
      ],
      "execution_count": null,
      "outputs": []
    },
    {
      "cell_type": "markdown",
      "metadata": {
        "id": "94XqQ0pbymFs"
      },
      "source": [
        "#### Questions\n",
        "\n",
        "- How do you interpret the coefficient on `outrelief` given it's a percentage change regressed onto a percentage?\n",
        "- Draw a DAG representing what must be true in order for Yule's estimate of `outrelief` on pauper growth rates to be causal?  \n",
        "- Yule concluded that public assistance (`outrelief`) increased pauper growth rates. How convinced are you that all backdoor paths between pauperism and out-relief are blocked once you control for two covariates in a cross-sectional database for all of England? Could there be unobserved determinants of both poverty and public assistance?\n",
        "- If public assistance causes pauper growth rates, but pauper growth rates also causes public assistance, then why won't Yule's regression capture a causal effect of `outrelief` on pauper growth rates?  Explain the concept of reverse causality with Yule's data."
      ]
    },
    {
      "cell_type": "code",
      "metadata": {
        "id": "-_5QUlkjymFt"
      },
      "source": [
        "## Independence Assumption"
      ],
      "execution_count": null,
      "outputs": []
    },
    {
      "cell_type": "code",
      "metadata": {
        "id": "jayVfnGJymFt"
      },
      "source": [
        "def gap():\n",
        "    sdo = pd.DataFrame({\n",
        "        'y1': (7, 5, 5, 7, 4, 10, 1, 5, 3, 9),\n",
        "        'y0' : (1, 6, 1, 8, 2, 1, 10, 6, 7, 8),\n",
        "        'random' : np.random.normal(size=10)})\n",
        "    sdo.sort_values('random', inplace=True)\n",
        "    sdo['d'] = [1,1,1,1,1,0,0,0,0,0]\n",
        "    sdo['y'] = sdo['d']*sdo['y1'] + (1-sdo['d'])*sdo['y0']\n",
        "\n",
        "    sdo = np.mean(sdo.y.values[0:5] - sdo.y.values[5:10])\n",
        "\n",
        "    return sdo\n",
        "\n",
        "\n",
        "sim = [gap() for x in range(1000)]\n",
        "np.mean(sim)"
      ],
      "execution_count": null,
      "outputs": []
    },
    {
      "cell_type": "markdown",
      "metadata": {
        "id": "nvHaETErymFu"
      },
      "source": [
        "#### Questions\n",
        "- The requirement that treatment be independent of potential outcomes states that a choice made by a person must be independent of what they expect to gain or lose from the choice.  Give an example where this is likely true?  What does independence imply about human decision-making?\n",
        "- All of the behavioral sciences, including economics, suggest that independence is unlikely to hold outside of an experiment. What is so special about an experiment where independence will hold?  What is so special about behavior outside an experiment where it is unlikely to hold?\n",
        "- What implication does the decision rule of utility maximization from economics have for our ability to appeal to treatment being distributed independent of potential outcomes?\n",
        "\n",
        "\n",
        "\n",
        "\n",
        "\n",
        "## Fisher Randomization"
      ]
    },
    {
      "cell_type": "code",
      "metadata": {
        "id": "XOeAj7dBymFv"
      },
      "source": [
        "correct = pd.DataFrame({'cup': np.arange(1,9), \n",
        "                        'guess':np.concatenate((range(1,5), np.repeat(0, 4)))})\n",
        "\n",
        "combo = pd.DataFrame(np.array(list(combinations(correct['cup'], 4))), \n",
        "                     columns=['cup_1', 'cup_2', 'cup_3', 'cup_4'])\n",
        "combo['permutation'] = np.arange(70)\n",
        "combo['key'] = 1\n",
        "correct['key'] = 1\n",
        "combo = pd.merge(correct, combo, on='key')\n",
        "combo.drop('key', axis=1, inplace=True)\n",
        "combo['correct'] = 0\n",
        "combo.loc[(combo.cup_1==1) & \n",
        "          (combo.cup_2==2) & \n",
        "          (combo.cup_3==3) & \n",
        "          (combo.cup_4==4), 'correct'] = 1\n",
        "combo = combo.sort_values(['permutation', 'cup'])\n",
        "\n",
        "p_value = combo.correct.sum()/combo.shape[0]\n",
        "p_value"
      ],
      "execution_count": null,
      "outputs": []
    },
    {
      "cell_type": "markdown",
      "metadata": {
        "id": "ydLwmxD6ymFw"
      },
      "source": [
        "#### Questions\n",
        "\n",
        "- Using the above simulation, what is the probability that Dr. Bristol selected the correct four cups completely by chance?\n",
        "\n",
        "## Randomization Inference\n",
        "\n",
        "### Fisher Sharp Null"
      ]
    },
    {
      "cell_type": "code",
      "metadata": {
        "id": "dnVDe2ilymFw"
      },
      "source": [
        "ri = read_data('ri.dta')\n",
        "ri['id'] = range(1,9)\n",
        "treated = range(1,5)\n",
        "\n",
        "combo = pd.DataFrame(np.array(list(combinations(ri['id'], 4))), \n",
        "                     columns=['treated1', 'treated2', 'treated3', 'treated4'])\n",
        "combo['permutation'] = np.arange(1,71)\n",
        "\n",
        "combo['key'] = 1\n",
        "ri['key'] = 1\n",
        "combo = pd.merge(ri, combo, on='key')\n",
        "combo.drop('key', axis=1, inplace=True)\n",
        "combo = combo.sort_values(['permutation', 'name'])\n",
        "\n",
        "combo['d'] = 0\n",
        "combo.loc[(combo.treated1==combo.id) | \n",
        "          (combo.treated2==combo.id) | \n",
        "          (combo.treated3==combo.id) | \n",
        "          (combo.treated4==combo.id), 'd'] = 1\n",
        "\n",
        "te1 = combo[combo.d==1].groupby('permutation')['y'].mean()\n",
        "te0 = combo[combo.d==0].groupby('permutation')['y'].mean()\n",
        "\n",
        "n = pd.merge(te1, te0, how='inner', on=\"permutation\").shape[0]\n",
        "\n",
        "p_value = pd.merge(te1, te0, how='inner', on=\"permutation\")\n",
        "p_value.columns = ['te1', 'te0']\n",
        "p_value = p_value.reset_index()\n",
        "p_value['ate'] = p_value['te1'] - p_value['te0']\n",
        "p_value = p_value.sort_values(by='ate', ascending=False)\n",
        "p_value['rank'] = range(1, p_value.shape[0]+1)\n",
        "p_value = p_value[p_value['permutation'] == 1]\n",
        "p_value['rank'] / n"
      ],
      "execution_count": null,
      "outputs": []
    },
    {
      "cell_type": "markdown",
      "metadata": {
        "id": "oQCw1tgUymFx"
      },
      "source": [
        "\n",
        "#### Questions\n",
        "\n",
        "- Can we reject the null in the placebo distribution?\n",
        "\n",
        "\n",
        "\n",
        "### KS Test\n"
      ]
    },
    {
      "cell_type": "code",
      "metadata": {
        "id": "SY-_x-51ymFx"
      },
      "source": [
        "tb = pd.DataFrame({\n",
        "    'd' : np.concatenate((np.repeat(0, 20), np.repeat(1, 20))),\n",
        "    'y' : (\n",
        "        0.22, -0.87, -2.39, -1.79, 0.37, -1.54,\n",
        "        1.28, -0.31, -0.74, 1.72,\n",
        "        0.38, -0.17, -0.62, -1.10, 0.30,\n",
        "        0.15, 2.30, 0.19, -0.50, -0.9,\n",
        "        -5.13, -2.19, 2.43, -3.83, 0.5,\n",
        "        -3.25, 4.32, 1.63, 5.18, -0.43,\n",
        "        7.11, 4.87, -3.10, -5.81, 3.76,\n",
        "        6.31, 2.58, 0.07, 5.76, 3.50\n",
        "    )})\n",
        "\n",
        "p.ggplot() +\\\n",
        "    p.geom_density(tb, p.aes(x='y', color='factor(d)')) +\\\n",
        "    p.xlim(-7, 8) +\\\n",
        "    p.labs(title = \"Kolmogorov-Smirnov Test\") +\\\n",
        "    p.scale_color_discrete(labels = (\"Control\", \"Treatment\"))"
      ],
      "execution_count": null,
      "outputs": []
    },
    {
      "cell_type": "markdown",
      "metadata": {
        "id": "qQULlS5RymFy"
      },
      "source": [
        "## Approximate $p$-values"
      ]
    },
    {
      "cell_type": "code",
      "metadata": {
        "id": "A4-fPwfwymFy"
      },
      "source": [
        "hiv = read_data(\"thornton_hiv.dta\")\n",
        "# creating the permutations\n",
        "\n",
        "def permuteHIV(df, random = True):\n",
        "    tb = df.copy()\n",
        "    first_half = np.ceil(tb.shape[0] / 2)\n",
        "    second_half = tb.shape[0] - first_half\n",
        "    if random:\n",
        "        tb = tb.sample(frac=1)\n",
        "        tb['any'] = np.concatenate((np.repeat(1, first_half), np.repeat(0, second_half)))\n",
        "    \n",
        "    te1 = tb[tb['any']==1]['got'].mean()\n",
        "    te0 = tb[tb['any']==0]['got'].mean()\n",
        "    \n",
        "    \n",
        "    ate = te1 - te0\n",
        "    return ate\n",
        "\n",
        "print(permuteHIV(hiv, random = False))\n",
        "iterations = 1000\n",
        "permutation = pd.DataFrame({\n",
        "    'iteration': range(iterations),\n",
        "    'ate' : [permuteHIV(hiv, random=False), \n",
        "                            *[permuteHIV(hiv, random=True) for x in range(iterations-1)]]}\n",
        ")\n",
        "# calculating the p-value\n",
        "\n",
        "permutation = permutation.sort_values('ate', ascending=False)\n",
        "permutation['rank'] = np.arange(1, iterations+1)\n",
        "p_value = permutation[permutation.iteration==0]['rank'].astype(float) / iterations\n",
        "print(p_value)"
      ],
      "execution_count": null,
      "outputs": []
    },
    {
      "cell_type": "markdown",
      "metadata": {
        "id": "kp_A4KQLymFz"
      },
      "source": [
        "#### Questions \n",
        "\n",
        "- How does the randomization inference test of no treatment effect differ from a null of no average treatment effect?\n",
        "- How likely is it that Thornton's results were a result of random chance? "
      ]
    },
    {
      "cell_type": "code",
      "metadata": {
        "id": "N7I6LWw4ymFz"
      },
      "source": [
        ""
      ],
      "execution_count": null,
      "outputs": []
    },
    {
      "cell_type": "code",
      "metadata": {
        "id": "2YtbPLGAymFz"
      },
      "source": [
        ""
      ],
      "execution_count": null,
      "outputs": []
    }
  ]
}