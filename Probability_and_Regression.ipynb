{
  "nbformat": 4,
  "nbformat_minor": 0,
  "metadata": {
    "kernelspec": {
      "name": "python3",
      "display_name": "Python 3.8.5 64-bit",
      "metadata": {
        "interpreter": {
          "hash": "aee8b7b246df8f9039afb4144a1f6fd8d2ca17a180786b69acc140d282b71a49"
        }
      }
    },
    "language_info": {
      "codemirror_mode": {
        "name": "ipython",
        "version": 3
      },
      "file_extension": ".py",
      "mimetype": "text/x-python",
      "name": "python",
      "nbconvert_exporter": "python",
      "pygments_lexer": "ipython3",
      "version": "3.8.5-final"
    },
    "colab": {
      "name": "Probability_and_Regression.ipynb",
      "provenance": []
    }
  },
  "cells": [
    {
      "cell_type": "markdown",
      "metadata": {
        "id": "DmDkQ2OSl_Ir"
      },
      "source": [
        "## Welcome\n",
        "\n",
        "This is material for the **Probability and Regression** chapter in Scott Cunningham's book, [Causal Inference: The Mixtape.](https://mixtape.scunning.com/)"
      ]
    },
    {
      "cell_type": "code",
      "metadata": {
        "id": "YkOID4bQl_Iv"
      },
      "source": [
        "import numpy as np\n",
        "import pandas as pd\n",
        "import statsmodels.api as sm\n",
        "import statsmodels.formula.api as smf\n",
        "\n",
        "import plotnine as p"
      ],
      "execution_count": null,
      "outputs": []
    },
    {
      "cell_type": "code",
      "metadata": {
        "id": "5w1PUDQul_Iw"
      },
      "source": [
        "import ssl\n",
        "ssl._create_default_https_context = ssl._create_unverified_context\n",
        "\n",
        "# read data\n",
        "def read_data(file):\n",
        "    return pd.read_csv(\"https://raw.github.com/scunning1975/mixtape/master/\" + file)"
      ],
      "execution_count": null,
      "outputs": []
    },
    {
      "cell_type": "markdown",
      "metadata": {
        "id": "yVmBsnF-l_Iw"
      },
      "source": [
        "## OLS"
      ]
    },
    {
      "cell_type": "code",
      "metadata": {
        "id": "NJk9ufjnl_Iw"
      },
      "source": [
        "np.random.seed(1)\n",
        "\n",
        "tb = pd.DataFrame({\n",
        "    'x': np.random.normal(size=10000),\n",
        "    'u': np.random.normal(size=10000)})\n",
        "tb['y'] = 5.5*tb['x'].values + 12*tb['u'].values"
      ],
      "execution_count": null,
      "outputs": []
    },
    {
      "cell_type": "code",
      "metadata": {
        "id": "gxmubVBRl_Ix"
      },
      "source": [
        "reg_tb = sm.OLS.from_formula('y ~ x', data=tb).fit()\n",
        "reg_tb.summary()"
      ],
      "execution_count": null,
      "outputs": []
    },
    {
      "cell_type": "code",
      "metadata": {
        "id": "L5KHZrlwl_Ix"
      },
      "source": [
        "tb['yhat1'] = reg_tb.predict(tb)\n",
        "tb['yhat2'] = 0.1114 + 5.6887*tb['x']\n",
        "tb['uhat1'] = reg_tb.resid\n",
        "tb['uhat2'] = tb['y'] - tb['yhat2']"
      ],
      "execution_count": null,
      "outputs": []
    },
    {
      "cell_type": "code",
      "metadata": {
        "id": "vYZq4TDkl_Ix"
      },
      "source": [
        "tb.describe()"
      ],
      "execution_count": null,
      "outputs": []
    },
    {
      "cell_type": "code",
      "metadata": {
        "id": "6eTlkgzRl_Iy"
      },
      "source": [
        "p.ggplot(tb, p.aes(x='x', y='y')) +\\\n",
        "    p.ggtitle(\"OLS Regression Line\") +\\\n",
        "    p.geom_point(size = 0.05, color = \"black\", alpha = 0.5) +\\\n",
        "    p.geom_smooth(p.aes(x='x', y='y'), method = \"lm\", color = \"black\") +\\\n",
        "    p.annotate(\"text\", x = -1.5, y = 30, color = \"red\", \n",
        "             label = \"Intercept = {}\".format(-0.0732608)) +\\\n",
        "    p.annotate(\"text\", x = 1.5, y = -30, color = \"blue\", \n",
        "             label = \"Slope = {}\".format(5.685033))"
      ],
      "execution_count": null,
      "outputs": []
    },
    {
      "cell_type": "markdown",
      "metadata": {
        "id": "nS-Leknal_Iy"
      },
      "source": [
        "#### Questions:\n",
        "\n",
        "-   What is the predicted value of $y$ when $x = 0$?\n",
        "-   How much do we estimate $y$ increases by when $x$ increases by one unit?\n",
        "-   Assume we y was the natural log of some variable, and x was the natural log of some variable.  How do we interpret the coefficient on $x$ if it is a log-log regression?"
      ]
    },
    {
      "cell_type": "code",
      "metadata": {
        "id": "HBOMVLmTl_Iz"
      },
      "source": [
        "tb = pd.DataFrame({\n",
        "    'x': 9*np.random.normal(size=10),\n",
        "    'u': 36*np.random.normal(size=10)})\n",
        "tb['y'] = 3*tb['x'].values + 2*tb['u'].values\n",
        "\n",
        "reg_tb = sm.OLS.from_formula('y ~ x', data=tb).fit()\n",
        "\n",
        "tb['yhat1'] = reg_tb.predict(tb)\n",
        "tb['uhat1'] = reg_tb.resid\n",
        "\n",
        "tb.describe()"
      ],
      "execution_count": null,
      "outputs": []
    },
    {
      "cell_type": "markdown",
      "metadata": {
        "id": "865kCjpZl_Iz"
      },
      "source": [
        "#### Questions\n",
        "\n",
        "-   What is the average of the residuals $\\hat{u}$ from our regression?"
      ]
    },
    {
      "cell_type": "code",
      "metadata": {
        "id": "pqOZxNP7l_Iz"
      },
      "source": [
        "coefs = np.zeros(1000)\n",
        "for i in range(1000):\n",
        "    tb = pd.DataFrame({\n",
        "    'x': 9*np.random.normal(size=10000),\n",
        "    'u': 36*np.random.normal(size=10000)})\n",
        "    tb['y'] = 3 + 2*tb['x'].values + tb['u'].values\n",
        "\n",
        "    reg_tb = sm.OLS.from_formula('y ~ x', data=tb).fit()\n",
        "\n",
        "    coefs[i] = reg_tb.params['x']"
      ],
      "execution_count": null,
      "outputs": []
    },
    {
      "cell_type": "code",
      "metadata": {
        "id": "vuUuhB_Bl_I0"
      },
      "source": [
        "p.ggplot() +\\\n",
        "  p.geom_histogram(p.aes(x=coefs), binwidth = 0.01)"
      ],
      "execution_count": null,
      "outputs": []
    },
    {
      "cell_type": "markdown",
      "metadata": {
        "id": "j7dFDUfMl_I0"
      },
      "source": [
        "#### Questions\n",
        "\n",
        "-   Explain the concept of unbiasedness in the context of this simulation?  \n",
        "-   On average, do we think the estimate is close to the true value of $\\beta_1 = 2$?"
      ]
    },
    {
      "cell_type": "code",
      "metadata": {
        "id": "t6Vg1rmPl_I0"
      },
      "source": [
        "auto = pd.read_stata('https://raw.github.com/scunning1975/mixtape/master/auto.dta')\n",
        "auto['length'] = auto['length'] - auto['length'].mean()\n",
        "\n",
        "lm1 = sm.OLS.from_formula('price ~ length', data=auto).fit()\n",
        "lm2 = sm.OLS.from_formula('price ~ length + weight + headroom + mpg', data=auto).fit()\n",
        "\n",
        "\n",
        "coef_lm1 = lm1.params\n",
        "coef_lm2 = lm2.params\n",
        "resid_lm2 = lm2.resid\n",
        "\n",
        "auto['y_single'] = coef_lm1[0] + coef_lm1[1]*auto['length']\n",
        "auto['y_multi'] = coef_lm1[0] + coef_lm2[1]*auto['length']\n",
        "\n",
        "p.ggplot(auto) +\\\n",
        "  p.geom_point(p.aes(x = 'length', y = 'price')) +\\\n",
        "  p.geom_smooth(p.aes(x = 'length', y = 'y_multi'), color = \"blue\") +\\\n",
        "  p.geom_smooth(p.aes(x = 'length', y = 'y_single'), color=\"red\")"
      ],
      "execution_count": null,
      "outputs": []
    },
    {
      "cell_type": "markdown",
      "metadata": {
        "id": "XScGvIm8l_I1"
      },
      "source": [
        "#### Questions\n",
        "\n",
        "-   What happened to the coefficient on length after controlling for weight, headroom, and mpg in the regression?\n",
        "\n",
        "## Clustering Standard Errors\n",
        "\n",
        "### Cluster robust standard errors\n",
        "\n",
        "People will try to scare you by challenging how you constructed your standard errors. Heteroskedastic errors, though, aren't the only thing you should be worried about when it comes to inference. Some phenomena do not affect observations individually, but they do affect groups of observations that involve individuals. And then they affect those individuals within the group in a common way. Say you want to estimate the effect of class size on student achievement, but you know that there exist unobservable things (like the teacher) that affect all the students equally. If we can commit to independence of these unobservables across classes, but individual student unobservables are correlated within a class, then we have a situation in which we need to cluster the standard errors. Before we dive into an example, I'd like to start with a simulation to illustrate the problem.\n",
        "\n",
        "As a baseline for this simulation, let's begin by simulating nonclustered data and analyze least squares estimates of that nonclustered data. This will help firm up our understanding of the problems that occur with least squares when data is clustered.\n",
        "\n",
        "First, I will create a function to generate our Monte Carlo simulation."
      ]
    },
    {
      "cell_type": "code",
      "metadata": {
        "id": "tQJJ7nc0l_I1"
      },
      "source": [
        "def gen_cluster(param = (.1, .5), n = 1000, n_cluster = 50, rho = .5):\n",
        "    # Function to generate clustered data\n",
        "\n",
        "    # individual level\n",
        "    Sigma_i = np.array((1, 0, 0, 1 - rho)).reshape(2,2)\n",
        "\n",
        "    values_i = np.random.multivariate_normal(np.zeros(2), Sigma_i, size = n)\n",
        "\n",
        "    # cluster level\n",
        "    cluster_name = np.repeat(np.arange(1, n_cluster+1), repeats = n / n_cluster)\n",
        "    Sigma_cl = np.array((1, 0, 0, rho)).reshape(2,2)\n",
        "    values_cl = np.random.multivariate_normal(np.zeros(2),Sigma_cl, size = n_cluster)\n",
        "\n",
        "    # predictor var consists of individual- and cluster-level components\n",
        "    x = values_i[: , 0] + np.repeat(values_cl[: , 0], repeats = n / n_cluster)\n",
        "\n",
        "    # error consists of individual- and cluster-level components\n",
        "    error = values_i[: , 1] + np.repeat(values_cl[: , 1], repeats = n / n_cluster)\n",
        "\n",
        "    # data generating process\n",
        "    y = param[0] + param[1]*x + error\n",
        "    \n",
        "    df = pd.DataFrame({'x':x, 'y':y, 'cluster': cluster_name})\n",
        "    return df\n"
      ],
      "execution_count": null,
      "outputs": []
    },
    {
      "cell_type": "code",
      "metadata": {
        "id": "9wizuBfrl_I2"
      },
      "source": [
        "def cluster_sim(param = (.1, .5), n = 1000, n_cluster = 50,\n",
        "                        rho = .5, cluster_robust = False):\n",
        "\n",
        "    df = gen_cluster(param = param, n = n , n_cluster = n_cluster, rho = rho)\n",
        "\n",
        "    if not cluster_robust:\n",
        "        fit = sm.OLS.from_formula('y ~ x', data = df).fit()\n",
        "    else: # cluster-robust SE\n",
        "        fit = sm.OLS.from_formula('y ~ x', data = df).fit(cov_type='cluster', cov_kwds={'groups': df['cluster']})\n",
        "    \n",
        "    b1 = fit.params[1]\n",
        "    Sigma = fit.cov_params()   \n",
        "    \n",
        "    se = np.sqrt(np.diag(Sigma)[1])\n",
        "    ci95 = se*1.96\n",
        "    b1_ci95 = (b1-ci95, b1+ci95)\n",
        "\n",
        "\n",
        "    return (b1, se, *b1_ci95)\n"
      ],
      "execution_count": null,
      "outputs": []
    },
    {
      "cell_type": "code",
      "metadata": {
        "id": "1iKfszDGl_I2"
      },
      "source": [
        "n_sims = 1000\n",
        "param = (.1, .5)\n",
        "n = 1000\n",
        "n_cluster = 50\n",
        "rho = .5\n",
        "cluster_robust = True"
      ],
      "execution_count": null,
      "outputs": []
    },
    {
      "cell_type": "code",
      "metadata": {
        "id": "3YzS0wyUl_I2"
      },
      "source": [
        "def run_cluster_sim(n_sims = 1000, param = (.1, .5), n = 1000,\n",
        "                            n_cluster = 50, rho = .5, cluster_robust = False):\n",
        "\n",
        "    res = [cluster_sim(param = param, n = n, rho = rho,\n",
        "                                      n_cluster = n_cluster,\n",
        "                                      cluster_robust = cluster_robust) for x in range(n_sims)]\n",
        "    df = pd.DataFrame(res)\n",
        "    df.columns = ('b1', 'se_b1', 'ci95_lower', 'ci95_upper')\n",
        "    df['param_caught'] = (df['ci95_lower'] <= param[1]) & (param[1] <= df['ci95_upper'])\n",
        "    df['id'] = df.index\n",
        "    return df\n"
      ],
      "execution_count": null,
      "outputs": []
    },
    {
      "cell_type": "code",
      "metadata": {
        "id": "yGdSiZuTl_I2"
      },
      "source": [
        "# Simulation no clustered SE\n",
        "sim_params = [.4, 0] # beta1 = 0: no effect of x on y\n",
        "sim_nocluster = run_cluster_sim(n_sims=1000, param = sim_params, rho=0, cluster_robust = False)"
      ],
      "execution_count": null,
      "outputs": []
    },
    {
      "cell_type": "code",
      "metadata": {
        "id": "mV7KMJbwl_I2"
      },
      "source": [
        "p.ggplot(sim_nocluster, p.aes('b1')) +\\\n",
        "  p.geom_histogram(color = 'black') +\\\n",
        "  p.geom_vline(xintercept = sim_params[1], color = 'red')"
      ],
      "execution_count": null,
      "outputs": []
    },
    {
      "cell_type": "code",
      "metadata": {
        "id": "pXOBEfZJl_I2"
      },
      "source": [
        "sim_nocluster.sample(100).sort_values('b1')"
      ],
      "execution_count": null,
      "outputs": []
    },
    {
      "cell_type": "code",
      "metadata": {
        "id": "C9jOCRwQl_I3"
      },
      "source": [
        "p.ggplot(sim_nocluster.sample(100).sort_values('b1'),\n",
        "                         p.aes(x = 'factor(id)', y = 'b1', \n",
        "                             ymin = 'ci95_lower', ymax = 'ci95_upper',\n",
        "                             color = 'param_caught')) +\\\n",
        "  p.geom_hline(yintercept = sim_params[1], linetype = 'dashed') +\\\n",
        "  p.geom_pointrange() +\\\n",
        "  p.labs(x = 'sim ID', y = 'b1', title = 'Randomly Chosen 100 95% CIs') +\\\n",
        "  p.scale_color_discrete(name = 'True param value', labels = ('missed', 'hit')) +\\\n",
        "  p.coord_flip()"
      ],
      "execution_count": null,
      "outputs": []
    },
    {
      "cell_type": "code",
      "metadata": {
        "id": "q5-Utfx8l_I3"
      },
      "source": [
        "1 - sum(sim_nocluster.param_caught)/sim_nocluster.shape[0]"
      ],
      "execution_count": null,
      "outputs": []
    },
    {
      "cell_type": "markdown",
      "metadata": {
        "id": "nAUJgCbgl_I3"
      },
      "source": [
        "#### Questions:\n",
        "\n",
        "-   What point does the least squares estimate appear to be centered on?\n",
        "-   Setting the significance level at 5%, we should incorrectly reject the null that $\\beta_1=0$ about 5% of the time in our simulations. About what percent of the time does the 95% confidence intervals contain the true value of $\\beta_1 = 0$?\n",
        "\n",
        "### Case 2: Clustered Data\n",
        "\n",
        "Now let's resimulate our data with observations that are no longer independent draws in a given cluster of observations, but the true value of $\\beta_1$ still is 0."
      ]
    },
    {
      "cell_type": "code",
      "metadata": {
        "id": "yRAMNkbCl_I3"
      },
      "source": [
        "# Simulation clustered SE\n",
        "sim_params = [.4, 0] # beta1 = 0: no effect of x on y\n",
        "sim_nocluster = run_cluster_sim(n_sims=1000, param = sim_params, cluster_robust = False)"
      ],
      "execution_count": null,
      "outputs": []
    },
    {
      "cell_type": "code",
      "metadata": {
        "id": "neQP1V0gl_I3"
      },
      "source": [
        ""
      ],
      "execution_count": null,
      "outputs": []
    },
    {
      "cell_type": "code",
      "metadata": {
        "id": "VTq015tcl_I3"
      },
      "source": [
        "p.ggplot(sim_nocluster, p.aes('b1')) +\\\n",
        "  p.geom_histogram(color = 'black') +\\\n",
        "  p.geom_vline(xintercept = sim_params[1], color = 'red')"
      ],
      "execution_count": null,
      "outputs": []
    },
    {
      "cell_type": "code",
      "metadata": {
        "id": "Q4KbVIMzl_I3"
      },
      "source": [
        "p.ggplot(sim_nocluster.sample(100).sort_values('b1'),\n",
        "                         p.aes(x = 'factor(id)', y = 'b1', \n",
        "                             ymin = 'ci95_lower', ymax = 'ci95_upper',\n",
        "                             color = 'param_caught')) +\\\n",
        "  p.geom_hline(yintercept = sim_params[1], linetype = 'dashed') +\\\n",
        "  p.geom_pointrange() +\\\n",
        "  p.labs(x = 'sim ID', y = 'b1', title = 'Randomly Chosen 100 95% CIs') +\\\n",
        "  p.scale_color_discrete(name = 'True param value', labels = ('missed', 'hit')) +\\\n",
        "  p.coord_flip()"
      ],
      "execution_count": null,
      "outputs": []
    },
    {
      "cell_type": "code",
      "metadata": {
        "id": "YPUPbS37l_I3"
      },
      "source": [
        "1 - sum(sim_nocluster.param_caught)/sim_nocluster.shape[0]"
      ],
      "execution_count": null,
      "outputs": []
    },
    {
      "cell_type": "markdown",
      "metadata": {
        "id": "meBO1vCtl_I3"
      },
      "source": [
        "#### Questions:\n",
        "\n",
        "-   When the errors are clustered, does the distribution of $\\hat{\\beta}_1$ estimates get wider or narrower?\n",
        "-   When the errors are clustered, do we incorrectly reject the null more or less frequently?"
      ]
    }
  ]
}