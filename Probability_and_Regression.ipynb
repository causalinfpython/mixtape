{
 "cells": [
  {
   "cell_type": "markdown",
   "metadata": {
    "id": "DmDkQ2OSl_Ir"
   },
   "source": [
    "## Welcome\n",
    "\n",
    "This is material for the **Probability and Regression** chapter in Scott Cunningham's book, [Causal Inference: The Mixtape.](https://mixtape.scunning.com/)"
   ]
  },
  {
   "cell_type": "code",
   "execution_count": 1,
   "metadata": {
    "id": "YkOID4bQl_Iv"
   },
   "outputs": [],
   "source": [
    "import numpy as np\n",
    "import pandas as pd\n",
    "import statsmodels.api as sm\n",
    "import statsmodels.formula.api as smf\n",
    "import matplotlib.pyplot as plt"
   ]
  },
  {
   "cell_type": "code",
   "execution_count": 20,
   "metadata": {
    "id": "5w1PUDQul_Iw"
   },
   "outputs": [],
   "source": [
    "import ssl\n",
    "ssl._create_default_https_context = ssl._create_unverified_context\n",
    "\n",
    "plt.style.use('ggplot')\n",
    "\n",
    "# Read data\n",
    "def read_data(file):\n",
    "    return pd.read_csv(\"https://raw.github.com/scunning1975/mixtape/master/\" + file)"
   ]
  },
  {
   "cell_type": "markdown",
   "metadata": {
    "id": "yVmBsnF-l_Iw"
   },
   "source": [
    "## OLS"
   ]
  },
  {
   "cell_type": "code",
   "execution_count": 3,
   "metadata": {
    "id": "NJk9ufjnl_Iw"
   },
   "outputs": [],
   "source": [
    "# Set seed\n",
    "np.random.seed(1)\n",
    "\n",
    "# Set observations\n",
    "obs = 10000\n",
    "\n",
    "# Construct dataset\n",
    "tb = pd.DataFrame({\n",
    "    'x': np.random.normal(size = obs),\n",
    "    'u': np.random.normal(size = obs)})\n",
    "\n",
    "tb['y'] = 5.5*tb['x'].values + 12*tb['u'].values"
   ]
  },
  {
   "cell_type": "code",
   "execution_count": 6,
   "metadata": {
    "id": "gxmubVBRl_Ix"
   },
   "outputs": [
    {
     "name": "stdout",
     "output_type": "stream",
     "text": [
      "Intercept    0.111381\n",
      "x            5.688663\n",
      "dtype: float64\n"
     ]
    },
    {
     "data": {
      "text/html": [
       "<div>\n",
       "<style scoped>\n",
       "    .dataframe tbody tr th:only-of-type {\n",
       "        vertical-align: middle;\n",
       "    }\n",
       "\n",
       "    .dataframe tbody tr th {\n",
       "        vertical-align: top;\n",
       "    }\n",
       "\n",
       "    .dataframe thead th {\n",
       "        text-align: right;\n",
       "    }\n",
       "</style>\n",
       "<table border=\"1\" class=\"dataframe\">\n",
       "  <thead>\n",
       "    <tr style=\"text-align: right;\">\n",
       "      <th></th>\n",
       "      <th>x</th>\n",
       "      <th>u</th>\n",
       "      <th>y</th>\n",
       "      <th>yhat1</th>\n",
       "      <th>yhat2</th>\n",
       "      <th>uhat1</th>\n",
       "      <th>uhat2</th>\n",
       "    </tr>\n",
       "  </thead>\n",
       "  <tbody>\n",
       "    <tr>\n",
       "      <th>count</th>\n",
       "      <td>10000.000000</td>\n",
       "      <td>10000.000000</td>\n",
       "      <td>10000.000000</td>\n",
       "      <td>10000.000000</td>\n",
       "      <td>10000.000000</td>\n",
       "      <td>1.000000e+04</td>\n",
       "      <td>1.000000e+04</td>\n",
       "    </tr>\n",
       "    <tr>\n",
       "      <th>mean</th>\n",
       "      <td>0.009773</td>\n",
       "      <td>0.009435</td>\n",
       "      <td>0.166975</td>\n",
       "      <td>0.166975</td>\n",
       "      <td>0.166975</td>\n",
       "      <td>-2.120970e-16</td>\n",
       "      <td>-2.120970e-16</td>\n",
       "    </tr>\n",
       "    <tr>\n",
       "      <th>std</th>\n",
       "      <td>0.998836</td>\n",
       "      <td>1.001239</td>\n",
       "      <td>13.289365</td>\n",
       "      <td>5.682040</td>\n",
       "      <td>5.682040</td>\n",
       "      <td>1.201339e+01</td>\n",
       "      <td>1.201339e+01</td>\n",
       "    </tr>\n",
       "    <tr>\n",
       "      <th>min</th>\n",
       "      <td>-3.656440</td>\n",
       "      <td>-3.451403</td>\n",
       "      <td>-50.654682</td>\n",
       "      <td>-20.688875</td>\n",
       "      <td>-20.688875</td>\n",
       "      <td>-4.142425e+01</td>\n",
       "      <td>-4.142425e+01</td>\n",
       "    </tr>\n",
       "    <tr>\n",
       "      <th>25%</th>\n",
       "      <td>-0.662925</td>\n",
       "      <td>-0.672294</td>\n",
       "      <td>-8.827691</td>\n",
       "      <td>-3.659775</td>\n",
       "      <td>-3.659775</td>\n",
       "      <td>-8.199882e+00</td>\n",
       "      <td>-8.199882e+00</td>\n",
       "    </tr>\n",
       "    <tr>\n",
       "      <th>50%</th>\n",
       "      <td>0.008454</td>\n",
       "      <td>0.018803</td>\n",
       "      <td>0.242724</td>\n",
       "      <td>0.159473</td>\n",
       "      <td>0.159473</td>\n",
       "      <td>4.497835e-02</td>\n",
       "      <td>4.497835e-02</td>\n",
       "    </tr>\n",
       "    <tr>\n",
       "      <th>75%</th>\n",
       "      <td>0.671809</td>\n",
       "      <td>0.688683</td>\n",
       "      <td>9.232769</td>\n",
       "      <td>3.933075</td>\n",
       "      <td>3.933075</td>\n",
       "      <td>8.147307e+00</td>\n",
       "      <td>8.147307e+00</td>\n",
       "    </tr>\n",
       "    <tr>\n",
       "      <th>max</th>\n",
       "      <td>4.026849</td>\n",
       "      <td>4.168118</td>\n",
       "      <td>48.162716</td>\n",
       "      <td>23.018769</td>\n",
       "      <td>23.018769</td>\n",
       "      <td>5.000751e+01</td>\n",
       "      <td>5.000751e+01</td>\n",
       "    </tr>\n",
       "  </tbody>\n",
       "</table>\n",
       "</div>"
      ],
      "text/plain": [
       "                  x             u             y         yhat1         yhat2  \\\n",
       "count  10000.000000  10000.000000  10000.000000  10000.000000  10000.000000   \n",
       "mean       0.009773      0.009435      0.166975      0.166975      0.166975   \n",
       "std        0.998836      1.001239     13.289365      5.682040      5.682040   \n",
       "min       -3.656440     -3.451403    -50.654682    -20.688875    -20.688875   \n",
       "25%       -0.662925     -0.672294     -8.827691     -3.659775     -3.659775   \n",
       "50%        0.008454      0.018803      0.242724      0.159473      0.159473   \n",
       "75%        0.671809      0.688683      9.232769      3.933075      3.933075   \n",
       "max        4.026849      4.168118     48.162716     23.018769     23.018769   \n",
       "\n",
       "              uhat1         uhat2  \n",
       "count  1.000000e+04  1.000000e+04  \n",
       "mean  -2.120970e-16 -2.120970e-16  \n",
       "std    1.201339e+01  1.201339e+01  \n",
       "min   -4.142425e+01 -4.142425e+01  \n",
       "25%   -8.199882e+00 -8.199882e+00  \n",
       "50%    4.497835e-02  4.497835e-02  \n",
       "75%    8.147307e+00  8.147307e+00  \n",
       "max    5.000751e+01  5.000751e+01  "
      ]
     },
     "execution_count": 6,
     "metadata": {},
     "output_type": "execute_result"
    }
   ],
   "source": [
    "# Fit model\n",
    "reg_tb = sm.OLS.from_formula('y ~ x', data = tb).fit()\n",
    "\n",
    "# Show model summary\n",
    "print(reg_tb.params)\n",
    "\n",
    "# Construct variables\n",
    "tb['yhat1'] = reg_tb.predict(tb)\n",
    "tb['yhat2'] = reg_tb.params[0] + reg_tb.params[1]*tb['x']\n",
    "tb['uhat1'] = reg_tb.resid\n",
    "tb['uhat2'] = tb['y'] - tb['yhat2']\n",
    "\n",
    "# Describe dataset\n",
    "tb.describe()"
   ]
  },
  {
   "cell_type": "code",
   "execution_count": 6,
   "metadata": {
    "id": "L5KHZrlwl_Ix"
   },
   "outputs": [],
   "source": []
  },
  {
   "cell_type": "code",
   "execution_count": 7,
   "metadata": {
    "id": "vYZq4TDkl_Ix"
   },
   "outputs": [
    {
     "data": {
      "text/html": [
       "<div>\n",
       "<style scoped>\n",
       "    .dataframe tbody tr th:only-of-type {\n",
       "        vertical-align: middle;\n",
       "    }\n",
       "\n",
       "    .dataframe tbody tr th {\n",
       "        vertical-align: top;\n",
       "    }\n",
       "\n",
       "    .dataframe thead th {\n",
       "        text-align: right;\n",
       "    }\n",
       "</style>\n",
       "<table border=\"1\" class=\"dataframe\">\n",
       "  <thead>\n",
       "    <tr style=\"text-align: right;\">\n",
       "      <th></th>\n",
       "      <th>x</th>\n",
       "      <th>u</th>\n",
       "      <th>y</th>\n",
       "      <th>yhat1</th>\n",
       "      <th>yhat2</th>\n",
       "      <th>uhat1</th>\n",
       "      <th>uhat2</th>\n",
       "    </tr>\n",
       "  </thead>\n",
       "  <tbody>\n",
       "    <tr>\n",
       "      <th>count</th>\n",
       "      <td>10000.000000</td>\n",
       "      <td>10000.000000</td>\n",
       "      <td>10000.000000</td>\n",
       "      <td>10000.000000</td>\n",
       "      <td>10000.000000</td>\n",
       "      <td>1.000000e+04</td>\n",
       "      <td>1.000000e+04</td>\n",
       "    </tr>\n",
       "    <tr>\n",
       "      <th>mean</th>\n",
       "      <td>0.009773</td>\n",
       "      <td>0.009435</td>\n",
       "      <td>0.166975</td>\n",
       "      <td>0.166975</td>\n",
       "      <td>0.166975</td>\n",
       "      <td>-1.268319e-16</td>\n",
       "      <td>-1.268319e-16</td>\n",
       "    </tr>\n",
       "    <tr>\n",
       "      <th>std</th>\n",
       "      <td>0.998836</td>\n",
       "      <td>1.001239</td>\n",
       "      <td>13.289365</td>\n",
       "      <td>5.682040</td>\n",
       "      <td>5.682040</td>\n",
       "      <td>1.201339e+01</td>\n",
       "      <td>1.201339e+01</td>\n",
       "    </tr>\n",
       "    <tr>\n",
       "      <th>min</th>\n",
       "      <td>-3.656440</td>\n",
       "      <td>-3.451403</td>\n",
       "      <td>-50.654682</td>\n",
       "      <td>-20.688875</td>\n",
       "      <td>-20.688875</td>\n",
       "      <td>-4.142425e+01</td>\n",
       "      <td>-4.142425e+01</td>\n",
       "    </tr>\n",
       "    <tr>\n",
       "      <th>25%</th>\n",
       "      <td>-0.662925</td>\n",
       "      <td>-0.672294</td>\n",
       "      <td>-8.827691</td>\n",
       "      <td>-3.659775</td>\n",
       "      <td>-3.659775</td>\n",
       "      <td>-8.199882e+00</td>\n",
       "      <td>-8.199882e+00</td>\n",
       "    </tr>\n",
       "    <tr>\n",
       "      <th>50%</th>\n",
       "      <td>0.008454</td>\n",
       "      <td>0.018803</td>\n",
       "      <td>0.242724</td>\n",
       "      <td>0.159473</td>\n",
       "      <td>0.159473</td>\n",
       "      <td>4.497835e-02</td>\n",
       "      <td>4.497835e-02</td>\n",
       "    </tr>\n",
       "    <tr>\n",
       "      <th>75%</th>\n",
       "      <td>0.671809</td>\n",
       "      <td>0.688683</td>\n",
       "      <td>9.232769</td>\n",
       "      <td>3.933075</td>\n",
       "      <td>3.933075</td>\n",
       "      <td>8.147307e+00</td>\n",
       "      <td>8.147307e+00</td>\n",
       "    </tr>\n",
       "    <tr>\n",
       "      <th>max</th>\n",
       "      <td>4.026849</td>\n",
       "      <td>4.168118</td>\n",
       "      <td>48.162716</td>\n",
       "      <td>23.018769</td>\n",
       "      <td>23.018769</td>\n",
       "      <td>5.000751e+01</td>\n",
       "      <td>5.000751e+01</td>\n",
       "    </tr>\n",
       "  </tbody>\n",
       "</table>\n",
       "</div>"
      ],
      "text/plain": [
       "                  x             u             y         yhat1         yhat2  \\\n",
       "count  10000.000000  10000.000000  10000.000000  10000.000000  10000.000000   \n",
       "mean       0.009773      0.009435      0.166975      0.166975      0.166975   \n",
       "std        0.998836      1.001239     13.289365      5.682040      5.682040   \n",
       "min       -3.656440     -3.451403    -50.654682    -20.688875    -20.688875   \n",
       "25%       -0.662925     -0.672294     -8.827691     -3.659775     -3.659775   \n",
       "50%        0.008454      0.018803      0.242724      0.159473      0.159473   \n",
       "75%        0.671809      0.688683      9.232769      3.933075      3.933075   \n",
       "max        4.026849      4.168118     48.162716     23.018769     23.018769   \n",
       "\n",
       "              uhat1         uhat2  \n",
       "count  1.000000e+04  1.000000e+04  \n",
       "mean  -1.268319e-16 -1.268319e-16  \n",
       "std    1.201339e+01  1.201339e+01  \n",
       "min   -4.142425e+01 -4.142425e+01  \n",
       "25%   -8.199882e+00 -8.199882e+00  \n",
       "50%    4.497835e-02  4.497835e-02  \n",
       "75%    8.147307e+00  8.147307e+00  \n",
       "max    5.000751e+01  5.000751e+01  "
      ]
     },
     "execution_count": 7,
     "metadata": {},
     "output_type": "execute_result"
    }
   ],
   "source": []
  },
  {
   "cell_type": "code",
   "execution_count": 8,
   "metadata": {
    "id": "6eTlkgzRl_Iy"
   },
   "outputs": [
    {
     "data": {
      "image/png": "[encoded data removed]",
      "text/plain": [
       "<Figure size 720x504 with 1 Axes>"
      ]
     },
     "metadata": {
      "needs_background": "light"
     },
     "output_type": "display_data"
    }
   ],
   "source": [
    "# Create figure\n",
    "fig, ax = plt.subplots(figsize = (10, 7))\n",
    "\n",
    "# Add scatterplot\n",
    "plt.scatter(tb.x, tb.y, color = 'black', s=3)\n",
    "\n",
    "# Create line-of-best fit and add to plot\n",
    "m, b = np.polyfit(tb.x, tb.y, deg = 1)\n",
    "ax.plot(tb.x, m*tb.x + b)\n",
    "\n",
    "# Display slope and intercept on plot\n",
    "ax.text(2.5, -20, \"Slope = {:.2f}\".format(m), size = 15)\n",
    "ax.text(2.5, -25, \"Intercept = {:.2f}\".format(b), size = 15)\n",
    "\n",
    "# Customize the plot by adding title and gridlines\n",
    "ax.set_title('OLS Regression Line', size = 25)\n",
    "ax.grid()\n",
    "\n",
    "# Show plot\n",
    "plt.show()"
   ]
  },
  {
   "cell_type": "markdown",
   "metadata": {
    "id": "nS-Leknal_Iy"
   },
   "source": [
    "#### Questions:\n",
    "\n",
    "-   What is the predicted value of $y$ when $x = 0$?\n",
    "-   How much do we estimate $y$ increases by when $x$ increases by one unit?\n",
    "-   Assume we y was the natural log of some variable, and x was the natural log of some variable.  How do we interpret the coefficient on $x$ if it is a log-log regression?"
   ]
  },
  {
   "cell_type": "code",
   "execution_count": 13,
   "metadata": {
    "id": "HBOMVLmTl_Iz"
   },
   "outputs": [
    {
     "name": "stdout",
     "output_type": "stream",
     "text": [
      "               x          u           y       yhat1         uhat1\n",
      "count  10.000000  10.000000   10.000000   10.000000  1.000000e+01\n",
      "mean   -0.874268  -6.105182  -14.833168  -14.833168 -1.421085e-15\n",
      "std    11.297856  37.914691  101.335642   83.608653  5.725823e+01\n",
      "min   -20.713848 -74.165066 -164.847554 -161.654001 -1.157391e+02\n",
      "25%    -6.514599 -27.158666  -76.974311  -56.573870 -1.883015e+01\n",
      "50%    -3.498940  -8.907217  -12.910615  -34.256787  1.319349e+01\n",
      "75%     6.559339  16.115934   35.096043   40.178503  4.277999e+01\n",
      "max    15.703306  52.635886  149.129096  107.847514  6.020189e+01\n"
     ]
    },
    {
     "data": {
      "text/plain": [
       "x        9.772657e+01\n",
       "u        9.435413e+01\n",
       "y        1.669746e+03\n",
       "yhat1    1.669746e+03\n",
       "yhat2    1.669746e+03\n",
       "uhat1   -1.691092e-12\n",
       "uhat2   -1.691092e-12\n",
       "dtype: float64"
      ]
     },
     "execution_count": 13,
     "metadata": {},
     "output_type": "execute_result"
    }
   ],
   "source": [
    "# Set seed\n",
    "np.random.seed(1)\n",
    "\n",
    "# Set observations\n",
    "obs = 10\n",
    "\n",
    "# Construct dataset\n",
    "tb2 = pd.DataFrame({\n",
    "    'x': 9*np.random.normal(size = obs),\n",
    "    'u': 36*np.random.normal(size = obs)})\n",
    "tb2['y'] = 3*tb2['x'].values + 2*tb2['u'].values\n",
    "\n",
    "# Fit model\n",
    "reg_tb2 = sm.OLS.from_formula('y ~ x', data = tb2).fit()\n",
    "\n",
    "tb2['yhat1'] = reg_tb2.predict(tb2)\n",
    "tb2['uhat1'] = reg_tb2.resid\n",
    "\n",
    "# Describe dataset\n",
    "print(tb2.describe())"
   ]
  },
  {
   "cell_type": "markdown",
   "metadata": {
    "id": "865kCjpZl_Iz"
   },
   "source": [
    "#### Questions\n",
    "\n",
    "-   What is the average of the residuals $\\hat{u}$ from our regression?"
   ]
  },
  {
   "cell_type": "code",
   "execution_count": 15,
   "metadata": {
    "id": "pqOZxNP7l_Iz"
   },
   "outputs": [],
   "source": [
    "# Set seed\n",
    "np.random.seed(1)\n",
    "\n",
    "# Run 1000 simulations of OLS\n",
    "coefs = np.zeros(1000)\n",
    "for i in range(1000):\n",
    "    tb2 = pd.DataFrame({\n",
    "    'x': 9*np.random.normal(size=10000),\n",
    "    'u': 36*np.random.normal(size=10000)})\n",
    "    tb2['y'] = 3 + 2*tb2['x'].values + tb2['u'].values\n",
    "\n",
    "    reg_tb2 = sm.OLS.from_formula('y ~ x', data = tb2).fit()\n",
    "\n",
    "    coefs[i] = reg_tb2.params['x']\n",
    "\n"
   ]
  },
  {
   "cell_type": "code",
   "execution_count": 42,
   "metadata": {},
   "outputs": [
    {
     "data": {
      "image/png": "[encoded data removed]",
      "text/plain": [
       "<Figure size 720x504 with 1 Axes>"
      ]
     },
     "metadata": {
      "needs_background": "light"
     },
     "output_type": "display_data"
    }
   ],
   "source": []
  },
  {
   "cell_type": "markdown",
   "metadata": {
    "id": "j7dFDUfMl_I0"
   },
   "source": [
    "#### Questions\n",
    "\n",
    "-   Explain the concept of unbiasedness in the context of this simulation?  \n",
    "-   On average, do we think the estimate is close to the true value of $\\beta_1 = 2$?"
   ]
  },
  {
   "cell_type": "code",
   "execution_count": 27,
   "metadata": {
    "id": "t6Vg1rmPl_I0"
   },
   "outputs": [
    {
     "data": {
      "image/png": "[encoded data removed]",
      "text/plain": [
       "<Figure size 720x504 with 1 Axes>"
      ]
     },
     "metadata": {},
     "output_type": "display_data"
    }
   ],
   "source": [
    "# Load data\n",
    "auto = pd.read_stata('https://raw.github.com/scunning1975/mixtape/master/auto.dta')\n",
    "auto['length'] = auto['length'] - auto['length'].mean()\n",
    "\n",
    "# Fit models\n",
    "lm1 = sm.OLS.from_formula('price ~ length', data = auto).fit()\n",
    "lm2 = sm.OLS.from_formula('price ~ length + weight + headroom + mpg', data = auto).fit()\n",
    "\n",
    "# Extract parameters\n",
    "coef_lm1 = lm1.params\n",
    "coef_lm2 = lm2.params\n",
    "resid_lm2 = lm2.resid\n",
    "\n",
    "# Construct variables\n",
    "auto['y_single'] = coef_lm1[0] + coef_lm1[1] * auto['length']\n",
    "auto['y_multi'] = coef_lm1[0] + coef_lm2[1] * auto['length']\n",
    "\n",
    "# Create figure\n",
    "fig, ax = plt.subplots(figsize = (10, 7))\n",
    "\n",
    "# Add scatterplot of length vs. price\n",
    "auto.plot(\n",
    "    ax=ax,\n",
    "    kind = \"scatter\", \n",
    "    x = 'length', \n",
    "    y = 'price', \n",
    "    color='k')\n",
    "# Create the lines-of-best-fit and add them to the plot\n",
    "m1, b1 = np.polyfit(x = auto['length'], y = auto['y_multi'], deg = 1)\n",
    "ax.plot(auto['length'], m1 * auto['length']  + b1, color = 'blue')\n",
    "\n",
    "m2, b2 = np.polyfit(x = auto['length'], y = auto['y_single'], deg = 1)\n",
    "ax.plot(auto['length'], m2 * auto['length']  + b2, color = 'red')\n",
    "\n",
    "#Customize the figure by adding gridlines and setting axis labels\n",
    "ax.grid()\n",
    "ax.set_xlabel('Length')\n",
    "ax.set_ylabel('Price')\n",
    "\n",
    "# Show figure\n",
    "plt.grid(True)\n",
    "plt.show()"
   ]
  },
  {
   "cell_type": "markdown",
   "metadata": {
    "id": "XScGvIm8l_I1"
   },
   "source": [
    "#### Questions\n",
    "\n",
    "-   What happened to the coefficient on length after controlling for weight, headroom, and mpg in the regression?\n",
    "\n",
    "## Clustering Standard Errors\n",
    "\n",
    "### Cluster robust standard errors\n",
    "\n",
    "People will try to scare you by challenging how you constructed your standard errors. Heteroskedastic errors, though, aren't the only thing you should be worried about when it comes to inference. Some phenomena do not affect observations individually, but they do affect groups of observations that involve individuals. And then they affect those individuals within the group in a common way. Say you want to estimate the effect of class size on student achievement, but you know that there exist unobservable things (like the teacher) that affect all the students equally. If we can commit to independence of these unobservables across classes, but individual student unobservables are correlated within a class, then we have a situation in which we need to cluster the standard errors. Before we dive into an example, I'd like to start with a simulation to illustrate the problem.\n",
    "\n",
    "As a baseline for this simulation, let's begin by simulating nonclustered data and analyze least squares estimates of that nonclustered data. This will help firm up our understanding of the problems that occur with least squares when data is clustered.\n",
    "\n",
    "First, I will create a function to generate our Monte Carlo simulation."
   ]
  },
  {
   "cell_type": "code",
   "execution_count": 28,
   "metadata": {
    "id": "tQJJ7nc0l_I1"
   },
   "outputs": [],
   "source": [
    "def gen_cluster(param = (.1, .5), n = 1000, n_cluster = 50, rho = .5):\n",
    "    # Function to generate clustered data\n",
    "\n",
    "    # individual level\n",
    "    Sigma_i = np.array((1, 0, 0, 1 - rho)).reshape(2,2)\n",
    "\n",
    "    values_i = np.random.multivariate_normal(np.zeros(2), Sigma_i, size = n)\n",
    "\n",
    "    # cluster level\n",
    "    cluster_name = np.repeat(np.arange(1, n_cluster+1), repeats = n / n_cluster)\n",
    "    Sigma_cl = np.array((1, 0, 0, rho)).reshape(2,2)\n",
    "    values_cl = np.random.multivariate_normal(np.zeros(2),Sigma_cl, size = n_cluster)\n",
    "\n",
    "    # predictor var consists of individual- and cluster-level components\n",
    "    x = values_i[: , 0] + np.repeat(values_cl[: , 0], repeats = n / n_cluster)\n",
    "\n",
    "    # error consists of individual- and cluster-level components\n",
    "    error = values_i[: , 1] + np.repeat(values_cl[: , 1], repeats = n / n_cluster)\n",
    "\n",
    "    # data generating process\n",
    "    y = param[0] + param[1]*x + error\n",
    "    \n",
    "    df = pd.DataFrame({'x':x, 'y':y, 'cluster': cluster_name})\n",
    "    return df\n",
    "\n",
    "def cluster_sim(param = (.1, .5), n = 1000, n_cluster = 50,\n",
    "                        rho = .5, cluster_robust = False):\n",
    "\n",
    "    df = gen_cluster(param = param, n = n , n_cluster = n_cluster, rho = rho)\n",
    "\n",
    "    if not cluster_robust:\n",
    "        fit = sm.OLS.from_formula('y ~ x', data = df).fit()\n",
    "    else: # cluster-robust SE\n",
    "        fit = sm.OLS.from_formula('y ~ x', data = df).fit(cov_type='cluster', cov_kwds={'groups': df['cluster']})\n",
    "    \n",
    "    b1 = fit.params[1]\n",
    "    Sigma = fit.cov_params()   \n",
    "    \n",
    "    se = np.sqrt(np.diag(Sigma)[1])\n",
    "    ci95 = se*1.96\n",
    "    b1_ci95 = (b1-ci95, b1+ci95)\n",
    "\n",
    "\n",
    "    return (b1, se, *b1_ci95)\n",
    "\n",
    "n_sims = 1000\n",
    "param = (.1, .5)\n",
    "n = 1000\n",
    "n_cluster = 50\n",
    "rho = .5\n",
    "cluster_robust = True\n",
    "\n",
    "def run_cluster_sim(n_sims = 1000, param = (.1, .5), n = 1000,\n",
    "                            n_cluster = 50, rho = .5, cluster_robust = False):\n",
    "\n",
    "    res = [cluster_sim(param = param, n = n, rho = rho,\n",
    "                                      n_cluster = n_cluster,\n",
    "                                      cluster_robust = cluster_robust) for x in range(n_sims)]\n",
    "    df = pd.DataFrame(res)\n",
    "    df.columns = ('b1', 'se_b1', 'ci95_lower', 'ci95_upper')\n",
    "    df['param_caught'] = (df['ci95_lower'] <= param[1]) & (param[1] <= df['ci95_upper'])\n",
    "    df['id'] = df.index\n",
    "    return df\n"
   ]
  },
  {
   "cell_type": "code",
   "execution_count": 29,
   "metadata": {
    "id": "yGdSiZuTl_I2"
   },
   "outputs": [],
   "source": [
    "# Simulation no clustered SE\n",
    "sim_params = [.4, 0] # beta1 = 0: no effect of x on y\n",
    "sim_nocluster = run_cluster_sim(n_sims=1000, param = sim_params, rho=0, cluster_robust = False)"
   ]
  },
  {
   "cell_type": "code",
   "execution_count": 41,
   "metadata": {
    "id": "mV7KMJbwl_I2"
   },
   "outputs": [
    {
     "data": {
      "text/plain": [
       "<matplotlib.lines.Line2D at 0x7ff5687fcc40>"
      ]
     },
     "execution_count": 41,
     "metadata": {},
     "output_type": "execute_result"
    },
    {
     "data": {
      "image/png": "[encoded data removed]",
      "text/plain": [
       "<Figure size 432x288 with 1 Axes>"
      ]
     },
     "metadata": {},
     "output_type": "display_data"
    }
   ],
   "source": [
    "sim_nocluster['b1'].plot(\n",
    "  kind='hist', \n",
    "  color = '#595959',\n",
    "  edgecolor='k',\n",
    "  bins=25 )\n",
    "plt.axvline(x=sim_params[1], color='red')"
   ]
  },
  {
   "cell_type": "code",
   "execution_count": null,
   "metadata": {
    "id": "pXOBEfZJl_I2"
   },
   "outputs": [],
   "source": [
    "sim_nocluster.sample(100).sort_values('b1')"
   ]
  },
  {
   "cell_type": "code",
   "execution_count": null,
   "metadata": {
    "id": "C9jOCRwQl_I3"
   },
   "outputs": [],
   "source": [
    "p.ggplot(sim_nocluster.sample(100).sort_values('b1'),\n",
    "                         p.aes(x = 'factor(id)', y = 'b1', \n",
    "                             ymin = 'ci95_lower', ymax = 'ci95_upper',\n",
    "                             color = 'param_caught')) +\\\n",
    "  p.geom_hline(yintercept = sim_params[1], linetype = 'dashed') +\\\n",
    "  p.geom_pointrange() +\\\n",
    "  p.labs(x = 'sim ID', y = 'b1', title = 'Randomly Chosen 100 95% CIs') +\\\n",
    "  p.scale_color_discrete(name = 'True param value', labels = ('missed', 'hit')) +\\\n",
    "  p.coord_flip()"
   ]
  },
  {
   "cell_type": "code",
   "execution_count": null,
   "metadata": {
    "id": "q5-Utfx8l_I3"
   },
   "outputs": [],
   "source": [
    "1 - sum(sim_nocluster.param_caught)/sim_nocluster.shape[0]"
   ]
  },
  {
   "cell_type": "markdown",
   "metadata": {
    "id": "nAUJgCbgl_I3"
   },
   "source": [
    "#### Questions:\n",
    "\n",
    "-   What point does the least squares estimate appear to be centered on?\n",
    "-   Setting the significance level at 5%, we should incorrectly reject the null that $\\beta_1=0$ about 5% of the time in our simulations. About what percent of the time does the 95% confidence intervals contain the true value of $\\beta_1 = 0$?\n",
    "\n",
    "### Case 2: Clustered Data\n",
    "\n",
    "Now let's resimulate our data with observations that are no longer independent draws in a given cluster of observations, but the true value of $\\beta_1$ still is 0."
   ]
  },
  {
   "cell_type": "code",
   "execution_count": null,
   "metadata": {
    "id": "yRAMNkbCl_I3"
   },
   "outputs": [],
   "source": [
    "# Simulation clustered SE\n",
    "sim_params = [.4, 0] # beta1 = 0: no effect of x on y\n",
    "sim_nocluster = run_cluster_sim(n_sims=1000, param = sim_params, cluster_robust = False)"
   ]
  },
  {
   "cell_type": "code",
   "execution_count": null,
   "metadata": {
    "id": "neQP1V0gl_I3"
   },
   "outputs": [],
   "source": []
  },
  {
   "cell_type": "code",
   "execution_count": null,
   "metadata": {
    "id": "VTq015tcl_I3"
   },
   "outputs": [],
   "source": [
    "p.ggplot(sim_nocluster, p.aes('b1')) +\\\n",
    "  p.geom_histogram(color = 'black') +\\\n",
    "  p.geom_vline(xintercept = sim_params[1], color = 'red')"
   ]
  },
  {
   "cell_type": "code",
   "execution_count": null,
   "metadata": {
    "id": "Q4KbVIMzl_I3"
   },
   "outputs": [],
   "source": [
    "p.ggplot(sim_nocluster.sample(100).sort_values('b1'),\n",
    "                         p.aes(x = 'factor(id)', y = 'b1', \n",
    "                             ymin = 'ci95_lower', ymax = 'ci95_upper',\n",
    "                             color = 'param_caught')) +\\\n",
    "  p.geom_hline(yintercept = sim_params[1], linetype = 'dashed') +\\\n",
    "  p.geom_pointrange() +\\\n",
    "  p.labs(x = 'sim ID', y = 'b1', title = 'Randomly Chosen 100 95% CIs') +\\\n",
    "  p.scale_color_discrete(name = 'True param value', labels = ('missed', 'hit')) +\\\n",
    "  p.coord_flip()"
   ]
  },
  {
   "cell_type": "code",
   "execution_count": null,
   "metadata": {
    "id": "YPUPbS37l_I3"
   },
   "outputs": [],
   "source": [
    "1 - sum(sim_nocluster.param_caught)/sim_nocluster.shape[0]"
   ]
  },
  {
   "cell_type": "markdown",
   "metadata": {
    "id": "meBO1vCtl_I3"
   },
   "source": [
    "#### Questions:\n",
    "\n",
    "-   When the errors are clustered, does the distribution of $\\hat{\\beta}_1$ estimates get wider or narrower?\n",
    "-   When the errors are clustered, do we incorrectly reject the null more or less frequently?"
   ]
  }
 ],
 "metadata": {
  "colab": {
   "name": "Probability_and_Regression.ipynb",
   "provenance": []
  },
  "kernelspec": {
   "display_name": "Python 3",
   "language": "python",
   "name": "python3"
  },
  "language_info": {
   "codemirror_mode": {
    "name": "ipython",
    "version": 3
   },
   "file_extension": ".py",
   "mimetype": "text/x-python",
   "name": "python",
   "nbconvert_exporter": "python",
   "pygments_lexer": "ipython3",
   "version": "3.8.8"
  }
 },
 "nbformat": 4,
 "nbformat_minor": 1
}
